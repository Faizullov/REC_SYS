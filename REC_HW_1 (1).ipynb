{
  "nbformat": 4,
  "nbformat_minor": 0,
  "metadata": {
    "colab": {
      "provenance": []
    },
    "kernelspec": {
      "name": "python3",
      "display_name": "Python 3"
    },
    "language_info": {
      "name": "python"
    }
  },
  "cells": [
    {
      "cell_type": "markdown",
      "source": [
        "## Работа по рекомендательным системам №1\n",
        "\n",
        "## Файзуллов Айрат"
      ],
      "metadata": {
        "id": "ARRKAnJUqH1L"
      }
    },
    {
      "cell_type": "markdown",
      "source": [
        "Нужно самостоятельно реализовать колоборативную фильтрацию методами:\n",
        "1. Knn нужно реализовать 2 базовых метода\n",
        "1.1. Простой KNN (в библиотеке surprise называется KNNBasic)\n",
        "1.2. Непараметрическая регрессия Надарайя-Ватсона (в библиотеке surprise называется KNNWithMeans)"
      ],
      "metadata": {
        "id": "GRiziB3cqTru"
      }
    },
    {
      "cell_type": "markdown",
      "source": [
        "Опыт с KNN"
      ],
      "metadata": {
        "id": "p8f1oAk53oMW"
      }
    },
    {
      "cell_type": "markdown",
      "source": [],
      "metadata": {
        "id": "PH5clWAV2LVO"
      }
    },
    {
      "cell_type": "code",
      "source": [
        "! unzip ml-100k.zip"
      ],
      "metadata": {
        "id": "A-hlzpbJqPkT",
        "colab": {
          "base_uri": "https://localhost:8080/"
        },
        "outputId": "a43c1151-9992-42a1-fa7d-2a5d4f0d466b"
      },
      "execution_count": 1,
      "outputs": [
        {
          "output_type": "stream",
          "name": "stdout",
          "text": [
            "Archive:  ml-100k.zip\n",
            "   creating: ml-100k/\n",
            "  inflating: ml-100k/allbut.pl       \n",
            "  inflating: ml-100k/mku.sh          \n",
            "  inflating: ml-100k/README          \n",
            "  inflating: ml-100k/u.data          \n",
            "  inflating: ml-100k/u.genre         \n",
            "  inflating: ml-100k/u.info          \n",
            "  inflating: ml-100k/u.item          \n",
            "  inflating: ml-100k/u.occupation    \n",
            "  inflating: ml-100k/u.user          \n",
            "  inflating: ml-100k/u1.base         \n",
            "  inflating: ml-100k/u1.test         \n",
            "  inflating: ml-100k/u2.base         \n",
            "  inflating: ml-100k/u2.test         \n",
            "  inflating: ml-100k/u3.base         \n",
            "  inflating: ml-100k/u3.test         \n",
            "  inflating: ml-100k/u4.base         \n",
            "  inflating: ml-100k/u4.test         \n",
            "  inflating: ml-100k/u5.base         \n",
            "  inflating: ml-100k/u5.test         \n",
            "  inflating: ml-100k/ua.base         \n",
            "  inflating: ml-100k/ua.test         \n",
            "  inflating: ml-100k/ub.base         \n",
            "  inflating: ml-100k/ub.test         \n"
          ]
        }
      ]
    },
    {
      "cell_type": "code",
      "source": [
        "import pandas as pd\n",
        "import numpy as np"
      ],
      "metadata": {
        "id": "GibZCJp_3uhl"
      },
      "execution_count": 2,
      "outputs": []
    },
    {
      "cell_type": "markdown",
      "source": [
        "### Реализую самостоятельно, Basic KNN"
      ],
      "metadata": {
        "id": "Fo5tEAnntAoK"
      }
    },
    {
      "cell_type": "code",
      "source": [
        "from sklearn.model_selection import train_test_split"
      ],
      "metadata": {
        "id": "E47or9ILtDoK"
      },
      "execution_count": 3,
      "outputs": []
    },
    {
      "cell_type": "code",
      "source": [
        "train_my_X = pd.read_table('ml-100k/ua.base')\n",
        "train_my_X = train_my_X.rename(columns={\"1\": \"userId\", \"1.1\": \"movieId\", \"5\": \"rating\"})\n",
        "train_my_X = train_my_X.drop([\"874965758\"], axis=1)\n",
        "test_my_X = pd.read_table('ml-100k/ua.test')\n",
        "test_my_X = test_my_X.rename(columns={\"1\": \"userId\", \"20\": \"movieId\", \"4\": \"rating\"})\n",
        "test_my_X = test_my_X.drop([\"887431883\"], axis = 1)"
      ],
      "metadata": {
        "id": "r765hzCNyZpd"
      },
      "execution_count": 4,
      "outputs": []
    },
    {
      "cell_type": "code",
      "source": [
        "train_my_Y = train_my_X['rating']\n",
        "test_my_Y = test_my_X['rating']\n",
        "test_my_X = test_my_X.drop(['rating'], axis=1)"
      ],
      "metadata": {
        "id": "f0RHRqEpwAy0"
      },
      "execution_count": 5,
      "outputs": []
    },
    {
      "cell_type": "code",
      "source": [
        "def sim(x, y):\n",
        "  # print(x)\n",
        "  # print('aaa')\n",
        "  # print(y)\n",
        "  # print(len(np.intersect1d(x, y)))\n",
        "  # sem_ret = np.sum(np.multiply(x, y))\n",
        "  # ssq_x = np.sqrt(np.sum(x**2))\n",
        "  # ssq_y = np.sqrt(np.sum(y**2))\n",
        "  return len(np.intersect1d(x, y))\n",
        "\n",
        "def predict_KNN(train_my_X, train_my_Y, test_my_X, n):\n",
        "  ret_arr_pred = np.array([])\n",
        "  for i in test_my_X.index:\n",
        "    user_id = test_my_X['userId'][i]\n",
        "    movie_id = test_my_X['movieId'][i]\n",
        "    x = np.array(train_my_X[train_my_X['userId'] == user_id]['movieId'])\n",
        "    df_to_knn = train_my_X[train_my_X['movieId'] == movie_id].drop_duplicates()\n",
        "    arr_sim = []\n",
        "\n",
        "    # user_ids_y = df_to_knn['userId'].values\n",
        "    # print(user_ids_y)\n",
        "    # mask = np.isin(train_my_X['userId'], user_ids_y)\n",
        "    # filtered_train_my_X = train_my_X[mask]\n",
        "    # print(filtered_train_my_X)\n",
        "    # y_matrix = filtered_train_my_X.groupby('userId')['movieId'].apply(list).loc[user_ids_y].values\n",
        "    # similarities = np.array([sim(x, y) for y in y_matrix])\n",
        "    # arr_sim = list(zip(similarities, user_ids_y))\n",
        "    for j in df_to_knn.index:\n",
        "      user_id_y = df_to_knn['userId'][j]\n",
        "      y = np.array(train_my_X[train_my_X['userId'] == user_id_y]['movieId'])\n",
        "      arr_sim.append(tuple((sim(x, y), user_id_y)))\n",
        "    arr_sim.sort(key=lambda a: -a[0])\n",
        "    arr_sim = arr_sim[0:n]\n",
        "    neighb = np.array([x[1] for x in arr_sim])\n",
        "    neighb_sim = np.array([x[0] for x in arr_sim])\n",
        "    neighb_grade = np.array([])\n",
        "    for p in neighb:\n",
        "      grade_tmp = np.array(train_my_Y[train_my_X[train_my_X['userId'] \\\n",
        "                                            == p][train_my_X['movieId'] == movie_id].index])\n",
        "\n",
        "      neighb_grade = np.append(neighb_grade, grade_tmp)\n",
        "\n",
        "    ret_arr_pred = np.append(ret_arr_pred, np.sum(np.multiply(neighb_sim, neighb_grade)) / np.sum(neighb_sim))\n",
        "  return ret_arr_pred"
      ],
      "metadata": {
        "id": "Vy1AdE6DtmA1"
      },
      "execution_count": 92,
      "outputs": []
    },
    {
      "cell_type": "code",
      "source": [
        "import time"
      ],
      "metadata": {
        "id": "C6fGEr_CQ59y"
      },
      "execution_count": 260,
      "outputs": []
    },
    {
      "cell_type": "code",
      "source": [
        "start_time = time.time()\n",
        "res_pred_KNN = predict_KNN(train_my_X, train_my_Y, test_my_X, 15)\n",
        "print(\"--- %s seconds ---\" % (time.time() - start_time))\n",
        "tmp_time_knn = time.time() - start_time\n",
        "# res_pred_KNN.tofile(\"saved-pred-KNN\")\n",
        "# tmp.tofile(\"saved-tmp_time\")"
      ],
      "metadata": {
        "colab": {
          "base_uri": "https://localhost:8080/"
        },
        "id": "LgXpGYc21vJ_",
        "outputId": "1bca05d5-d31f-4caf-8289-b75ec0359a93"
      },
      "execution_count": 93,
      "outputs": [
        {
          "output_type": "stream",
          "name": "stderr",
          "text": [
            "<ipython-input-92-0864db8c7a05>:38: UserWarning: Boolean Series key will be reindexed to match DataFrame index.\n",
            "  grade_tmp = np.array(train_my_Y[train_my_X[train_my_X['userId'] \\\n",
            "<ipython-input-92-0864db8c7a05>:43: RuntimeWarning: invalid value encountered in double_scalars\n",
            "  ret_arr_pred = np.append(ret_arr_pred, np.sum(np.multiply(neighb_sim, neighb_grade)) / np.sum(neighb_sim))\n"
          ]
        },
        {
          "output_type": "stream",
          "name": "stdout",
          "text": [
            "--- 1128.58074092865 seconds ---\n"
          ]
        }
      ]
    },
    {
      "cell_type": "markdown",
      "source": [
        "Предсказание заняли 1128 секунд"
      ],
      "metadata": {
        "id": "JZYdM0k57PI6"
      }
    },
    {
      "cell_type": "code",
      "source": [
        "test_my_KNN = test_my_X.copy()\n",
        "test_my_KNN = test_my_KNN.assign(res_pred = res_pred_KNN, res=test_my_Y)\n",
        "test_my_KNN.head()"
      ],
      "metadata": {
        "colab": {
          "base_uri": "https://localhost:8080/",
          "height": 206
        },
        "id": "NGiar3pQttPH",
        "outputId": "cddfb821-4db9-4447-a7dc-48936bfea3e3"
      },
      "execution_count": 128,
      "outputs": [
        {
          "output_type": "execute_result",
          "data": {
            "text/plain": [
              "   userId  movieId  res_pred  res\n",
              "0       1       33  3.238223    4\n",
              "1       1       61  3.346353    4\n",
              "2       1      117  3.406612    3\n",
              "3       1      155  2.946667    2\n",
              "4       1      160  3.486595    4"
            ],
            "text/html": [
              "\n",
              "  <div id=\"df-cf8b16e4-3a86-4818-9105-ba3521218764\" class=\"colab-df-container\">\n",
              "    <div>\n",
              "<style scoped>\n",
              "    .dataframe tbody tr th:only-of-type {\n",
              "        vertical-align: middle;\n",
              "    }\n",
              "\n",
              "    .dataframe tbody tr th {\n",
              "        vertical-align: top;\n",
              "    }\n",
              "\n",
              "    .dataframe thead th {\n",
              "        text-align: right;\n",
              "    }\n",
              "</style>\n",
              "<table border=\"1\" class=\"dataframe\">\n",
              "  <thead>\n",
              "    <tr style=\"text-align: right;\">\n",
              "      <th></th>\n",
              "      <th>userId</th>\n",
              "      <th>movieId</th>\n",
              "      <th>res_pred</th>\n",
              "      <th>res</th>\n",
              "    </tr>\n",
              "  </thead>\n",
              "  <tbody>\n",
              "    <tr>\n",
              "      <th>0</th>\n",
              "      <td>1</td>\n",
              "      <td>33</td>\n",
              "      <td>3.238223</td>\n",
              "      <td>4</td>\n",
              "    </tr>\n",
              "    <tr>\n",
              "      <th>1</th>\n",
              "      <td>1</td>\n",
              "      <td>61</td>\n",
              "      <td>3.346353</td>\n",
              "      <td>4</td>\n",
              "    </tr>\n",
              "    <tr>\n",
              "      <th>2</th>\n",
              "      <td>1</td>\n",
              "      <td>117</td>\n",
              "      <td>3.406612</td>\n",
              "      <td>3</td>\n",
              "    </tr>\n",
              "    <tr>\n",
              "      <th>3</th>\n",
              "      <td>1</td>\n",
              "      <td>155</td>\n",
              "      <td>2.946667</td>\n",
              "      <td>2</td>\n",
              "    </tr>\n",
              "    <tr>\n",
              "      <th>4</th>\n",
              "      <td>1</td>\n",
              "      <td>160</td>\n",
              "      <td>3.486595</td>\n",
              "      <td>4</td>\n",
              "    </tr>\n",
              "  </tbody>\n",
              "</table>\n",
              "</div>\n",
              "    <div class=\"colab-df-buttons\">\n",
              "\n",
              "  <div class=\"colab-df-container\">\n",
              "    <button class=\"colab-df-convert\" onclick=\"convertToInteractive('df-cf8b16e4-3a86-4818-9105-ba3521218764')\"\n",
              "            title=\"Convert this dataframe to an interactive table.\"\n",
              "            style=\"display:none;\">\n",
              "\n",
              "  <svg xmlns=\"http://www.w3.org/2000/svg\" height=\"24px\" viewBox=\"0 -960 960 960\">\n",
              "    <path d=\"M120-120v-720h720v720H120Zm60-500h600v-160H180v160Zm220 220h160v-160H400v160Zm0 220h160v-160H400v160ZM180-400h160v-160H180v160Zm440 0h160v-160H620v160ZM180-180h160v-160H180v160Zm440 0h160v-160H620v160Z\"/>\n",
              "  </svg>\n",
              "    </button>\n",
              "\n",
              "  <style>\n",
              "    .colab-df-container {\n",
              "      display:flex;\n",
              "      gap: 12px;\n",
              "    }\n",
              "\n",
              "    .colab-df-convert {\n",
              "      background-color: #E8F0FE;\n",
              "      border: none;\n",
              "      border-radius: 50%;\n",
              "      cursor: pointer;\n",
              "      display: none;\n",
              "      fill: #1967D2;\n",
              "      height: 32px;\n",
              "      padding: 0 0 0 0;\n",
              "      width: 32px;\n",
              "    }\n",
              "\n",
              "    .colab-df-convert:hover {\n",
              "      background-color: #E2EBFA;\n",
              "      box-shadow: 0px 1px 2px rgba(60, 64, 67, 0.3), 0px 1px 3px 1px rgba(60, 64, 67, 0.15);\n",
              "      fill: #174EA6;\n",
              "    }\n",
              "\n",
              "    .colab-df-buttons div {\n",
              "      margin-bottom: 4px;\n",
              "    }\n",
              "\n",
              "    [theme=dark] .colab-df-convert {\n",
              "      background-color: #3B4455;\n",
              "      fill: #D2E3FC;\n",
              "    }\n",
              "\n",
              "    [theme=dark] .colab-df-convert:hover {\n",
              "      background-color: #434B5C;\n",
              "      box-shadow: 0px 1px 3px 1px rgba(0, 0, 0, 0.15);\n",
              "      filter: drop-shadow(0px 1px 2px rgba(0, 0, 0, 0.3));\n",
              "      fill: #FFFFFF;\n",
              "    }\n",
              "  </style>\n",
              "\n",
              "    <script>\n",
              "      const buttonEl =\n",
              "        document.querySelector('#df-cf8b16e4-3a86-4818-9105-ba3521218764 button.colab-df-convert');\n",
              "      buttonEl.style.display =\n",
              "        google.colab.kernel.accessAllowed ? 'block' : 'none';\n",
              "\n",
              "      async function convertToInteractive(key) {\n",
              "        const element = document.querySelector('#df-cf8b16e4-3a86-4818-9105-ba3521218764');\n",
              "        const dataTable =\n",
              "          await google.colab.kernel.invokeFunction('convertToInteractive',\n",
              "                                                    [key], {});\n",
              "        if (!dataTable) return;\n",
              "\n",
              "        const docLinkHtml = 'Like what you see? Visit the ' +\n",
              "          '<a target=\"_blank\" href=https://colab.research.google.com/notebooks/data_table.ipynb>data table notebook</a>'\n",
              "          + ' to learn more about interactive tables.';\n",
              "        element.innerHTML = '';\n",
              "        dataTable['output_type'] = 'display_data';\n",
              "        await google.colab.output.renderOutput(dataTable, element);\n",
              "        const docLink = document.createElement('div');\n",
              "        docLink.innerHTML = docLinkHtml;\n",
              "        element.appendChild(docLink);\n",
              "      }\n",
              "    </script>\n",
              "  </div>\n",
              "\n",
              "\n",
              "<div id=\"df-e4e7b6d7-ffe9-4a24-84cd-2e2cc4d584cd\">\n",
              "  <button class=\"colab-df-quickchart\" onclick=\"quickchart('df-e4e7b6d7-ffe9-4a24-84cd-2e2cc4d584cd')\"\n",
              "            title=\"Suggest charts.\"\n",
              "            style=\"display:none;\">\n",
              "\n",
              "<svg xmlns=\"http://www.w3.org/2000/svg\" height=\"24px\"viewBox=\"0 0 24 24\"\n",
              "     width=\"24px\">\n",
              "    <g>\n",
              "        <path d=\"M19 3H5c-1.1 0-2 .9-2 2v14c0 1.1.9 2 2 2h14c1.1 0 2-.9 2-2V5c0-1.1-.9-2-2-2zM9 17H7v-7h2v7zm4 0h-2V7h2v10zm4 0h-2v-4h2v4z\"/>\n",
              "    </g>\n",
              "</svg>\n",
              "  </button>\n",
              "\n",
              "<style>\n",
              "  .colab-df-quickchart {\n",
              "      --bg-color: #E8F0FE;\n",
              "      --fill-color: #1967D2;\n",
              "      --hover-bg-color: #E2EBFA;\n",
              "      --hover-fill-color: #174EA6;\n",
              "      --disabled-fill-color: #AAA;\n",
              "      --disabled-bg-color: #DDD;\n",
              "  }\n",
              "\n",
              "  [theme=dark] .colab-df-quickchart {\n",
              "      --bg-color: #3B4455;\n",
              "      --fill-color: #D2E3FC;\n",
              "      --hover-bg-color: #434B5C;\n",
              "      --hover-fill-color: #FFFFFF;\n",
              "      --disabled-bg-color: #3B4455;\n",
              "      --disabled-fill-color: #666;\n",
              "  }\n",
              "\n",
              "  .colab-df-quickchart {\n",
              "    background-color: var(--bg-color);\n",
              "    border: none;\n",
              "    border-radius: 50%;\n",
              "    cursor: pointer;\n",
              "    display: none;\n",
              "    fill: var(--fill-color);\n",
              "    height: 32px;\n",
              "    padding: 0;\n",
              "    width: 32px;\n",
              "  }\n",
              "\n",
              "  .colab-df-quickchart:hover {\n",
              "    background-color: var(--hover-bg-color);\n",
              "    box-shadow: 0 1px 2px rgba(60, 64, 67, 0.3), 0 1px 3px 1px rgba(60, 64, 67, 0.15);\n",
              "    fill: var(--button-hover-fill-color);\n",
              "  }\n",
              "\n",
              "  .colab-df-quickchart-complete:disabled,\n",
              "  .colab-df-quickchart-complete:disabled:hover {\n",
              "    background-color: var(--disabled-bg-color);\n",
              "    fill: var(--disabled-fill-color);\n",
              "    box-shadow: none;\n",
              "  }\n",
              "\n",
              "  .colab-df-spinner {\n",
              "    border: 2px solid var(--fill-color);\n",
              "    border-color: transparent;\n",
              "    border-bottom-color: var(--fill-color);\n",
              "    animation:\n",
              "      spin 1s steps(1) infinite;\n",
              "  }\n",
              "\n",
              "  @keyframes spin {\n",
              "    0% {\n",
              "      border-color: transparent;\n",
              "      border-bottom-color: var(--fill-color);\n",
              "      border-left-color: var(--fill-color);\n",
              "    }\n",
              "    20% {\n",
              "      border-color: transparent;\n",
              "      border-left-color: var(--fill-color);\n",
              "      border-top-color: var(--fill-color);\n",
              "    }\n",
              "    30% {\n",
              "      border-color: transparent;\n",
              "      border-left-color: var(--fill-color);\n",
              "      border-top-color: var(--fill-color);\n",
              "      border-right-color: var(--fill-color);\n",
              "    }\n",
              "    40% {\n",
              "      border-color: transparent;\n",
              "      border-right-color: var(--fill-color);\n",
              "      border-top-color: var(--fill-color);\n",
              "    }\n",
              "    60% {\n",
              "      border-color: transparent;\n",
              "      border-right-color: var(--fill-color);\n",
              "    }\n",
              "    80% {\n",
              "      border-color: transparent;\n",
              "      border-right-color: var(--fill-color);\n",
              "      border-bottom-color: var(--fill-color);\n",
              "    }\n",
              "    90% {\n",
              "      border-color: transparent;\n",
              "      border-bottom-color: var(--fill-color);\n",
              "    }\n",
              "  }\n",
              "</style>\n",
              "\n",
              "  <script>\n",
              "    async function quickchart(key) {\n",
              "      const quickchartButtonEl =\n",
              "        document.querySelector('#' + key + ' button');\n",
              "      quickchartButtonEl.disabled = true;  // To prevent multiple clicks.\n",
              "      quickchartButtonEl.classList.add('colab-df-spinner');\n",
              "      try {\n",
              "        const charts = await google.colab.kernel.invokeFunction(\n",
              "            'suggestCharts', [key], {});\n",
              "      } catch (error) {\n",
              "        console.error('Error during call to suggestCharts:', error);\n",
              "      }\n",
              "      quickchartButtonEl.classList.remove('colab-df-spinner');\n",
              "      quickchartButtonEl.classList.add('colab-df-quickchart-complete');\n",
              "    }\n",
              "    (() => {\n",
              "      let quickchartButtonEl =\n",
              "        document.querySelector('#df-e4e7b6d7-ffe9-4a24-84cd-2e2cc4d584cd button');\n",
              "      quickchartButtonEl.style.display =\n",
              "        google.colab.kernel.accessAllowed ? 'block' : 'none';\n",
              "    })();\n",
              "  </script>\n",
              "</div>\n",
              "    </div>\n",
              "  </div>\n"
            ]
          },
          "metadata": {},
          "execution_count": 128
        }
      ]
    },
    {
      "cell_type": "code",
      "source": [
        "from sklearn.metrics import mean_squared_error"
      ],
      "metadata": {
        "id": "toZSoO-Evv2n"
      },
      "execution_count": 6,
      "outputs": []
    },
    {
      "cell_type": "code",
      "source": [
        "np.sum(np.isnan(res_pred_KNN))\n",
        "res_pred_KNN = np.where(np.isnan(res_pred_KNN), np.nanmean(res_pred_KNN, axis=0), res_pred_KNN)"
      ],
      "metadata": {
        "id": "DsDyrpcD5qnY"
      },
      "execution_count": 104,
      "outputs": []
    },
    {
      "cell_type": "markdown",
      "source": [
        "Качество по метрике RMSE для Basic KNN с 15 ближайшими соседями"
      ],
      "metadata": {
        "id": "vMgflWbC62ZE"
      }
    },
    {
      "cell_type": "code",
      "source": [
        "mean_squared_error(test_my_Y, res_pred_KNN, squared=False)"
      ],
      "metadata": {
        "colab": {
          "base_uri": "https://localhost:8080/"
        },
        "id": "ntChjO1Gvwkq",
        "outputId": "f8f696c0-0180-410f-81c3-39e9f74a2092"
      },
      "execution_count": 192,
      "outputs": [
        {
          "output_type": "execute_result",
          "data": {
            "text/plain": [
              "1.0641224531922073"
            ]
          },
          "metadata": {},
          "execution_count": 192
        }
      ]
    },
    {
      "cell_type": "markdown",
      "source": [
        "### Опыт с непараметрической регрессией Надарайя-Ватсона\n",
        "\n"
      ],
      "metadata": {
        "id": "jycwBHSjfXBd"
      }
    },
    {
      "cell_type": "code",
      "source": [
        "def sim(x, y):\n",
        "  # print(x)\n",
        "  # print('aaa')\n",
        "  # print(y)res_pred_KNN\n",
        "  # print(len(np.intersect1d(x, y)))\n",
        "  # sem_ret = np.sum(np.multiply(x, y))\n",
        "  # ssq_x = np.sqrt(np.sum(x**2))\n",
        "  # ssq_y = np.sqrt(np.sum(y**2))\n",
        "  return len(np.intersect1d(x, y))\n",
        "\n",
        "def predict_mean_KNN(train_my_X, train_my_Y, test_my_X, n):\n",
        "  ret_arr_pred = np.array([])\n",
        "  for i in test_my_X.index:\n",
        "    user_id = test_my_X['userId'][i]\n",
        "    movie_id = test_my_X['movieId'][i]\n",
        "    x = np.array(train_my_X[train_my_X['userId'] == user_id]['movieId'])\n",
        "    # print(x)\n",
        "    df_to_knn = train_my_X[train_my_X['movieId'] == movie_id].drop_duplicates()\n",
        "    arr_sim = []\n",
        "\n",
        "    # user_ids_y = df_to_knn['userId'].values\n",
        "    # print(user_ids_y)\n",
        "    # mask = np.isin(train_my_X['userId'], user_ids_y)\n",
        "    # filtered_train_my_X = train_my_X[mask]\n",
        "    # print(filtered_train_my_X)\n",
        "    # y_matrix = filtered_train_my_X.groupby('userId')['movieId'].apply(list).loc[user_ids_y].values\n",
        "    # similarities = np.array([sim(x, y) for y in y_matrix])\n",
        "    # arr_sim = list(zip(similarities, user_ids_y))\n",
        "    for j in df_to_knn.index:\n",
        "      user_id_y = df_to_knn['userId'][j]\n",
        "      y = np.array(train_my_X[train_my_X['userId'] == user_id_y]['movieId'])\n",
        "      arr_sim.append(tuple((sim(x, y), user_id_y)))\n",
        "    arr_sim.sort(key=lambda a: -a[0])\n",
        "    arr_sim = arr_sim[0:n]\n",
        "    neighb = np.array([x[1] for x in arr_sim])\n",
        "    neighb_sim = np.array([x[0] for x in arr_sim])\n",
        "    neighb_grade = np.array([])\n",
        "    # print (neighb)\n",
        "    for p in neighb:\n",
        "      grade_tmp = np.array(train_my_Y[train_my_X[train_my_X['userId'] \\\n",
        "                                            == p][train_my_X['movieId'] == movie_id].index])\n",
        "      avg_tmp = np.mean(np.array(train_my_Y[train_my_X[train_my_X['userId'] == p].index]))\n",
        "      neighb_grade = np.append(neighb_grade, grade_tmp - avg_tmp)\n",
        "\n",
        "    avg_tmp_x = np.mean(np.array(train_my_Y[train_my_X[train_my_X['userId'] == user_id].index]))\n",
        "    ret_arr_pred = np.append(ret_arr_pred, avg_tmp_x + np.sum(np.multiply(neighb_sim, neighb_grade)) / np.sum(neighb_sim))\n",
        "  return ret_arr_pred"
      ],
      "metadata": {
        "id": "0My26JGm1KMd"
      },
      "execution_count": 123,
      "outputs": []
    },
    {
      "cell_type": "code",
      "source": [
        "start_time = time.time()\n",
        "res_pred_KNN_mean = predict_mean_KNN(train_my_X, train_my_Y, test_my_X, 15)\n",
        "print(\"--- %s seconds ---\" % (time.time() - start_time))\n",
        "tmp_time_knn_mean = time.time() - start_time"
      ],
      "metadata": {
        "colab": {
          "base_uri": "https://localhost:8080/"
        },
        "id": "BjJyM9wy9EUJ",
        "outputId": "dd54a190-1e77-4f68-8758-1f74713a1739"
      },
      "execution_count": 124,
      "outputs": [
        {
          "output_type": "stream",
          "name": "stderr",
          "text": [
            "<ipython-input-123-fb9d7d127bbb>:40: UserWarning: Boolean Series key will be reindexed to match DataFrame index.\n",
            "  grade_tmp = np.array(train_my_Y[train_my_X[train_my_X['userId'] \\\n",
            "<ipython-input-123-fb9d7d127bbb>:46: RuntimeWarning: invalid value encountered in double_scalars\n",
            "  ret_arr_pred = np.append(ret_arr_pred, avg_tmp_x + np.sum(np.multiply(neighb_sim, neighb_grade)) / np.sum(neighb_sim))\n"
          ]
        },
        {
          "output_type": "stream",
          "name": "stdout",
          "text": [
            "--- 1258.4939787387848 seconds ---\n"
          ]
        }
      ]
    },
    {
      "cell_type": "markdown",
      "source": [
        "Предсказание заняли 1258 секунд"
      ],
      "metadata": {
        "id": "PnsJ0MifK-jW"
      }
    },
    {
      "cell_type": "code",
      "source": [
        "test_my_KNN_mean = test_my_X.copy()\n",
        "test_my_KNN_mean = test_my_KNN_mean.assign(res_pred = res_pred_KNN_mean, res=test_my_Y)\n",
        "test_my_KNN_mean.head()"
      ],
      "metadata": {
        "colab": {
          "base_uri": "https://localhost:8080/",
          "height": 206
        },
        "id": "NSiLmFpLEdSr",
        "outputId": "accb077d-d861-4f7c-cf0a-e3398d5235a2"
      },
      "execution_count": 130,
      "outputs": [
        {
          "output_type": "execute_result",
          "data": {
            "text/plain": [
              "   userId  movieId  res_pred  res\n",
              "0       1       33  3.600019    4\n",
              "1       1       61  3.643825    4\n",
              "2       1      117  3.705422    3\n",
              "3       1      155  3.231179    2\n",
              "4       1      160  3.850063    4"
            ],
            "text/html": [
              "\n",
              "  <div id=\"df-7d1cd40f-927d-4c18-b13f-7f74bb972d3b\" class=\"colab-df-container\">\n",
              "    <div>\n",
              "<style scoped>\n",
              "    .dataframe tbody tr th:only-of-type {\n",
              "        vertical-align: middle;\n",
              "    }\n",
              "\n",
              "    .dataframe tbody tr th {\n",
              "        vertical-align: top;\n",
              "    }\n",
              "\n",
              "    .dataframe thead th {\n",
              "        text-align: right;\n",
              "    }\n",
              "</style>\n",
              "<table border=\"1\" class=\"dataframe\">\n",
              "  <thead>\n",
              "    <tr style=\"text-align: right;\">\n",
              "      <th></th>\n",
              "      <th>userId</th>\n",
              "      <th>movieId</th>\n",
              "      <th>res_pred</th>\n",
              "      <th>res</th>\n",
              "    </tr>\n",
              "  </thead>\n",
              "  <tbody>\n",
              "    <tr>\n",
              "      <th>0</th>\n",
              "      <td>1</td>\n",
              "      <td>33</td>\n",
              "      <td>3.600019</td>\n",
              "      <td>4</td>\n",
              "    </tr>\n",
              "    <tr>\n",
              "      <th>1</th>\n",
              "      <td>1</td>\n",
              "      <td>61</td>\n",
              "      <td>3.643825</td>\n",
              "      <td>4</td>\n",
              "    </tr>\n",
              "    <tr>\n",
              "      <th>2</th>\n",
              "      <td>1</td>\n",
              "      <td>117</td>\n",
              "      <td>3.705422</td>\n",
              "      <td>3</td>\n",
              "    </tr>\n",
              "    <tr>\n",
              "      <th>3</th>\n",
              "      <td>1</td>\n",
              "      <td>155</td>\n",
              "      <td>3.231179</td>\n",
              "      <td>2</td>\n",
              "    </tr>\n",
              "    <tr>\n",
              "      <th>4</th>\n",
              "      <td>1</td>\n",
              "      <td>160</td>\n",
              "      <td>3.850063</td>\n",
              "      <td>4</td>\n",
              "    </tr>\n",
              "  </tbody>\n",
              "</table>\n",
              "</div>\n",
              "    <div class=\"colab-df-buttons\">\n",
              "\n",
              "  <div class=\"colab-df-container\">\n",
              "    <button class=\"colab-df-convert\" onclick=\"convertToInteractive('df-7d1cd40f-927d-4c18-b13f-7f74bb972d3b')\"\n",
              "            title=\"Convert this dataframe to an interactive table.\"\n",
              "            style=\"display:none;\">\n",
              "\n",
              "  <svg xmlns=\"http://www.w3.org/2000/svg\" height=\"24px\" viewBox=\"0 -960 960 960\">\n",
              "    <path d=\"M120-120v-720h720v720H120Zm60-500h600v-160H180v160Zm220 220h160v-160H400v160Zm0 220h160v-160H400v160ZM180-400h160v-160H180v160Zm440 0h160v-160H620v160ZM180-180h160v-160H180v160Zm440 0h160v-160H620v160Z\"/>\n",
              "  </svg>\n",
              "    </button>\n",
              "\n",
              "  <style>\n",
              "    .colab-df-container {\n",
              "      display:flex;\n",
              "      gap: 12px;\n",
              "    }\n",
              "\n",
              "    .colab-df-convert {\n",
              "      background-color: #E8F0FE;\n",
              "      border: none;\n",
              "      border-radius: 50%;\n",
              "      cursor: pointer;\n",
              "      display: none;\n",
              "      fill: #1967D2;\n",
              "      height: 32px;\n",
              "      padding: 0 0 0 0;\n",
              "      width: 32px;\n",
              "    }\n",
              "\n",
              "    .colab-df-convert:hover {\n",
              "      background-color: #E2EBFA;\n",
              "      box-shadow: 0px 1px 2px rgba(60, 64, 67, 0.3), 0px 1px 3px 1px rgba(60, 64, 67, 0.15);\n",
              "      fill: #174EA6;\n",
              "    }\n",
              "\n",
              "    .colab-df-buttons div {\n",
              "      margin-bottom: 4px;\n",
              "    }\n",
              "\n",
              "    [theme=dark] .colab-df-convert {\n",
              "      background-color: #3B4455;\n",
              "      fill: #D2E3FC;\n",
              "    }\n",
              "\n",
              "    [theme=dark] .colab-df-convert:hover {\n",
              "      background-color: #434B5C;\n",
              "      box-shadow: 0px 1px 3px 1px rgba(0, 0, 0, 0.15);\n",
              "      filter: drop-shadow(0px 1px 2px rgba(0, 0, 0, 0.3));\n",
              "      fill: #FFFFFF;\n",
              "    }\n",
              "  </style>\n",
              "\n",
              "    <script>\n",
              "      const buttonEl =\n",
              "        document.querySelector('#df-7d1cd40f-927d-4c18-b13f-7f74bb972d3b button.colab-df-convert');\n",
              "      buttonEl.style.display =\n",
              "        google.colab.kernel.accessAllowed ? 'block' : 'none';\n",
              "\n",
              "      async function convertToInteractive(key) {\n",
              "        const element = document.querySelector('#df-7d1cd40f-927d-4c18-b13f-7f74bb972d3b');\n",
              "        const dataTable =\n",
              "          await google.colab.kernel.invokeFunction('convertToInteractive',\n",
              "                                                    [key], {});\n",
              "        if (!dataTable) return;\n",
              "\n",
              "        const docLinkHtml = 'Like what you see? Visit the ' +\n",
              "          '<a target=\"_blank\" href=https://colab.research.google.com/notebooks/data_table.ipynb>data table notebook</a>'\n",
              "          + ' to learn more about interactive tables.';\n",
              "        element.innerHTML = '';\n",
              "        dataTable['output_type'] = 'display_data';\n",
              "        await google.colab.output.renderOutput(dataTable, element);\n",
              "        const docLink = document.createElement('div');\n",
              "        docLink.innerHTML = docLinkHtml;\n",
              "        element.appendChild(docLink);\n",
              "      }\n",
              "    </script>\n",
              "  </div>\n",
              "\n",
              "\n",
              "<div id=\"df-3a61793c-6156-41df-9926-968ae220e1f2\">\n",
              "  <button class=\"colab-df-quickchart\" onclick=\"quickchart('df-3a61793c-6156-41df-9926-968ae220e1f2')\"\n",
              "            title=\"Suggest charts.\"\n",
              "            style=\"display:none;\">\n",
              "\n",
              "<svg xmlns=\"http://www.w3.org/2000/svg\" height=\"24px\"viewBox=\"0 0 24 24\"\n",
              "     width=\"24px\">\n",
              "    <g>\n",
              "        <path d=\"M19 3H5c-1.1 0-2 .9-2 2v14c0 1.1.9 2 2 2h14c1.1 0 2-.9 2-2V5c0-1.1-.9-2-2-2zM9 17H7v-7h2v7zm4 0h-2V7h2v10zm4 0h-2v-4h2v4z\"/>\n",
              "    </g>\n",
              "</svg>\n",
              "  </button>\n",
              "\n",
              "<style>\n",
              "  .colab-df-quickchart {\n",
              "      --bg-color: #E8F0FE;\n",
              "      --fill-color: #1967D2;\n",
              "      --hover-bg-color: #E2EBFA;\n",
              "      --hover-fill-color: #174EA6;\n",
              "      --disabled-fill-color: #AAA;\n",
              "      --disabled-bg-color: #DDD;\n",
              "  }\n",
              "\n",
              "  [theme=dark] .colab-df-quickchart {\n",
              "      --bg-color: #3B4455;\n",
              "      --fill-color: #D2E3FC;\n",
              "      --hover-bg-color: #434B5C;\n",
              "      --hover-fill-color: #FFFFFF;\n",
              "      --disabled-bg-color: #3B4455;\n",
              "      --disabled-fill-color: #666;\n",
              "  }\n",
              "\n",
              "  .colab-df-quickchart {\n",
              "    background-color: var(--bg-color);\n",
              "    border: none;\n",
              "    border-radius: 50%;\n",
              "    cursor: pointer;\n",
              "    display: none;\n",
              "    fill: var(--fill-color);\n",
              "    height: 32px;\n",
              "    padding: 0;\n",
              "    width: 32px;\n",
              "  }\n",
              "\n",
              "  .colab-df-quickchart:hover {\n",
              "    background-color: var(--hover-bg-color);\n",
              "    box-shadow: 0 1px 2px rgba(60, 64, 67, 0.3), 0 1px 3px 1px rgba(60, 64, 67, 0.15);\n",
              "    fill: var(--button-hover-fill-color);\n",
              "  }\n",
              "\n",
              "  .colab-df-quickchart-complete:disabled,\n",
              "  .colab-df-quickchart-complete:disabled:hover {\n",
              "    background-color: var(--disabled-bg-color);\n",
              "    fill: var(--disabled-fill-color);\n",
              "    box-shadow: none;\n",
              "  }\n",
              "\n",
              "  .colab-df-spinner {\n",
              "    border: 2px solid var(--fill-color);\n",
              "    border-color: transparent;\n",
              "    border-bottom-color: var(--fill-color);\n",
              "    animation:\n",
              "      spin 1s steps(1) infinite;\n",
              "  }\n",
              "\n",
              "  @keyframes spin {\n",
              "    0% {\n",
              "      border-color: transparent;\n",
              "      border-bottom-color: var(--fill-color);\n",
              "      border-left-color: var(--fill-color);\n",
              "    }\n",
              "    20% {\n",
              "      border-color: transparent;\n",
              "      border-left-color: var(--fill-color);\n",
              "      border-top-color: var(--fill-color);\n",
              "    }\n",
              "    30% {\n",
              "      border-color: transparent;\n",
              "      border-left-color: var(--fill-color);\n",
              "      border-top-color: var(--fill-color);\n",
              "      border-right-color: var(--fill-color);\n",
              "    }\n",
              "    40% {\n",
              "      border-color: transparent;\n",
              "      border-right-color: var(--fill-color);\n",
              "      border-top-color: var(--fill-color);\n",
              "    }\n",
              "    60% {\n",
              "      border-color: transparent;\n",
              "      border-right-color: var(--fill-color);\n",
              "    }\n",
              "    80% {\n",
              "      border-color: transparent;\n",
              "      border-right-color: var(--fill-color);\n",
              "      border-bottom-color: var(--fill-color);\n",
              "    }\n",
              "    90% {\n",
              "      border-color: transparent;\n",
              "      border-bottom-color: var(--fill-color);\n",
              "    }\n",
              "  }\n",
              "</style>\n",
              "\n",
              "  <script>\n",
              "    async function quickchart(key) {\n",
              "      const quickchartButtonEl =\n",
              "        document.querySelector('#' + key + ' button');\n",
              "      quickchartButtonEl.disabled = true;  // To prevent multiple clicks.\n",
              "      quickchartButtonEl.classList.add('colab-df-spinner');\n",
              "      try {\n",
              "        const charts = await google.colab.kernel.invokeFunction(\n",
              "            'suggestCharts', [key], {});\n",
              "      } catch (error) {\n",
              "        console.error('Error during call to suggestCharts:', error);\n",
              "      }\n",
              "      quickchartButtonEl.classList.remove('colab-df-spinner');\n",
              "      quickchartButtonEl.classList.add('colab-df-quickchart-complete');\n",
              "    }\n",
              "    (() => {\n",
              "      let quickchartButtonEl =\n",
              "        document.querySelector('#df-3a61793c-6156-41df-9926-968ae220e1f2 button');\n",
              "      quickchartButtonEl.style.display =\n",
              "        google.colab.kernel.accessAllowed ? 'block' : 'none';\n",
              "    })();\n",
              "  </script>\n",
              "</div>\n",
              "    </div>\n",
              "  </div>\n"
            ]
          },
          "metadata": {},
          "execution_count": 130
        }
      ]
    },
    {
      "cell_type": "code",
      "source": [
        "res_pred_KNN_mean = np.where(np.isnan(res_pred_KNN_mean), np.nanmean(res_pred_KNN_mean, axis=0), res_pred_KNN_mean)"
      ],
      "metadata": {
        "id": "2hjS35EgEW02"
      },
      "execution_count": 126,
      "outputs": []
    },
    {
      "cell_type": "markdown",
      "source": [
        "Качество по метрике RMSE для KNN Mean с 15 ближайшими соседями"
      ],
      "metadata": {
        "id": "w1aTe1jMFKc-"
      }
    },
    {
      "cell_type": "code",
      "source": [
        "mean_squared_error(test_my_Y, res_pred_KNN_mean, squared=False)"
      ],
      "metadata": {
        "colab": {
          "base_uri": "https://localhost:8080/"
        },
        "id": "8OE9rcRPERzi",
        "outputId": "94b7385c-3488-4b71-c7ba-fa04e3cdc441"
      },
      "execution_count": 193,
      "outputs": [
        {
          "output_type": "execute_result",
          "data": {
            "text/plain": [
              "1.006899222703593"
            ]
          },
          "metadata": {},
          "execution_count": 193
        }
      ]
    },
    {
      "cell_type": "markdown",
      "source": [
        "### Вывод по KNN:"
      ],
      "metadata": {
        "id": "Y20EKsHuLNAe"
      }
    },
    {
      "cell_type": "code",
      "source": [
        "import matplotlib.pyplot as plt"
      ],
      "metadata": {
        "id": "QOmSW98kOCQ9"
      },
      "execution_count": 281,
      "outputs": []
    },
    {
      "cell_type": "code",
      "source": [
        "x1 = [5, 10, 15, 20]\n",
        "a_mean = []\n",
        "b_basic = []\n",
        "for i in range(5, 25, 5):\n",
        "  res_pred_KNN_mean = predict_mean_KNN(train_my_X, train_my_Y, test_my_X, i)\n",
        "  res_pred_KNN = predict_KNN(train_my_X, train_my_Y, test_my_X, i)\n",
        "  res_pred_KNN_mean = np.where(np.isnan(res_pred_KNN_mean), np.nanmean(res_pred_KNN_mean, axis=0), res_pred_KNN_mean)\n",
        "  res_pred_KNN = np.where(np.isnan(res_pred_KNN), np.nanmean(res_pred_KNN, axis=0), res_pred_KNN)\n",
        "  a_mean.append(mean_squared_error(test_my_Y, res_pred_KNN_mean, squared=False))\n",
        "  b_basic.append(mean_squared_error(test_my_Y, res_pred_KNN, squared=False))\n",
        "\n",
        "plt.plot(x1, a_mean, label = \"mean\")\n",
        "plt.plot(x1, b_basic, label = \"basic\")\n",
        "plt.xlabel(\"k\")\n",
        "plt.ylabel(\"RMSE\")\n",
        "plt.legend()\n",
        "plt.show()"
      ],
      "metadata": {
        "colab": {
          "base_uri": "https://localhost:8080/",
          "height": 1000
        },
        "id": "878Z7THENfLi",
        "outputId": "c2b57a75-ca51-4e1d-f34c-c6721c58463c"
      },
      "execution_count": 266,
      "outputs": [
        {
          "output_type": "stream",
          "name": "stderr",
          "text": [
            "<ipython-input-123-fb9d7d127bbb>:40: UserWarning: Boolean Series key will be reindexed to match DataFrame index.\n",
            "  grade_tmp = np.array(train_my_Y[train_my_X[train_my_X['userId'] \\\n",
            "<ipython-input-123-fb9d7d127bbb>:46: RuntimeWarning: invalid value encountered in double_scalars\n",
            "  ret_arr_pred = np.append(ret_arr_pred, avg_tmp_x + np.sum(np.multiply(neighb_sim, neighb_grade)) / np.sum(neighb_sim))\n",
            "<ipython-input-92-0864db8c7a05>:38: UserWarning: Boolean Series key will be reindexed to match DataFrame index.\n",
            "  grade_tmp = np.array(train_my_Y[train_my_X[train_my_X['userId'] \\\n",
            "<ipython-input-92-0864db8c7a05>:43: RuntimeWarning: invalid value encountered in double_scalars\n",
            "  ret_arr_pred = np.append(ret_arr_pred, np.sum(np.multiply(neighb_sim, neighb_grade)) / np.sum(neighb_sim))\n",
            "<ipython-input-123-fb9d7d127bbb>:40: UserWarning: Boolean Series key will be reindexed to match DataFrame index.\n",
            "  grade_tmp = np.array(train_my_Y[train_my_X[train_my_X['userId'] \\\n",
            "<ipython-input-123-fb9d7d127bbb>:46: RuntimeWarning: invalid value encountered in double_scalars\n",
            "  ret_arr_pred = np.append(ret_arr_pred, avg_tmp_x + np.sum(np.multiply(neighb_sim, neighb_grade)) / np.sum(neighb_sim))\n",
            "<ipython-input-92-0864db8c7a05>:38: UserWarning: Boolean Series key will be reindexed to match DataFrame index.\n",
            "  grade_tmp = np.array(train_my_Y[train_my_X[train_my_X['userId'] \\\n",
            "<ipython-input-92-0864db8c7a05>:43: RuntimeWarning: invalid value encountered in double_scalars\n",
            "  ret_arr_pred = np.append(ret_arr_pred, np.sum(np.multiply(neighb_sim, neighb_grade)) / np.sum(neighb_sim))\n",
            "<ipython-input-123-fb9d7d127bbb>:40: UserWarning: Boolean Series key will be reindexed to match DataFrame index.\n",
            "  grade_tmp = np.array(train_my_Y[train_my_X[train_my_X['userId'] \\\n",
            "<ipython-input-123-fb9d7d127bbb>:46: RuntimeWarning: invalid value encountered in double_scalars\n",
            "  ret_arr_pred = np.append(ret_arr_pred, avg_tmp_x + np.sum(np.multiply(neighb_sim, neighb_grade)) / np.sum(neighb_sim))\n",
            "<ipython-input-92-0864db8c7a05>:38: UserWarning: Boolean Series key will be reindexed to match DataFrame index.\n",
            "  grade_tmp = np.array(train_my_Y[train_my_X[train_my_X['userId'] \\\n",
            "<ipython-input-92-0864db8c7a05>:43: RuntimeWarning: invalid value encountered in double_scalars\n",
            "  ret_arr_pred = np.append(ret_arr_pred, np.sum(np.multiply(neighb_sim, neighb_grade)) / np.sum(neighb_sim))\n",
            "<ipython-input-123-fb9d7d127bbb>:40: UserWarning: Boolean Series key will be reindexed to match DataFrame index.\n",
            "  grade_tmp = np.array(train_my_Y[train_my_X[train_my_X['userId'] \\\n",
            "<ipython-input-123-fb9d7d127bbb>:46: RuntimeWarning: invalid value encountered in double_scalars\n",
            "  ret_arr_pred = np.append(ret_arr_pred, avg_tmp_x + np.sum(np.multiply(neighb_sim, neighb_grade)) / np.sum(neighb_sim))\n",
            "<ipython-input-92-0864db8c7a05>:38: UserWarning: Boolean Series key will be reindexed to match DataFrame index.\n",
            "  grade_tmp = np.array(train_my_Y[train_my_X[train_my_X['userId'] \\\n",
            "<ipython-input-92-0864db8c7a05>:43: RuntimeWarning: invalid value encountered in double_scalars\n",
            "  ret_arr_pred = np.append(ret_arr_pred, np.sum(np.multiply(neighb_sim, neighb_grade)) / np.sum(neighb_sim))\n"
          ]
        },
        {
          "output_type": "display_data",
          "data": {
            "text/plain": [
              "<Figure size 640x480 with 1 Axes>"
            ],
            "image/png": "[encoded data removed]"
          },
          "metadata": {}
        }
      ]
    },
    {
      "cell_type": "markdown",
      "source": [
        "По качеству можно заметить, что регрессия Надрая Ватсона дает прирост к качеству по сравнению с обычным KNN. Но KNN mean считался немного дольше, чем Basic KNN"
      ],
      "metadata": {
        "id": "JgIuhzHELQp1"
      }
    },
    {
      "cell_type": "markdown",
      "source": [
        "### SVD-разложение"
      ],
      "metadata": {
        "id": "6XC4nsYGiQFz"
      }
    },
    {
      "cell_type": "markdown",
      "source": [
        "Метод SGD"
      ],
      "metadata": {
        "id": "s9tFD3rJiSQ5"
      }
    },
    {
      "cell_type": "code",
      "source": [
        "n_factors = 4"
      ],
      "metadata": {
        "id": "ESBLp5zAZEE7"
      },
      "execution_count": 8,
      "outputs": []
    },
    {
      "cell_type": "code",
      "source": [
        "P = np.random.normal(0, 1, (len(train_my_X['userId'].drop_duplicates()), n_factors))\n",
        "Q = np.random.normal(0, 1, (n_factors, len(train_my_X['movieId'].drop_duplicates())))\n",
        "\n",
        "b_i = np.zeros(len(train_my_X['movieId'].drop_duplicates()))\n",
        "b_u = np.zeros(len(train_my_X['userId'].drop_duplicates()))\n",
        "\n",
        "result = ((np.dot(P, Q) + b_i).T + b_u).T\n",
        "# result = np.dot(P, Q)\n",
        "result.shape"
      ],
      "metadata": {
        "colab": {
          "base_uri": "https://localhost:8080/"
        },
        "id": "59ml5mMqdUq1",
        "outputId": "3880b575-0548-47d9-9dca-810022f027b1"
      },
      "execution_count": 328,
      "outputs": [
        {
          "output_type": "execute_result",
          "data": {
            "text/plain": [
              "(943, 1680)"
            ]
          },
          "metadata": {},
          "execution_count": 328
        }
      ]
    },
    {
      "cell_type": "code",
      "source": [
        "sorted_movie = np.sort(train_my_X['movieId'].drop_duplicates())\n",
        "lst_ind = np.arange(0, 1680)"
      ],
      "metadata": {
        "id": "fsrGWv4356sI"
      },
      "execution_count": 306,
      "outputs": []
    },
    {
      "cell_type": "code",
      "source": [
        "def fit_SGD(lr, lambda_v, result, P, Q, b_u, b_i, iter_n):\n",
        "  for t in range(0, iter_n):\n",
        "    i = np.random.randint(90568)\n",
        "    p_u = train_my_X.iloc[i]['userId'] - 1\n",
        "    # q_i = train_my_X.iloc[i]['movieId'] - 2\n",
        "    q_i = np.where(sorted_movie == train_my_X.iloc[i]['movieId'])[0][0]\n",
        "    # q_i = np.where(np.array(train_my_X['movieId']) == train_my_X.iloc[i]['movieId'] )[0][0]\n",
        "    e_ij = train_my_Y[i] - result[p_u, q_i]\n",
        "    b_u = b_u + lr*(e_ij - lambda_v*b_u)\n",
        "    b_i = b_i + lr*(e_ij - lambda_v*b_i)\n",
        "    P[p_u] = P[p_u] + lr*(e_ij*Q[:, q_i] - lambda_v * P[p_u])\n",
        "    Q[:, q_i] = Q[:, q_i] + lr*(e_ij * P[p_u] - lambda_v * Q[:, q_i])\n",
        "    result = ((np.dot(P, Q) + b_i).T + b_u).T\n",
        "  return result\n",
        "    # result = np.dot(P, Q)"
      ],
      "metadata": {
        "id": "_DmUH_DTriKJ"
      },
      "execution_count": 327,
      "outputs": []
    },
    {
      "cell_type": "code",
      "source": [
        "result = fit_SGD(0.005, 0.02, result, P, Q, b_u, b_i, 5000)\n",
        "Q = np.nan_to_num(Q)\n",
        "P = np.nan_to_num(P)"
      ],
      "metadata": {
        "id": "Wx8Gcx-QxatD"
      },
      "execution_count": 324,
      "outputs": []
    },
    {
      "cell_type": "code",
      "source": [
        "def pred_r():\n",
        "  ans = np.array([])\n",
        "  for t in range (0, len(test_my_Y)):\n",
        "    i = test_my_X.iloc[t]['userId'] - 1\n",
        "    j = np.where(sorted_movie == train_my_X.iloc[t]['movieId'])[0][0]\n",
        "    # j = test_my_X.iloc[t]['movieId'] - 2\n",
        "    # print(np.dot(P[i], Q[:, j]) + b_u[i] + b_i[j])\n",
        "    ans = np.append(ans, result[i][j])\n",
        "  return ans\n",
        "\n",
        "r_pred = pred_r()"
      ],
      "metadata": {
        "id": "kVe6Pty8sCx0"
      },
      "execution_count": 325,
      "outputs": []
    },
    {
      "cell_type": "code",
      "source": [
        "mean_squared_error(test_my_Y, r_pred, squared=False)"
      ],
      "metadata": {
        "colab": {
          "base_uri": "https://localhost:8080/"
        },
        "id": "cVv_iz2nCgS2",
        "outputId": "758a1be4-cf24-4539-8271-5b5298675d9e"
      },
      "execution_count": 326,
      "outputs": [
        {
          "output_type": "execute_result",
          "data": {
            "text/plain": [
              "2.2000466248366717"
            ]
          },
          "metadata": {},
          "execution_count": 326
        }
      ]
    },
    {
      "cell_type": "markdown",
      "source": [
        "Изобразим на графике как меняется качество предсказания SGD при кол-ве итераций 5000 и изменяемому числу факторов: от 1 до 13."
      ],
      "metadata": {
        "id": "XJfPjdP2HnQa"
      }
    },
    {
      "cell_type": "code",
      "source": [
        "x1 = [1, 4, 7, 10, 13]\n",
        "a_mean = []\n",
        "b_basic = []\n",
        "time_SGD = []\n",
        "rmse_SGD = []\n",
        "for i in range(1, 14, 3):\n",
        "  n_factors = i\n",
        "\n",
        "  P = np.random.normal(0, 1, (len(train_my_X['userId'].drop_duplicates()), n_factors))\n",
        "  Q = np.random.normal(0, 1, (n_factors, len(train_my_X['movieId'].drop_duplicates())))\n",
        "\n",
        "  b_i = np.zeros(len(train_my_X['movieId'].drop_duplicates()))\n",
        "  b_u = np.zeros(len(train_my_X['userId'].drop_duplicates()))\n",
        "\n",
        "  result = ((np.dot(P, Q) + b_i).T + b_u).T\n",
        "  start_time = time.time()\n",
        "  result = fit_SGD(0.005, 0.02, result, P, Q, b_u, b_i, 5000)\n",
        "  r_pred = pred_r()\n",
        "  print(\"--- %s seconds ---\" % (time.time() - start_time))\n",
        "  time_SGD.append([time.time() - start_time])\n",
        "  rmse_SGD.append(mean_squared_error(test_my_Y, r_pred, squared=False))"
      ],
      "metadata": {
        "colab": {
          "base_uri": "https://localhost:8080/"
        },
        "id": "e11urYybDs--",
        "outputId": "9008281c-164d-49b7-8360-3170dda1d996"
      },
      "execution_count": 331,
      "outputs": [
        {
          "output_type": "stream",
          "name": "stdout",
          "text": [
            "--- 85.10228228569031 seconds ---\n",
            "--- 83.3414466381073 seconds ---\n",
            "--- 85.32661271095276 seconds ---\n",
            "--- 85.06406545639038 seconds ---\n",
            "--- 91.09278273582458 seconds ---\n"
          ]
        }
      ]
    },
    {
      "cell_type": "markdown",
      "source": [
        "Можно увдеть, что при увеличении коол-ва факторов качество падает. Это вызвано тем, что у нас получаются слишком большие матрицы P и Q и кол-во итераций = 5000 является недостаточным"
      ],
      "metadata": {
        "id": "580rz3GkWykc"
      }
    },
    {
      "cell_type": "code",
      "source": [
        "plt.plot(x1, rmse_SGD, label = \"SGD\")\n",
        "# plt.plot(x1, b_basic, label = \"basic\")\n",
        "plt.xlabel(\"n factors\")\n",
        "plt.ylabel(\"RMSE\")\n",
        "# plt.legend()\n",
        "plt.show()"
      ],
      "metadata": {
        "colab": {
          "base_uri": "https://localhost:8080/",
          "height": 449
        },
        "id": "2zQwpoK-K4Gl",
        "outputId": "07e07538-8852-4c18-c9c6-da6751120d95"
      },
      "execution_count": 332,
      "outputs": [
        {
          "output_type": "display_data",
          "data": {
            "text/plain": [
              "<Figure size 640x480 with 1 Axes>"
            ],
            "image/png": "[encoded data removed]"
          },
          "metadata": {}
        }
      ]
    },
    {
      "cell_type": "markdown",
      "source": [
        "Замерим время и качество SGD при разном кол-ве итераци и n_factors = 4"
      ],
      "metadata": {
        "id": "UvK4T3qKIOSk"
      }
    },
    {
      "cell_type": "code",
      "source": [
        "x1 = [5000, 10000, 15000, 20000, 25000]\n",
        "a_mean = []\n",
        "b_basic = []\n",
        "time_SGD_n = []\n",
        "rmse_SGD_n = []\n",
        "for i in range(5000, 25001, 5000):\n",
        "  n_factors = 4\n",
        "\n",
        "  P = np.random.normal(0, 1, (len(train_my_X['userId'].drop_duplicates()), n_factors))\n",
        "  Q = np.random.normal(0, 1, (n_factors, len(train_my_X['movieId'].drop_duplicates())))\n",
        "\n",
        "  b_i = np.zeros(len(train_my_X['movieId'].drop_duplicates()))\n",
        "  b_u = np.zeros(len(train_my_X['userId'].drop_duplicates()))\n",
        "\n",
        "  result = ((np.dot(P, Q) + b_i).T + b_u).T\n",
        "  start_time = time.time()\n",
        "  result = fit_SGD(0.005, 0.02, result, P, Q, b_u, b_i, i)\n",
        "  r_pred = pred_r()\n",
        "  print(\"--- %s seconds ---\" % (time.time() - start_time))\n",
        "  time_SGD_n.append([time.time() - start_time])\n",
        "  rmse_SGD_n.append(mean_squared_error(test_my_Y, r_pred, squared=False))"
      ],
      "metadata": {
        "colab": {
          "base_uri": "https://localhost:8080/"
        },
        "id": "wxYrl5zbHmFT",
        "outputId": "3142fab2-449e-4802-8a57-556e21ed8462"
      },
      "execution_count": 334,
      "outputs": [
        {
          "output_type": "stream",
          "name": "stdout",
          "text": [
            "--- 85.14227104187012 seconds ---\n",
            "--- 159.18500685691833 seconds ---\n",
            "--- 238.25074815750122 seconds ---\n",
            "--- 327.97065567970276 seconds ---\n",
            "--- 408.4059548377991 seconds ---\n"
          ]
        }
      ]
    },
    {
      "cell_type": "code",
      "source": [
        "time_SGD_n"
      ],
      "metadata": {
        "colab": {
          "base_uri": "https://localhost:8080/"
        },
        "id": "IZ5z1YQ-RPAQ",
        "outputId": "0255b15b-4a0b-4a81-a9fb-76408354e6dd"
      },
      "execution_count": 335,
      "outputs": [
        {
          "output_type": "execute_result",
          "data": {
            "text/plain": [
              "[[85.14242625236511],\n",
              " [159.18619203567505],\n",
              " [238.2509319782257],\n",
              " [327.9708318710327],\n",
              " [408.4061532020569]]"
            ]
          },
          "metadata": {},
          "execution_count": 335
        }
      ]
    },
    {
      "cell_type": "markdown",
      "source": [
        "Можно заметит, что с увеличением кол-ва итераций качество повышается, но и время на предсказание тоже значительно повышается."
      ],
      "metadata": {
        "id": "e8igOOOHjyQl"
      }
    },
    {
      "cell_type": "code",
      "source": [
        "plt.plot(x1, rmse_SGD_n, label = \"SGD\")\n",
        "# plt.plot(x1, b_basic, label = \"basic\")\n",
        "plt.xlabel(\"iterations\")\n",
        "plt.ylabel(\"RMSE\")\n",
        "# plt.legend()\n",
        "plt.show()"
      ],
      "metadata": {
        "colab": {
          "base_uri": "https://localhost:8080/",
          "height": 449
        },
        "id": "-jMzIM-8L_f8",
        "outputId": "b68b1636-7e1a-4344-b469-203513f63f00"
      },
      "execution_count": 337,
      "outputs": [
        {
          "output_type": "display_data",
          "data": {
            "text/plain": [
              "<Figure size 640x480 with 1 Axes>"
            ],
            "image/png": "[encoded data removed]"
          },
          "metadata": {}
        }
      ]
    },
    {
      "cell_type": "markdown",
      "source": [
        "Метод ALS"
      ],
      "metadata": {
        "id": "cxOkYnVvj_zf"
      }
    },
    {
      "cell_type": "code",
      "source": [
        "n_factors = 2"
      ],
      "metadata": {
        "id": "PdcRfri7ROyh"
      },
      "execution_count": 511,
      "outputs": []
    },
    {
      "cell_type": "code",
      "source": [
        "P = np.random.normal(1, 1, (len(train_my_X['userId'].drop_duplicates()), n_factors))\n",
        "Q = np.random.normal(1, 1, (n_factors, len(train_my_X['movieId'].drop_duplicates())))"
      ],
      "metadata": {
        "id": "QIHH73_CkZLB"
      },
      "execution_count": 531,
      "outputs": []
    },
    {
      "cell_type": "code",
      "source": [
        "P_new = np.copy(P)\n",
        "Q_new = np.copy(Q)"
      ],
      "metadata": {
        "id": "t24PtXeHv_J3"
      },
      "execution_count": 532,
      "outputs": []
    },
    {
      "cell_type": "code",
      "source": [
        "diag_matr = np.diag(np.ones(n_factors)) * 0.05"
      ],
      "metadata": {
        "id": "oUiMhEmXdJA1"
      },
      "execution_count": 570,
      "outputs": []
    },
    {
      "cell_type": "code",
      "source": [
        "def pred_als():\n",
        "  ans = np.array([])\n",
        "  for t in range (0, len(test_my_Y)):\n",
        "    i = test_my_X.iloc[t]['userId'] - 1\n",
        "    j = np.where(sorted_movie == train_my_X.iloc[t]['movieId'])[0][0]\n",
        "    ans = np.append(ans, np.dot(P_new[i], Q_new[:, j]))\n",
        "  return ans"
      ],
      "metadata": {
        "id": "O9GSiql_aBAH"
      },
      "execution_count": 566,
      "outputs": []
    },
    {
      "cell_type": "code",
      "source": [
        "def fit_als(rng, n_factors):\n",
        "  P = np.random.normal(1, 1, (len(train_my_X['userId'].drop_duplicates()), n_factors))\n",
        "  Q = np.random.normal(1, 1, (n_factors, len(train_my_X['movieId'].drop_duplicates())))\n",
        "  diag_matr = np.diag(np.ones(n_factors)) * 0.05\n",
        "  P_new = np.copy(P)\n",
        "  Q_new = np.copy(Q)\n",
        "  for q in range (0, rng):\n",
        "    for i in range(0, P.shape[0]):\n",
        "      mask = np.isin(sorted_movie, train_my_X[train_my_X['userId'] == i + 1]['movieId'])\n",
        "      r_u = train_my_Y[train_my_X[train_my_X['userId'] == i + 1].index]\n",
        "      P_new[i] = np.dot(np.linalg.inv(np.dot(Q_new[:, mask], Q_new[:, mask].T) + diag_matr), np.dot(Q_new[:, mask], r_u))\n",
        "\n",
        "    for k in range(0, Q.shape[1]):\n",
        "      i = sorted_movie[k]\n",
        "      P_i = P_new[train_my_X[train_my_X['movieId'] == i]['userId'] - 1]\n",
        "      r_i = train_my_Y[train_my_X[train_my_X['movieId'] == i].index]\n",
        "      Q_new[:, k] = np.dot(np.linalg.inv(np.dot(P_i.T, P_i) + diag_matr), np.dot(P_i.T, r_i))\n",
        "\n",
        "    r_pred = pred_als()\n",
        "    # print(mean_squared_error(test_my_Y, r_pred, squared=False))\n",
        "    print(q + 1, \" step\")\n",
        "  return P_new, Q_new"
      ],
      "metadata": {
        "id": "l4hnDw9zNMC3"
      },
      "execution_count": 579,
      "outputs": []
    },
    {
      "cell_type": "code",
      "source": [
        "P_new, Q_new = fit_als(1, 5)"
      ],
      "metadata": {
        "colab": {
          "base_uri": "https://localhost:8080/"
        },
        "id": "xX8kiPPNFf0p",
        "outputId": "aa2fbd15-f01c-4e84-ea8b-65f9cb00a8a4"
      },
      "execution_count": 580,
      "outputs": [
        {
          "output_type": "stream",
          "name": "stdout",
          "text": [
            "1  step\n"
          ]
        }
      ]
    },
    {
      "cell_type": "code",
      "source": [
        "r_pred = pred_als()"
      ],
      "metadata": {
        "id": "rqWE8k9FF2Sj"
      },
      "execution_count": 581,
      "outputs": []
    },
    {
      "cell_type": "code",
      "source": [
        "mean_squared_error(test_my_Y, r_pred, squared=False)"
      ],
      "metadata": {
        "colab": {
          "base_uri": "https://localhost:8080/"
        },
        "id": "IMe9tR98JlDY",
        "outputId": "8e229499-205c-414e-ee71-07d30cfea10f"
      },
      "execution_count": 582,
      "outputs": [
        {
          "output_type": "execute_result",
          "data": {
            "text/plain": [
              "1.384304399378655"
            ]
          },
          "metadata": {},
          "execution_count": 582
        }
      ]
    },
    {
      "cell_type": "code",
      "source": [
        "x1 = [i for i in range(1, 20, 2)]\n",
        "x1"
      ],
      "metadata": {
        "colab": {
          "base_uri": "https://localhost:8080/"
        },
        "id": "ftVB8esOd2h2",
        "outputId": "3cfc43dd-a36f-40ab-e9c3-34f19e89132e"
      },
      "execution_count": 583,
      "outputs": [
        {
          "output_type": "execute_result",
          "data": {
            "text/plain": [
              "[1, 3, 5, 7, 9, 11, 13, 15, 17, 19]"
            ]
          },
          "metadata": {},
          "execution_count": 583
        }
      ]
    },
    {
      "cell_type": "code",
      "source": [
        "x1 = [i for i in range(1, 20, 2)]\n",
        "a_mean = []\n",
        "b_basic = []\n",
        "time_als = []\n",
        "rmse_als = []\n",
        "for i in range(1, 20, 2):\n",
        "  start_time = time.time()\n",
        "  P_new, Q_new = fit_als(1, i)\n",
        "  r_pred = pred_als()\n",
        "  print(\"--- %s seconds ---\" % (time.time() - start_time))\n",
        "  time_als.append([time.time() - start_time])\n",
        "  rmse_als.append(mean_squared_error(test_my_Y, r_pred, squared=False))"
      ],
      "metadata": {
        "colab": {
          "base_uri": "https://localhost:8080/"
        },
        "id": "16JSuzQadZyp",
        "outputId": "123a1a31-b343-4ccc-944b-19d148b251f8"
      },
      "execution_count": 585,
      "outputs": [
        {
          "output_type": "stream",
          "name": "stdout",
          "text": [
            "1  step\n",
            "--- 7.314091682434082 seconds ---\n",
            "1  step\n",
            "--- 8.04987382888794 seconds ---\n",
            "1  step\n",
            "--- 6.998477458953857 seconds ---\n",
            "1  step\n",
            "--- 8.725605726242065 seconds ---\n",
            "1  step\n",
            "--- 7.21934962272644 seconds ---\n",
            "1  step\n",
            "--- 8.61226773262024 seconds ---\n",
            "1  step\n",
            "--- 8.50565218925476 seconds ---\n",
            "1  step\n",
            "--- 7.20595121383667 seconds ---\n",
            "1  step\n",
            "--- 8.860618591308594 seconds ---\n",
            "1  step\n",
            "--- 8.41986870765686 seconds ---\n"
          ]
        }
      ]
    },
    {
      "cell_type": "code",
      "source": [
        "plt.plot(x1, rmse_als, label = \"SGD\")\n",
        "# plt.plot(x1, b_basic, label = \"basic\")\n",
        "plt.xlabel(\"n factors\")\n",
        "plt.ylabel(\"RMSE\")\n",
        "# plt.legend()\n",
        "plt.show()"
      ],
      "metadata": {
        "colab": {
          "base_uri": "https://localhost:8080/",
          "height": 449
        },
        "id": "WLbPBEvme9W9",
        "outputId": "b2d28a16-e3c4-4fe6-f085-d7764259dd68"
      },
      "execution_count": 586,
      "outputs": [
        {
          "output_type": "display_data",
          "data": {
            "text/plain": [
              "<Figure size 640x480 with 1 Axes>"
            ],
            "image/png": "[encoded data removed]"
          },
          "metadata": {}
        }
      ]
    },
    {
      "cell_type": "markdown",
      "source": [
        "Видим что ALS дает неплохую точность при малом кол-ве факторов (от 2 до 5). При силшком большом кол-ве факторов наша модель усложнаяется и дает не такие точные предсказания."
      ],
      "metadata": {
        "id": "7VEVShgffOF_"
      }
    },
    {
      "cell_type": "markdown",
      "source": [
        "### SVD++"
      ],
      "metadata": {
        "id": "UjO7CTmvflSf"
      }
    },
    {
      "cell_type": "markdown",
      "source": [
        "Прибавим к каждой строчке P кол-во пользователей, которые оценивали те же фильмы что и пользователь i, деленное на общее кол-во пользователей"
      ],
      "metadata": {
        "id": "oWYgg3IcxsGi"
      }
    },
    {
      "cell_type": "code",
      "source": [
        "P = np.random.normal(0, 1, (len(train_my_X['userId'].drop_duplicates()), n_factors))\n",
        "Q = np.random.normal(0, 1, (n_factors, len(train_my_X['movieId'].drop_duplicates())))\n",
        "\n",
        "I_u = (len(train_my_X['userId'].drop_duplicates()))\n",
        "\n",
        "# Отличие SVD от SVD++\n",
        "for i in range (0, P.shape[0]):\n",
        "  mask = np.isin(train_my_X['movieId'], train_my_X[train_my_X['userId'] == i]['movieId'])\n",
        "  P[i] = P[i] + len(train_my_X[mask]['userId'].drop_duplicates())/I_u\n",
        "\n",
        "b_i = np.zeros(len(train_my_X['movieId'].drop_duplicates()))\n",
        "b_u = np.zeros(len(train_my_X['userId'].drop_duplicates()))\n",
        "\n",
        "\n",
        "result = ((np.dot(P, Q) + b_i).T + b_u).T\n",
        "# result = np.dot(P, Q)\n",
        "result.shape"
      ],
      "metadata": {
        "colab": {
          "base_uri": "https://localhost:8080/"
        },
        "id": "zR3W7H-Jfoqq",
        "outputId": "a7710797-6b65-41a6-88d0-1c829a25548f"
      },
      "execution_count": 633,
      "outputs": [
        {
          "output_type": "execute_result",
          "data": {
            "text/plain": [
              "(943, 1680)"
            ]
          },
          "metadata": {},
          "execution_count": 633
        }
      ]
    },
    {
      "cell_type": "code",
      "source": [
        "def fit_SGD_pp(lr, lambda_v, result, P, Q, b_u, b_i, iter_n):\n",
        "  for t in range(0, iter_n):\n",
        "    i = np.random.randint(90568)\n",
        "    p_u = train_my_X.iloc[i]['userId'] - 1\n",
        "    # q_i = train_my_X.iloc[i]['movieId'] - 2\n",
        "    q_i = np.where(sorted_movie == train_my_X.iloc[i]['movieId'])[0][0]\n",
        "    # q_i = np.where(np.array(train_my_X['movieId']) == train_my_X.iloc[i]['movieId'] )[0][0]\n",
        "    e_ij = train_my_Y[i] - result[p_u, q_i]\n",
        "    b_u = b_u + lr*(e_ij - lambda_v*b_u)\n",
        "    b_i = b_i + lr*(e_ij - lambda_v*b_i)\n",
        "    P[p_u] = P[p_u] + lr*(e_ij*Q[:, q_i] - lambda_v * P[p_u])\n",
        "    Q[:, q_i] = Q[:, q_i] + lr*(e_ij * P[p_u] - lambda_v * Q[:, q_i])\n",
        "    result = ((np.dot(P, Q) + b_i).T + b_u).T\n",
        "  return result"
      ],
      "metadata": {
        "id": "9biJXequr7Qq"
      },
      "execution_count": 635,
      "outputs": []
    },
    {
      "cell_type": "code",
      "source": [
        "x1 = [1, 4]\n",
        "a_mean = []\n",
        "b_basic = []\n",
        "time_SGD_pp = []\n",
        "rmse_SGD_pp = []\n",
        "for i in range(1, 5, 3):\n",
        "  n_factors = i\n",
        "\n",
        "  P = np.random.normal(0, 1, (len(train_my_X['userId'].drop_duplicates()), n_factors))\n",
        "  Q = np.random.normal(0, 1, (n_factors, len(train_my_X['movieId'].drop_duplicates())))\n",
        "\n",
        "  for i in range (0, P.shape[0]):\n",
        "    mask = np.isin(train_my_X['movieId'], train_my_X[train_my_X['userId'] == i]['movieId'])\n",
        "    P[i] = P[i] + len(train_my_X[mask]['userId'].drop_duplicates())/I_u\n",
        "\n",
        "  b_i = np.zeros(len(train_my_X['movieId'].drop_duplicates()))\n",
        "  b_u = np.zeros(len(train_my_X['userId'].drop_duplicates()))\n",
        "\n",
        "  result = ((np.dot(P, Q) + b_i).T + b_u).T\n",
        "  start_time = time.time()\n",
        "  result = fit_SGD(0.005, 0.02, result, P, Q, b_u, b_i, 5000)\n",
        "  r_pred = pred_r()\n",
        "  print(\"--- %s seconds ---\" % (time.time() - start_time))\n",
        "  time_SGD_pp.append([time.time() - start_time])\n",
        "  rmse_SGD_pp.append(mean_squared_error(test_my_Y, r_pred, squared=False))"
      ],
      "metadata": {
        "colab": {
          "base_uri": "https://localhost:8080/"
        },
        "id": "h_9Q59AqvfUa",
        "outputId": "f7f6d789-040e-48c0-853d-393b2d006fef"
      },
      "execution_count": 636,
      "outputs": [
        {
          "output_type": "stream",
          "name": "stdout",
          "text": [
            "--- 82.02623009681702 seconds ---\n",
            "--- 82.22944283485413 seconds ---\n"
          ]
        }
      ]
    },
    {
      "cell_type": "code",
      "source": [
        "plt.plot(x1, rmse_SGD_pp, label = \"SGD_pp\")\n",
        "# plt.plot(x1, b_basic, label = \"basic\")\n",
        "plt.xlabel(\"n factors\")\n",
        "plt.ylabel(\"RMSE\")\n",
        "# plt.legend()\n",
        "plt.show()"
      ],
      "metadata": {
        "colab": {
          "base_uri": "https://localhost:8080/",
          "height": 449
        },
        "id": "-qEzcCB6wZnq",
        "outputId": "881ae864-89fe-4a2e-afe1-4304e5c345c9"
      },
      "execution_count": 637,
      "outputs": [
        {
          "output_type": "display_data",
          "data": {
            "text/plain": [
              "<Figure size 640x480 with 1 Axes>"
            ],
            "image/png": "[encoded data removed]"
          },
          "metadata": {}
        }
      ]
    },
    {
      "cell_type": "markdown",
      "source": [
        "Аналогично с обычным SVD, качество SVD++ падает с увеличением факторов."
      ],
      "metadata": {
        "id": "sPPLvT-Lxfhf"
      }
    },
    {
      "cell_type": "markdown",
      "source": [
        "###Вывод"
      ],
      "metadata": {
        "id": "B4727s7_2nGC"
      }
    },
    {
      "cell_type": "markdown",
      "source": [
        "KNN:\n",
        "\n",
        "  Долго работает (около 20 минут) и дает лучшее качество среди всех алгоритмов, RMSE около 1.05. И KNN mean показывает лучшие резульаты по сравнению с KNN basic\n",
        "\n",
        "SVD:\n",
        "\n",
        "  Оптимизация методом SGD: Качество улучшается в зависмости от кол-ва итераций. Слишком большое кол-во n_folds ухудшает результат. Получаем предсказание, качество и скорость которого обратно пропорциональны. Оптимизация на 10000 итерация занимает около 160 секунд и дает качетсво по RMSE около 2.\n",
        "\n",
        "  Оптимизация методом ALS: Быстрая оптимизация, с которой качетсво предсказаний получается лучше чем с методом SGD. Обучение длится около 8 секунд и качество при n_folds = 4 равняется около 1.3 по RMSE.\n",
        "\n",
        "\n",
        "SVD++:\n",
        "\n",
        "  Модификация обычно SVD, с методом оптимизации SGD. Не даёт заметного прироста к качеству и скрости по сравению с обычным SGD.\n",
        "\n",
        "\n",
        "Общий вывод:\n",
        "\n",
        "  Лучше всего себя показало предсказание методом SVD, с методом оптимизации ALS"
      ],
      "metadata": {
        "id": "wvuwDEG62ptx"
      }
    }
  ]
}