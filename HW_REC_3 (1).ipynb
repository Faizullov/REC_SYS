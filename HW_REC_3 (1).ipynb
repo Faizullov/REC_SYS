{
  "cells": [
    {
      "cell_type": "markdown",
      "metadata": {
        "id": "x7XUBSE5M7UF"
      },
      "source": [
        "# Рекомендательные системы ДЗ 3\n",
        "\n",
        "## Файзуллов Айрат"
      ]
    },
    {
      "cell_type": "code",
      "execution_count": 1,
      "metadata": {
        "colab": {
          "base_uri": "https://localhost:8080/"
        },
        "id": "b8x-JlnJQuom",
        "outputId": "fbeb6d6f-b15e-49c6-cbe2-d51761abc696"
      },
      "outputs": [
        {
          "output_type": "stream",
          "name": "stdout",
          "text": [
            "Mounted at /content/drive\n"
          ]
        }
      ],
      "source": [
        "from google.colab import drive\n",
        "drive.mount('/content/drive', force_remount=True)\n",
        "dataset_root_dir = 'drive/MyDrive/HW_REC_3'"
      ]
    },
    {
      "cell_type": "code",
      "execution_count": 2,
      "metadata": {
        "id": "xo3lpkIiM6Zr"
      },
      "outputs": [],
      "source": [
        "import zipfile\n",
        "import os\n",
        "\n",
        "with zipfile.ZipFile('drive/MyDrive/HW_REC_3/archive_rec.zip', 'r') as zip_ref:\n",
        "    zip_ref.extractall('drive/MyDrive/HW_REC_3')"
      ]
    },
    {
      "cell_type": "code",
      "execution_count": 3,
      "metadata": {
        "id": "2Q3zo93ERxz0"
      },
      "outputs": [],
      "source": [
        "import os\n",
        "import json\n",
        "import pandas as pd\n",
        "import numpy as np\n",
        "import tqdm\n",
        "import scipy.sparse as sp\n",
        "\n",
        "from pprint import pprint\n",
        "\n",
        "DATA_PATH = 'drive/MyDrive/HW_REC_3'\n",
        "with open(os.path.join(DATA_PATH, 'catalogue.json'), 'r') as f:\n",
        "    catalogue = json.load(f)\n",
        "\n",
        "catalogue = {int(k): v for k, v in catalogue.items()}"
      ]
    },
    {
      "cell_type": "code",
      "execution_count": 4,
      "metadata": {
        "id": "VsWb4Z7BU3_M"
      },
      "outputs": [],
      "source": [
        "with open(os.path.join(DATA_PATH, 'test_users.json'), 'r') as f:\n",
        "    test_users = set(json.load(f)['users'])"
      ]
    },
    {
      "cell_type": "code",
      "execution_count": 5,
      "metadata": {
        "colab": {
          "base_uri": "https://localhost:8080/"
        },
        "id": "B0dckEz2bXO0",
        "outputId": "3d71e008-d92d-4d39-af80-d50f865a97bd"
      },
      "outputs": [
        {
          "output_type": "execute_result",
          "data": {
            "text/plain": [
              "10000"
            ]
          },
          "metadata": {},
          "execution_count": 5
        }
      ],
      "source": [
        "len(list(test_users)[:10000])"
      ]
    },
    {
      "cell_type": "code",
      "execution_count": 6,
      "metadata": {
        "id": "TYK9INzVYwRt"
      },
      "outputs": [],
      "source": [
        "transactions = pd.read_csv(\n",
        "    os.path.join(DATA_PATH, 'transactions.csv'),\n",
        "    dtype={\n",
        "        'element_uid': np.uint16,\n",
        "        'user_uid': np.uint32,\n",
        "        'consumption_mode': 'category',\n",
        "        'ts': np.float64,\n",
        "        'watched_time': np.uint64,\n",
        "        'device_type': np.uint8,\n",
        "        'device_manufacturer': np.uint8\n",
        "    }\n",
        ")"
      ]
    },
    {
      "cell_type": "code",
      "execution_count": 7,
      "metadata": {
        "id": "3RAvEPn_U4tv"
      },
      "outputs": [],
      "source": [
        "ratings = pd.read_csv(\n",
        "    os.path.join(DATA_PATH, 'ratings.csv'),\n",
        "    dtype={\n",
        "        'element_uid': np.uint16,\n",
        "        'user_uid': np.uint32,\n",
        "        'ts': np.float64,\n",
        "        'rating': np.uint8\n",
        "    }\n",
        ")"
      ]
    },
    {
      "cell_type": "code",
      "execution_count": 8,
      "metadata": {
        "id": "iYJEdUt1FcJf"
      },
      "outputs": [],
      "source": [
        "user_counts = ratings['user_uid'].value_counts()\n",
        "selected_users = user_counts[user_counts > 40].index\n",
        "ratings = ratings[ratings['user_uid'].isin(selected_users)]"
      ]
    },
    {
      "cell_type": "code",
      "execution_count": 9,
      "metadata": {
        "colab": {
          "base_uri": "https://localhost:8080/"
        },
        "id": "dMv0xzxmmQ07",
        "outputId": "7f328a5f-4873-4910-b5ed-e0f0e8318734"
      },
      "outputs": [
        {
          "output_type": "execute_result",
          "data": {
            "text/plain": [
              "1          63140\n",
              "60         43752\n",
              "118         1120\n",
              "126       470909\n",
              "131       183700\n",
              "           ...  \n",
              "377730    356071\n",
              "377875    571326\n",
              "397432     64806\n",
              "413112     64947\n",
              "416795    160242\n",
              "Name: user_uid, Length: 597, dtype: uint32"
            ]
          },
          "metadata": {},
          "execution_count": 9
        }
      ],
      "source": [
        "ratings['user_uid'].drop_duplicates()"
      ]
    },
    {
      "cell_type": "code",
      "execution_count": 10,
      "metadata": {
        "colab": {
          "base_uri": "https://localhost:8080/"
        },
        "id": "YP6QOSJCpsFk",
        "outputId": "9519f55d-f929-4eef-928b-8e88765cf124"
      },
      "outputs": [
        {
          "output_type": "execute_result",
          "data": {
            "text/plain": [
              "592241"
            ]
          },
          "metadata": {},
          "execution_count": 10
        }
      ],
      "source": [
        "max(list(ratings['user_uid'].drop_duplicates()))"
      ]
    },
    {
      "cell_type": "markdown",
      "metadata": {
        "id": "V5QLOUIsrCQR"
      },
      "source": [
        "Создадим тестовые данные, возьмем каждую пятую пару user и element для каждого user"
      ]
    },
    {
      "cell_type": "code",
      "execution_count": 11,
      "metadata": {
        "id": "FED7ZtQB7u84"
      },
      "outputs": [],
      "source": [
        "check_table = ratings"
      ]
    },
    {
      "cell_type": "code",
      "execution_count": 12,
      "metadata": {
        "id": "5UGhpMgEqWR6"
      },
      "outputs": [],
      "source": [
        "check_table = ratings[ratings['user_uid'] == 63140][::5]\n",
        "\n",
        "for i in list(ratings['user_uid'].drop_duplicates()):\n",
        "  tmp_rable = ratings[ratings['user_uid'] == i][::5]\n",
        "  check_table = pd.concat([check_table, tmp_rable], ignore_index=True)"
      ]
    },
    {
      "cell_type": "code",
      "execution_count": 13,
      "metadata": {
        "colab": {
          "base_uri": "https://localhost:8080/"
        },
        "id": "FuA9iBO-ocSx",
        "outputId": "01a39c6f-ec92-48c6-d91e-118fb106c2a0"
      },
      "outputs": [
        {
          "output_type": "execute_result",
          "data": {
            "text/plain": [
              "(10021, 3)"
            ]
          },
          "metadata": {},
          "execution_count": 13
        }
      ],
      "source": [
        "check_table = check_table[['user_uid', 'element_uid', 'rating']].drop_duplicates()\n",
        "check_table.shape"
      ]
    },
    {
      "cell_type": "code",
      "execution_count": 14,
      "metadata": {
        "colab": {
          "base_uri": "https://localhost:8080/",
          "height": 363
        },
        "id": "6lU9MbHtr-m6",
        "outputId": "871416fd-c395-408c-feae-2d477c9ca4f7"
      },
      "outputs": [
        {
          "output_type": "execute_result",
          "data": {
            "text/plain": [
              "    user_uid  element_uid  rating\n",
              "0      63140         3037      10\n",
              "1      63140         2693      10\n",
              "2      63140         6140       8\n",
              "3      63140         2822      10\n",
              "4      63140         7901       9\n",
              "5      63140         9700      10\n",
              "6      63140         1124      10\n",
              "7      63140         2714       8\n",
              "8      63140         6099       8\n",
              "18     43752         8829       8"
            ],
            "text/html": [
              "\n",
              "  <div id=\"df-e7153373-d09f-43f5-a42e-e7fce8196781\" class=\"colab-df-container\">\n",
              "    <div>\n",
              "<style scoped>\n",
              "    .dataframe tbody tr th:only-of-type {\n",
              "        vertical-align: middle;\n",
              "    }\n",
              "\n",
              "    .dataframe tbody tr th {\n",
              "        vertical-align: top;\n",
              "    }\n",
              "\n",
              "    .dataframe thead th {\n",
              "        text-align: right;\n",
              "    }\n",
              "</style>\n",
              "<table border=\"1\" class=\"dataframe\">\n",
              "  <thead>\n",
              "    <tr style=\"text-align: right;\">\n",
              "      <th></th>\n",
              "      <th>user_uid</th>\n",
              "      <th>element_uid</th>\n",
              "      <th>rating</th>\n",
              "    </tr>\n",
              "  </thead>\n",
              "  <tbody>\n",
              "    <tr>\n",
              "      <th>0</th>\n",
              "      <td>63140</td>\n",
              "      <td>3037</td>\n",
              "      <td>10</td>\n",
              "    </tr>\n",
              "    <tr>\n",
              "      <th>1</th>\n",
              "      <td>63140</td>\n",
              "      <td>2693</td>\n",
              "      <td>10</td>\n",
              "    </tr>\n",
              "    <tr>\n",
              "      <th>2</th>\n",
              "      <td>63140</td>\n",
              "      <td>6140</td>\n",
              "      <td>8</td>\n",
              "    </tr>\n",
              "    <tr>\n",
              "      <th>3</th>\n",
              "      <td>63140</td>\n",
              "      <td>2822</td>\n",
              "      <td>10</td>\n",
              "    </tr>\n",
              "    <tr>\n",
              "      <th>4</th>\n",
              "      <td>63140</td>\n",
              "      <td>7901</td>\n",
              "      <td>9</td>\n",
              "    </tr>\n",
              "    <tr>\n",
              "      <th>5</th>\n",
              "      <td>63140</td>\n",
              "      <td>9700</td>\n",
              "      <td>10</td>\n",
              "    </tr>\n",
              "    <tr>\n",
              "      <th>6</th>\n",
              "      <td>63140</td>\n",
              "      <td>1124</td>\n",
              "      <td>10</td>\n",
              "    </tr>\n",
              "    <tr>\n",
              "      <th>7</th>\n",
              "      <td>63140</td>\n",
              "      <td>2714</td>\n",
              "      <td>8</td>\n",
              "    </tr>\n",
              "    <tr>\n",
              "      <th>8</th>\n",
              "      <td>63140</td>\n",
              "      <td>6099</td>\n",
              "      <td>8</td>\n",
              "    </tr>\n",
              "    <tr>\n",
              "      <th>18</th>\n",
              "      <td>43752</td>\n",
              "      <td>8829</td>\n",
              "      <td>8</td>\n",
              "    </tr>\n",
              "  </tbody>\n",
              "</table>\n",
              "</div>\n",
              "    <div class=\"colab-df-buttons\">\n",
              "\n",
              "  <div class=\"colab-df-container\">\n",
              "    <button class=\"colab-df-convert\" onclick=\"convertToInteractive('df-e7153373-d09f-43f5-a42e-e7fce8196781')\"\n",
              "            title=\"Convert this dataframe to an interactive table.\"\n",
              "            style=\"display:none;\">\n",
              "\n",
              "  <svg xmlns=\"http://www.w3.org/2000/svg\" height=\"24px\" viewBox=\"0 -960 960 960\">\n",
              "    <path d=\"M120-120v-720h720v720H120Zm60-500h600v-160H180v160Zm220 220h160v-160H400v160Zm0 220h160v-160H400v160ZM180-400h160v-160H180v160Zm440 0h160v-160H620v160ZM180-180h160v-160H180v160Zm440 0h160v-160H620v160Z\"/>\n",
              "  </svg>\n",
              "    </button>\n",
              "\n",
              "  <style>\n",
              "    .colab-df-container {\n",
              "      display:flex;\n",
              "      gap: 12px;\n",
              "    }\n",
              "\n",
              "    .colab-df-convert {\n",
              "      background-color: #E8F0FE;\n",
              "      border: none;\n",
              "      border-radius: 50%;\n",
              "      cursor: pointer;\n",
              "      display: none;\n",
              "      fill: #1967D2;\n",
              "      height: 32px;\n",
              "      padding: 0 0 0 0;\n",
              "      width: 32px;\n",
              "    }\n",
              "\n",
              "    .colab-df-convert:hover {\n",
              "      background-color: #E2EBFA;\n",
              "      box-shadow: 0px 1px 2px rgba(60, 64, 67, 0.3), 0px 1px 3px 1px rgba(60, 64, 67, 0.15);\n",
              "      fill: #174EA6;\n",
              "    }\n",
              "\n",
              "    .colab-df-buttons div {\n",
              "      margin-bottom: 4px;\n",
              "    }\n",
              "\n",
              "    [theme=dark] .colab-df-convert {\n",
              "      background-color: #3B4455;\n",
              "      fill: #D2E3FC;\n",
              "    }\n",
              "\n",
              "    [theme=dark] .colab-df-convert:hover {\n",
              "      background-color: #434B5C;\n",
              "      box-shadow: 0px 1px 3px 1px rgba(0, 0, 0, 0.15);\n",
              "      filter: drop-shadow(0px 1px 2px rgba(0, 0, 0, 0.3));\n",
              "      fill: #FFFFFF;\n",
              "    }\n",
              "  </style>\n",
              "\n",
              "    <script>\n",
              "      const buttonEl =\n",
              "        document.querySelector('#df-e7153373-d09f-43f5-a42e-e7fce8196781 button.colab-df-convert');\n",
              "      buttonEl.style.display =\n",
              "        google.colab.kernel.accessAllowed ? 'block' : 'none';\n",
              "\n",
              "      async function convertToInteractive(key) {\n",
              "        const element = document.querySelector('#df-e7153373-d09f-43f5-a42e-e7fce8196781');\n",
              "        const dataTable =\n",
              "          await google.colab.kernel.invokeFunction('convertToInteractive',\n",
              "                                                    [key], {});\n",
              "        if (!dataTable) return;\n",
              "\n",
              "        const docLinkHtml = 'Like what you see? Visit the ' +\n",
              "          '<a target=\"_blank\" href=https://colab.research.google.com/notebooks/data_table.ipynb>data table notebook</a>'\n",
              "          + ' to learn more about interactive tables.';\n",
              "        element.innerHTML = '';\n",
              "        dataTable['output_type'] = 'display_data';\n",
              "        await google.colab.output.renderOutput(dataTable, element);\n",
              "        const docLink = document.createElement('div');\n",
              "        docLink.innerHTML = docLinkHtml;\n",
              "        element.appendChild(docLink);\n",
              "      }\n",
              "    </script>\n",
              "  </div>\n",
              "\n",
              "\n",
              "<div id=\"df-c4202fd9-c32c-406c-b760-e774f378879d\">\n",
              "  <button class=\"colab-df-quickchart\" onclick=\"quickchart('df-c4202fd9-c32c-406c-b760-e774f378879d')\"\n",
              "            title=\"Suggest charts\"\n",
              "            style=\"display:none;\">\n",
              "\n",
              "<svg xmlns=\"http://www.w3.org/2000/svg\" height=\"24px\"viewBox=\"0 0 24 24\"\n",
              "     width=\"24px\">\n",
              "    <g>\n",
              "        <path d=\"M19 3H5c-1.1 0-2 .9-2 2v14c0 1.1.9 2 2 2h14c1.1 0 2-.9 2-2V5c0-1.1-.9-2-2-2zM9 17H7v-7h2v7zm4 0h-2V7h2v10zm4 0h-2v-4h2v4z\"/>\n",
              "    </g>\n",
              "</svg>\n",
              "  </button>\n",
              "\n",
              "<style>\n",
              "  .colab-df-quickchart {\n",
              "      --bg-color: #E8F0FE;\n",
              "      --fill-color: #1967D2;\n",
              "      --hover-bg-color: #E2EBFA;\n",
              "      --hover-fill-color: #174EA6;\n",
              "      --disabled-fill-color: #AAA;\n",
              "      --disabled-bg-color: #DDD;\n",
              "  }\n",
              "\n",
              "  [theme=dark] .colab-df-quickchart {\n",
              "      --bg-color: #3B4455;\n",
              "      --fill-color: #D2E3FC;\n",
              "      --hover-bg-color: #434B5C;\n",
              "      --hover-fill-color: #FFFFFF;\n",
              "      --disabled-bg-color: #3B4455;\n",
              "      --disabled-fill-color: #666;\n",
              "  }\n",
              "\n",
              "  .colab-df-quickchart {\n",
              "    background-color: var(--bg-color);\n",
              "    border: none;\n",
              "    border-radius: 50%;\n",
              "    cursor: pointer;\n",
              "    display: none;\n",
              "    fill: var(--fill-color);\n",
              "    height: 32px;\n",
              "    padding: 0;\n",
              "    width: 32px;\n",
              "  }\n",
              "\n",
              "  .colab-df-quickchart:hover {\n",
              "    background-color: var(--hover-bg-color);\n",
              "    box-shadow: 0 1px 2px rgba(60, 64, 67, 0.3), 0 1px 3px 1px rgba(60, 64, 67, 0.15);\n",
              "    fill: var(--button-hover-fill-color);\n",
              "  }\n",
              "\n",
              "  .colab-df-quickchart-complete:disabled,\n",
              "  .colab-df-quickchart-complete:disabled:hover {\n",
              "    background-color: var(--disabled-bg-color);\n",
              "    fill: var(--disabled-fill-color);\n",
              "    box-shadow: none;\n",
              "  }\n",
              "\n",
              "  .colab-df-spinner {\n",
              "    border: 2px solid var(--fill-color);\n",
              "    border-color: transparent;\n",
              "    border-bottom-color: var(--fill-color);\n",
              "    animation:\n",
              "      spin 1s steps(1) infinite;\n",
              "  }\n",
              "\n",
              "  @keyframes spin {\n",
              "    0% {\n",
              "      border-color: transparent;\n",
              "      border-bottom-color: var(--fill-color);\n",
              "      border-left-color: var(--fill-color);\n",
              "    }\n",
              "    20% {\n",
              "      border-color: transparent;\n",
              "      border-left-color: var(--fill-color);\n",
              "      border-top-color: var(--fill-color);\n",
              "    }\n",
              "    30% {\n",
              "      border-color: transparent;\n",
              "      border-left-color: var(--fill-color);\n",
              "      border-top-color: var(--fill-color);\n",
              "      border-right-color: var(--fill-color);\n",
              "    }\n",
              "    40% {\n",
              "      border-color: transparent;\n",
              "      border-right-color: var(--fill-color);\n",
              "      border-top-color: var(--fill-color);\n",
              "    }\n",
              "    60% {\n",
              "      border-color: transparent;\n",
              "      border-right-color: var(--fill-color);\n",
              "    }\n",
              "    80% {\n",
              "      border-color: transparent;\n",
              "      border-right-color: var(--fill-color);\n",
              "      border-bottom-color: var(--fill-color);\n",
              "    }\n",
              "    90% {\n",
              "      border-color: transparent;\n",
              "      border-bottom-color: var(--fill-color);\n",
              "    }\n",
              "  }\n",
              "</style>\n",
              "\n",
              "  <script>\n",
              "    async function quickchart(key) {\n",
              "      const quickchartButtonEl =\n",
              "        document.querySelector('#' + key + ' button');\n",
              "      quickchartButtonEl.disabled = true;  // To prevent multiple clicks.\n",
              "      quickchartButtonEl.classList.add('colab-df-spinner');\n",
              "      try {\n",
              "        const charts = await google.colab.kernel.invokeFunction(\n",
              "            'suggestCharts', [key], {});\n",
              "      } catch (error) {\n",
              "        console.error('Error during call to suggestCharts:', error);\n",
              "      }\n",
              "      quickchartButtonEl.classList.remove('colab-df-spinner');\n",
              "      quickchartButtonEl.classList.add('colab-df-quickchart-complete');\n",
              "    }\n",
              "    (() => {\n",
              "      let quickchartButtonEl =\n",
              "        document.querySelector('#df-c4202fd9-c32c-406c-b760-e774f378879d button');\n",
              "      quickchartButtonEl.style.display =\n",
              "        google.colab.kernel.accessAllowed ? 'block' : 'none';\n",
              "    })();\n",
              "  </script>\n",
              "</div>\n",
              "    </div>\n",
              "  </div>\n"
            ]
          },
          "metadata": {},
          "execution_count": 14
        }
      ],
      "source": [
        "check_table.head(10)"
      ]
    },
    {
      "cell_type": "markdown",
      "metadata": {
        "id": "-4GFh8D-sIQB"
      },
      "source": [
        "Созадим данные для train"
      ]
    },
    {
      "cell_type": "code",
      "execution_count": 15,
      "metadata": {
        "id": "xoMHovPxsLAB"
      },
      "outputs": [],
      "source": [
        "table_train = ratings.copy()"
      ]
    },
    {
      "cell_type": "code",
      "execution_count": 16,
      "metadata": {
        "colab": {
          "base_uri": "https://localhost:8080/",
          "height": 143
        },
        "id": "GunWv9SWsbsZ",
        "outputId": "c254430f-bd17-4984-c6eb-5b441bad2f53"
      },
      "outputs": [
        {
          "output_type": "execute_result",
          "data": {
            "text/plain": [
              "   user_uid  element_uid  rating\n",
              "2     43752         9912       9\n",
              "3     43752          517       7\n",
              "4     43752         5139      10"
            ],
            "text/html": [
              "\n",
              "  <div id=\"df-7d0a30fa-48ec-466d-8176-1969550d997d\" class=\"colab-df-container\">\n",
              "    <div>\n",
              "<style scoped>\n",
              "    .dataframe tbody tr th:only-of-type {\n",
              "        vertical-align: middle;\n",
              "    }\n",
              "\n",
              "    .dataframe tbody tr th {\n",
              "        vertical-align: top;\n",
              "    }\n",
              "\n",
              "    .dataframe thead th {\n",
              "        text-align: right;\n",
              "    }\n",
              "</style>\n",
              "<table border=\"1\" class=\"dataframe\">\n",
              "  <thead>\n",
              "    <tr style=\"text-align: right;\">\n",
              "      <th></th>\n",
              "      <th>user_uid</th>\n",
              "      <th>element_uid</th>\n",
              "      <th>rating</th>\n",
              "    </tr>\n",
              "  </thead>\n",
              "  <tbody>\n",
              "    <tr>\n",
              "      <th>2</th>\n",
              "      <td>43752</td>\n",
              "      <td>9912</td>\n",
              "      <td>9</td>\n",
              "    </tr>\n",
              "    <tr>\n",
              "      <th>3</th>\n",
              "      <td>43752</td>\n",
              "      <td>517</td>\n",
              "      <td>7</td>\n",
              "    </tr>\n",
              "    <tr>\n",
              "      <th>4</th>\n",
              "      <td>43752</td>\n",
              "      <td>5139</td>\n",
              "      <td>10</td>\n",
              "    </tr>\n",
              "  </tbody>\n",
              "</table>\n",
              "</div>\n",
              "    <div class=\"colab-df-buttons\">\n",
              "\n",
              "  <div class=\"colab-df-container\">\n",
              "    <button class=\"colab-df-convert\" onclick=\"convertToInteractive('df-7d0a30fa-48ec-466d-8176-1969550d997d')\"\n",
              "            title=\"Convert this dataframe to an interactive table.\"\n",
              "            style=\"display:none;\">\n",
              "\n",
              "  <svg xmlns=\"http://www.w3.org/2000/svg\" height=\"24px\" viewBox=\"0 -960 960 960\">\n",
              "    <path d=\"M120-120v-720h720v720H120Zm60-500h600v-160H180v160Zm220 220h160v-160H400v160Zm0 220h160v-160H400v160ZM180-400h160v-160H180v160Zm440 0h160v-160H620v160ZM180-180h160v-160H180v160Zm440 0h160v-160H620v160Z\"/>\n",
              "  </svg>\n",
              "    </button>\n",
              "\n",
              "  <style>\n",
              "    .colab-df-container {\n",
              "      display:flex;\n",
              "      gap: 12px;\n",
              "    }\n",
              "\n",
              "    .colab-df-convert {\n",
              "      background-color: #E8F0FE;\n",
              "      border: none;\n",
              "      border-radius: 50%;\n",
              "      cursor: pointer;\n",
              "      display: none;\n",
              "      fill: #1967D2;\n",
              "      height: 32px;\n",
              "      padding: 0 0 0 0;\n",
              "      width: 32px;\n",
              "    }\n",
              "\n",
              "    .colab-df-convert:hover {\n",
              "      background-color: #E2EBFA;\n",
              "      box-shadow: 0px 1px 2px rgba(60, 64, 67, 0.3), 0px 1px 3px 1px rgba(60, 64, 67, 0.15);\n",
              "      fill: #174EA6;\n",
              "    }\n",
              "\n",
              "    .colab-df-buttons div {\n",
              "      margin-bottom: 4px;\n",
              "    }\n",
              "\n",
              "    [theme=dark] .colab-df-convert {\n",
              "      background-color: #3B4455;\n",
              "      fill: #D2E3FC;\n",
              "    }\n",
              "\n",
              "    [theme=dark] .colab-df-convert:hover {\n",
              "      background-color: #434B5C;\n",
              "      box-shadow: 0px 1px 3px 1px rgba(0, 0, 0, 0.15);\n",
              "      filter: drop-shadow(0px 1px 2px rgba(0, 0, 0, 0.3));\n",
              "      fill: #FFFFFF;\n",
              "    }\n",
              "  </style>\n",
              "\n",
              "    <script>\n",
              "      const buttonEl =\n",
              "        document.querySelector('#df-7d0a30fa-48ec-466d-8176-1969550d997d button.colab-df-convert');\n",
              "      buttonEl.style.display =\n",
              "        google.colab.kernel.accessAllowed ? 'block' : 'none';\n",
              "\n",
              "      async function convertToInteractive(key) {\n",
              "        const element = document.querySelector('#df-7d0a30fa-48ec-466d-8176-1969550d997d');\n",
              "        const dataTable =\n",
              "          await google.colab.kernel.invokeFunction('convertToInteractive',\n",
              "                                                    [key], {});\n",
              "        if (!dataTable) return;\n",
              "\n",
              "        const docLinkHtml = 'Like what you see? Visit the ' +\n",
              "          '<a target=\"_blank\" href=https://colab.research.google.com/notebooks/data_table.ipynb>data table notebook</a>'\n",
              "          + ' to learn more about interactive tables.';\n",
              "        element.innerHTML = '';\n",
              "        dataTable['output_type'] = 'display_data';\n",
              "        await google.colab.output.renderOutput(dataTable, element);\n",
              "        const docLink = document.createElement('div');\n",
              "        docLink.innerHTML = docLinkHtml;\n",
              "        element.appendChild(docLink);\n",
              "      }\n",
              "    </script>\n",
              "  </div>\n",
              "\n",
              "\n",
              "<div id=\"df-1fe715dd-bf7d-4c8f-aa7b-41ec87fecb8e\">\n",
              "  <button class=\"colab-df-quickchart\" onclick=\"quickchart('df-1fe715dd-bf7d-4c8f-aa7b-41ec87fecb8e')\"\n",
              "            title=\"Suggest charts\"\n",
              "            style=\"display:none;\">\n",
              "\n",
              "<svg xmlns=\"http://www.w3.org/2000/svg\" height=\"24px\"viewBox=\"0 0 24 24\"\n",
              "     width=\"24px\">\n",
              "    <g>\n",
              "        <path d=\"M19 3H5c-1.1 0-2 .9-2 2v14c0 1.1.9 2 2 2h14c1.1 0 2-.9 2-2V5c0-1.1-.9-2-2-2zM9 17H7v-7h2v7zm4 0h-2V7h2v10zm4 0h-2v-4h2v4z\"/>\n",
              "    </g>\n",
              "</svg>\n",
              "  </button>\n",
              "\n",
              "<style>\n",
              "  .colab-df-quickchart {\n",
              "      --bg-color: #E8F0FE;\n",
              "      --fill-color: #1967D2;\n",
              "      --hover-bg-color: #E2EBFA;\n",
              "      --hover-fill-color: #174EA6;\n",
              "      --disabled-fill-color: #AAA;\n",
              "      --disabled-bg-color: #DDD;\n",
              "  }\n",
              "\n",
              "  [theme=dark] .colab-df-quickchart {\n",
              "      --bg-color: #3B4455;\n",
              "      --fill-color: #D2E3FC;\n",
              "      --hover-bg-color: #434B5C;\n",
              "      --hover-fill-color: #FFFFFF;\n",
              "      --disabled-bg-color: #3B4455;\n",
              "      --disabled-fill-color: #666;\n",
              "  }\n",
              "\n",
              "  .colab-df-quickchart {\n",
              "    background-color: var(--bg-color);\n",
              "    border: none;\n",
              "    border-radius: 50%;\n",
              "    cursor: pointer;\n",
              "    display: none;\n",
              "    fill: var(--fill-color);\n",
              "    height: 32px;\n",
              "    padding: 0;\n",
              "    width: 32px;\n",
              "  }\n",
              "\n",
              "  .colab-df-quickchart:hover {\n",
              "    background-color: var(--hover-bg-color);\n",
              "    box-shadow: 0 1px 2px rgba(60, 64, 67, 0.3), 0 1px 3px 1px rgba(60, 64, 67, 0.15);\n",
              "    fill: var(--button-hover-fill-color);\n",
              "  }\n",
              "\n",
              "  .colab-df-quickchart-complete:disabled,\n",
              "  .colab-df-quickchart-complete:disabled:hover {\n",
              "    background-color: var(--disabled-bg-color);\n",
              "    fill: var(--disabled-fill-color);\n",
              "    box-shadow: none;\n",
              "  }\n",
              "\n",
              "  .colab-df-spinner {\n",
              "    border: 2px solid var(--fill-color);\n",
              "    border-color: transparent;\n",
              "    border-bottom-color: var(--fill-color);\n",
              "    animation:\n",
              "      spin 1s steps(1) infinite;\n",
              "  }\n",
              "\n",
              "  @keyframes spin {\n",
              "    0% {\n",
              "      border-color: transparent;\n",
              "      border-bottom-color: var(--fill-color);\n",
              "      border-left-color: var(--fill-color);\n",
              "    }\n",
              "    20% {\n",
              "      border-color: transparent;\n",
              "      border-left-color: var(--fill-color);\n",
              "      border-top-color: var(--fill-color);\n",
              "    }\n",
              "    30% {\n",
              "      border-color: transparent;\n",
              "      border-left-color: var(--fill-color);\n",
              "      border-top-color: var(--fill-color);\n",
              "      border-right-color: var(--fill-color);\n",
              "    }\n",
              "    40% {\n",
              "      border-color: transparent;\n",
              "      border-right-color: var(--fill-color);\n",
              "      border-top-color: var(--fill-color);\n",
              "    }\n",
              "    60% {\n",
              "      border-color: transparent;\n",
              "      border-right-color: var(--fill-color);\n",
              "    }\n",
              "    80% {\n",
              "      border-color: transparent;\n",
              "      border-right-color: var(--fill-color);\n",
              "      border-bottom-color: var(--fill-color);\n",
              "    }\n",
              "    90% {\n",
              "      border-color: transparent;\n",
              "      border-bottom-color: var(--fill-color);\n",
              "    }\n",
              "  }\n",
              "</style>\n",
              "\n",
              "  <script>\n",
              "    async function quickchart(key) {\n",
              "      const quickchartButtonEl =\n",
              "        document.querySelector('#' + key + ' button');\n",
              "      quickchartButtonEl.disabled = true;  // To prevent multiple clicks.\n",
              "      quickchartButtonEl.classList.add('colab-df-spinner');\n",
              "      try {\n",
              "        const charts = await google.colab.kernel.invokeFunction(\n",
              "            'suggestCharts', [key], {});\n",
              "      } catch (error) {\n",
              "        console.error('Error during call to suggestCharts:', error);\n",
              "      }\n",
              "      quickchartButtonEl.classList.remove('colab-df-spinner');\n",
              "      quickchartButtonEl.classList.add('colab-df-quickchart-complete');\n",
              "    }\n",
              "    (() => {\n",
              "      let quickchartButtonEl =\n",
              "        document.querySelector('#df-1fe715dd-bf7d-4c8f-aa7b-41ec87fecb8e button');\n",
              "      quickchartButtonEl.style.display =\n",
              "        google.colab.kernel.accessAllowed ? 'block' : 'none';\n",
              "    })();\n",
              "  </script>\n",
              "</div>\n",
              "    </div>\n",
              "  </div>\n"
            ]
          },
          "metadata": {},
          "execution_count": 16
        }
      ],
      "source": [
        "table_train = table_train[['user_uid', 'element_uid', 'rating']]\n",
        "merged_df = pd.merge(table_train, check_table, on=['user_uid', 'element_uid', 'rating'], how='left', indicator=True)\n",
        "\n",
        "\n",
        "# Отбираем только те строки, которые есть только в df1\n",
        "result_df_train = merged_df[merged_df['_merge'] == 'left_only'].drop('_merge', axis=1)\n",
        "result_df_train.head(3)"
      ]
    },
    {
      "cell_type": "code",
      "execution_count": 17,
      "metadata": {
        "id": "wZ9fFB52kcqQ"
      },
      "outputs": [],
      "source": [
        "table_train = result_df_train"
      ]
    },
    {
      "cell_type": "code",
      "execution_count": 18,
      "metadata": {
        "colab": {
          "base_uri": "https://localhost:8080/"
        },
        "id": "rdSwgnkjvoPM",
        "outputId": "68dd85f9-d9d2-44a6-b32c-b3e43dabad83"
      },
      "outputs": [
        {
          "output_type": "execute_result",
          "data": {
            "text/plain": [
              "(38790, 3)"
            ]
          },
          "metadata": {},
          "execution_count": 18
        }
      ],
      "source": [
        "table_train.shape"
      ]
    },
    {
      "cell_type": "code",
      "execution_count": 19,
      "metadata": {
        "colab": {
          "base_uri": "https://localhost:8080/",
          "height": 423
        },
        "id": "yH3xHsUlNzla",
        "outputId": "c710fad7-7495-4ba0-e9d1-2c7389e6dc99"
      },
      "outputs": [
        {
          "output_type": "execute_result",
          "data": {
            "text/plain": [
              "        user_uid  element_uid  rating            ts\n",
              "1          63140         3037      10  4.430514e+07\n",
              "60         43752         8829       8  4.430408e+07\n",
              "62         43752         9912       9  4.430406e+07\n",
              "64         43752          517       7  4.430405e+07\n",
              "65         43752         5139      10  4.430405e+07\n",
              "...          ...          ...     ...           ...\n",
              "438750    443637         4299       8  4.173160e+07\n",
              "438752    443637         3777      10  4.173159e+07\n",
              "438754    443637         9999       8  4.173158e+07\n",
              "438781    330622         9745       6  4.173091e+07\n",
              "438787    353752         3336       8  4.173079e+07\n",
              "\n",
              "[48811 rows x 4 columns]"
            ],
            "text/html": [
              "\n",
              "  <div id=\"df-d78ad0d7-110e-426f-a0fe-f84ab3b67b97\" class=\"colab-df-container\">\n",
              "    <div>\n",
              "<style scoped>\n",
              "    .dataframe tbody tr th:only-of-type {\n",
              "        vertical-align: middle;\n",
              "    }\n",
              "\n",
              "    .dataframe tbody tr th {\n",
              "        vertical-align: top;\n",
              "    }\n",
              "\n",
              "    .dataframe thead th {\n",
              "        text-align: right;\n",
              "    }\n",
              "</style>\n",
              "<table border=\"1\" class=\"dataframe\">\n",
              "  <thead>\n",
              "    <tr style=\"text-align: right;\">\n",
              "      <th></th>\n",
              "      <th>user_uid</th>\n",
              "      <th>element_uid</th>\n",
              "      <th>rating</th>\n",
              "      <th>ts</th>\n",
              "    </tr>\n",
              "  </thead>\n",
              "  <tbody>\n",
              "    <tr>\n",
              "      <th>1</th>\n",
              "      <td>63140</td>\n",
              "      <td>3037</td>\n",
              "      <td>10</td>\n",
              "      <td>4.430514e+07</td>\n",
              "    </tr>\n",
              "    <tr>\n",
              "      <th>60</th>\n",
              "      <td>43752</td>\n",
              "      <td>8829</td>\n",
              "      <td>8</td>\n",
              "      <td>4.430408e+07</td>\n",
              "    </tr>\n",
              "    <tr>\n",
              "      <th>62</th>\n",
              "      <td>43752</td>\n",
              "      <td>9912</td>\n",
              "      <td>9</td>\n",
              "      <td>4.430406e+07</td>\n",
              "    </tr>\n",
              "    <tr>\n",
              "      <th>64</th>\n",
              "      <td>43752</td>\n",
              "      <td>517</td>\n",
              "      <td>7</td>\n",
              "      <td>4.430405e+07</td>\n",
              "    </tr>\n",
              "    <tr>\n",
              "      <th>65</th>\n",
              "      <td>43752</td>\n",
              "      <td>5139</td>\n",
              "      <td>10</td>\n",
              "      <td>4.430405e+07</td>\n",
              "    </tr>\n",
              "    <tr>\n",
              "      <th>...</th>\n",
              "      <td>...</td>\n",
              "      <td>...</td>\n",
              "      <td>...</td>\n",
              "      <td>...</td>\n",
              "    </tr>\n",
              "    <tr>\n",
              "      <th>438750</th>\n",
              "      <td>443637</td>\n",
              "      <td>4299</td>\n",
              "      <td>8</td>\n",
              "      <td>4.173160e+07</td>\n",
              "    </tr>\n",
              "    <tr>\n",
              "      <th>438752</th>\n",
              "      <td>443637</td>\n",
              "      <td>3777</td>\n",
              "      <td>10</td>\n",
              "      <td>4.173159e+07</td>\n",
              "    </tr>\n",
              "    <tr>\n",
              "      <th>438754</th>\n",
              "      <td>443637</td>\n",
              "      <td>9999</td>\n",
              "      <td>8</td>\n",
              "      <td>4.173158e+07</td>\n",
              "    </tr>\n",
              "    <tr>\n",
              "      <th>438781</th>\n",
              "      <td>330622</td>\n",
              "      <td>9745</td>\n",
              "      <td>6</td>\n",
              "      <td>4.173091e+07</td>\n",
              "    </tr>\n",
              "    <tr>\n",
              "      <th>438787</th>\n",
              "      <td>353752</td>\n",
              "      <td>3336</td>\n",
              "      <td>8</td>\n",
              "      <td>4.173079e+07</td>\n",
              "    </tr>\n",
              "  </tbody>\n",
              "</table>\n",
              "<p>48811 rows × 4 columns</p>\n",
              "</div>\n",
              "    <div class=\"colab-df-buttons\">\n",
              "\n",
              "  <div class=\"colab-df-container\">\n",
              "    <button class=\"colab-df-convert\" onclick=\"convertToInteractive('df-d78ad0d7-110e-426f-a0fe-f84ab3b67b97')\"\n",
              "            title=\"Convert this dataframe to an interactive table.\"\n",
              "            style=\"display:none;\">\n",
              "\n",
              "  <svg xmlns=\"http://www.w3.org/2000/svg\" height=\"24px\" viewBox=\"0 -960 960 960\">\n",
              "    <path d=\"M120-120v-720h720v720H120Zm60-500h600v-160H180v160Zm220 220h160v-160H400v160Zm0 220h160v-160H400v160ZM180-400h160v-160H180v160Zm440 0h160v-160H620v160ZM180-180h160v-160H180v160Zm440 0h160v-160H620v160Z\"/>\n",
              "  </svg>\n",
              "    </button>\n",
              "\n",
              "  <style>\n",
              "    .colab-df-container {\n",
              "      display:flex;\n",
              "      gap: 12px;\n",
              "    }\n",
              "\n",
              "    .colab-df-convert {\n",
              "      background-color: #E8F0FE;\n",
              "      border: none;\n",
              "      border-radius: 50%;\n",
              "      cursor: pointer;\n",
              "      display: none;\n",
              "      fill: #1967D2;\n",
              "      height: 32px;\n",
              "      padding: 0 0 0 0;\n",
              "      width: 32px;\n",
              "    }\n",
              "\n",
              "    .colab-df-convert:hover {\n",
              "      background-color: #E2EBFA;\n",
              "      box-shadow: 0px 1px 2px rgba(60, 64, 67, 0.3), 0px 1px 3px 1px rgba(60, 64, 67, 0.15);\n",
              "      fill: #174EA6;\n",
              "    }\n",
              "\n",
              "    .colab-df-buttons div {\n",
              "      margin-bottom: 4px;\n",
              "    }\n",
              "\n",
              "    [theme=dark] .colab-df-convert {\n",
              "      background-color: #3B4455;\n",
              "      fill: #D2E3FC;\n",
              "    }\n",
              "\n",
              "    [theme=dark] .colab-df-convert:hover {\n",
              "      background-color: #434B5C;\n",
              "      box-shadow: 0px 1px 3px 1px rgba(0, 0, 0, 0.15);\n",
              "      filter: drop-shadow(0px 1px 2px rgba(0, 0, 0, 0.3));\n",
              "      fill: #FFFFFF;\n",
              "    }\n",
              "  </style>\n",
              "\n",
              "    <script>\n",
              "      const buttonEl =\n",
              "        document.querySelector('#df-d78ad0d7-110e-426f-a0fe-f84ab3b67b97 button.colab-df-convert');\n",
              "      buttonEl.style.display =\n",
              "        google.colab.kernel.accessAllowed ? 'block' : 'none';\n",
              "\n",
              "      async function convertToInteractive(key) {\n",
              "        const element = document.querySelector('#df-d78ad0d7-110e-426f-a0fe-f84ab3b67b97');\n",
              "        const dataTable =\n",
              "          await google.colab.kernel.invokeFunction('convertToInteractive',\n",
              "                                                    [key], {});\n",
              "        if (!dataTable) return;\n",
              "\n",
              "        const docLinkHtml = 'Like what you see? Visit the ' +\n",
              "          '<a target=\"_blank\" href=https://colab.research.google.com/notebooks/data_table.ipynb>data table notebook</a>'\n",
              "          + ' to learn more about interactive tables.';\n",
              "        element.innerHTML = '';\n",
              "        dataTable['output_type'] = 'display_data';\n",
              "        await google.colab.output.renderOutput(dataTable, element);\n",
              "        const docLink = document.createElement('div');\n",
              "        docLink.innerHTML = docLinkHtml;\n",
              "        element.appendChild(docLink);\n",
              "      }\n",
              "    </script>\n",
              "  </div>\n",
              "\n",
              "\n",
              "<div id=\"df-2dd00985-661d-4606-bd1e-98e86de55f6f\">\n",
              "  <button class=\"colab-df-quickchart\" onclick=\"quickchart('df-2dd00985-661d-4606-bd1e-98e86de55f6f')\"\n",
              "            title=\"Suggest charts\"\n",
              "            style=\"display:none;\">\n",
              "\n",
              "<svg xmlns=\"http://www.w3.org/2000/svg\" height=\"24px\"viewBox=\"0 0 24 24\"\n",
              "     width=\"24px\">\n",
              "    <g>\n",
              "        <path d=\"M19 3H5c-1.1 0-2 .9-2 2v14c0 1.1.9 2 2 2h14c1.1 0 2-.9 2-2V5c0-1.1-.9-2-2-2zM9 17H7v-7h2v7zm4 0h-2V7h2v10zm4 0h-2v-4h2v4z\"/>\n",
              "    </g>\n",
              "</svg>\n",
              "  </button>\n",
              "\n",
              "<style>\n",
              "  .colab-df-quickchart {\n",
              "      --bg-color: #E8F0FE;\n",
              "      --fill-color: #1967D2;\n",
              "      --hover-bg-color: #E2EBFA;\n",
              "      --hover-fill-color: #174EA6;\n",
              "      --disabled-fill-color: #AAA;\n",
              "      --disabled-bg-color: #DDD;\n",
              "  }\n",
              "\n",
              "  [theme=dark] .colab-df-quickchart {\n",
              "      --bg-color: #3B4455;\n",
              "      --fill-color: #D2E3FC;\n",
              "      --hover-bg-color: #434B5C;\n",
              "      --hover-fill-color: #FFFFFF;\n",
              "      --disabled-bg-color: #3B4455;\n",
              "      --disabled-fill-color: #666;\n",
              "  }\n",
              "\n",
              "  .colab-df-quickchart {\n",
              "    background-color: var(--bg-color);\n",
              "    border: none;\n",
              "    border-radius: 50%;\n",
              "    cursor: pointer;\n",
              "    display: none;\n",
              "    fill: var(--fill-color);\n",
              "    height: 32px;\n",
              "    padding: 0;\n",
              "    width: 32px;\n",
              "  }\n",
              "\n",
              "  .colab-df-quickchart:hover {\n",
              "    background-color: var(--hover-bg-color);\n",
              "    box-shadow: 0 1px 2px rgba(60, 64, 67, 0.3), 0 1px 3px 1px rgba(60, 64, 67, 0.15);\n",
              "    fill: var(--button-hover-fill-color);\n",
              "  }\n",
              "\n",
              "  .colab-df-quickchart-complete:disabled,\n",
              "  .colab-df-quickchart-complete:disabled:hover {\n",
              "    background-color: var(--disabled-bg-color);\n",
              "    fill: var(--disabled-fill-color);\n",
              "    box-shadow: none;\n",
              "  }\n",
              "\n",
              "  .colab-df-spinner {\n",
              "    border: 2px solid var(--fill-color);\n",
              "    border-color: transparent;\n",
              "    border-bottom-color: var(--fill-color);\n",
              "    animation:\n",
              "      spin 1s steps(1) infinite;\n",
              "  }\n",
              "\n",
              "  @keyframes spin {\n",
              "    0% {\n",
              "      border-color: transparent;\n",
              "      border-bottom-color: var(--fill-color);\n",
              "      border-left-color: var(--fill-color);\n",
              "    }\n",
              "    20% {\n",
              "      border-color: transparent;\n",
              "      border-left-color: var(--fill-color);\n",
              "      border-top-color: var(--fill-color);\n",
              "    }\n",
              "    30% {\n",
              "      border-color: transparent;\n",
              "      border-left-color: var(--fill-color);\n",
              "      border-top-color: var(--fill-color);\n",
              "      border-right-color: var(--fill-color);\n",
              "    }\n",
              "    40% {\n",
              "      border-color: transparent;\n",
              "      border-right-color: var(--fill-color);\n",
              "      border-top-color: var(--fill-color);\n",
              "    }\n",
              "    60% {\n",
              "      border-color: transparent;\n",
              "      border-right-color: var(--fill-color);\n",
              "    }\n",
              "    80% {\n",
              "      border-color: transparent;\n",
              "      border-right-color: var(--fill-color);\n",
              "      border-bottom-color: var(--fill-color);\n",
              "    }\n",
              "    90% {\n",
              "      border-color: transparent;\n",
              "      border-bottom-color: var(--fill-color);\n",
              "    }\n",
              "  }\n",
              "</style>\n",
              "\n",
              "  <script>\n",
              "    async function quickchart(key) {\n",
              "      const quickchartButtonEl =\n",
              "        document.querySelector('#' + key + ' button');\n",
              "      quickchartButtonEl.disabled = true;  // To prevent multiple clicks.\n",
              "      quickchartButtonEl.classList.add('colab-df-spinner');\n",
              "      try {\n",
              "        const charts = await google.colab.kernel.invokeFunction(\n",
              "            'suggestCharts', [key], {});\n",
              "      } catch (error) {\n",
              "        console.error('Error during call to suggestCharts:', error);\n",
              "      }\n",
              "      quickchartButtonEl.classList.remove('colab-df-spinner');\n",
              "      quickchartButtonEl.classList.add('colab-df-quickchart-complete');\n",
              "    }\n",
              "    (() => {\n",
              "      let quickchartButtonEl =\n",
              "        document.querySelector('#df-2dd00985-661d-4606-bd1e-98e86de55f6f button');\n",
              "      quickchartButtonEl.style.display =\n",
              "        google.colab.kernel.accessAllowed ? 'block' : 'none';\n",
              "    })();\n",
              "  </script>\n",
              "</div>\n",
              "    </div>\n",
              "  </div>\n"
            ]
          },
          "metadata": {},
          "execution_count": 19
        }
      ],
      "source": [
        "ratings"
      ]
    },
    {
      "cell_type": "markdown",
      "metadata": {
        "id": "D5l4kDRNX3gV"
      },
      "source": [
        "Подготовка данных для обучения NN"
      ]
    },
    {
      "cell_type": "code",
      "execution_count": 20,
      "metadata": {
        "id": "CiWlonxFUWVY"
      },
      "outputs": [],
      "source": [
        "from torch.utils.data import Dataset, DataLoader"
      ]
    },
    {
      "cell_type": "code",
      "execution_count": 21,
      "metadata": {
        "colab": {
          "base_uri": "https://localhost:8080/",
          "height": 423
        },
        "id": "3Es2lr1FaJ0V",
        "outputId": "bcab7023-bf04-432d-c93e-2761fddcb558"
      },
      "outputs": [
        {
          "output_type": "execute_result",
          "data": {
            "text/plain": [
              "       user_uid  element_uid\n",
              "0         63140         3037\n",
              "1         63140         2693\n",
              "2         63140         6140\n",
              "3         63140         2822\n",
              "4         63140         7901\n",
              "...         ...          ...\n",
              "10025    160242         9093\n",
              "10026    160242         8946\n",
              "10027    160242         2639\n",
              "10028    160242         9767\n",
              "10029    160242         1653\n",
              "\n",
              "[10021 rows x 2 columns]"
            ],
            "text/html": [
              "\n",
              "  <div id=\"df-e4463fec-1bf0-4fd5-92f3-c2c5f278b4a0\" class=\"colab-df-container\">\n",
              "    <div>\n",
              "<style scoped>\n",
              "    .dataframe tbody tr th:only-of-type {\n",
              "        vertical-align: middle;\n",
              "    }\n",
              "\n",
              "    .dataframe tbody tr th {\n",
              "        vertical-align: top;\n",
              "    }\n",
              "\n",
              "    .dataframe thead th {\n",
              "        text-align: right;\n",
              "    }\n",
              "</style>\n",
              "<table border=\"1\" class=\"dataframe\">\n",
              "  <thead>\n",
              "    <tr style=\"text-align: right;\">\n",
              "      <th></th>\n",
              "      <th>user_uid</th>\n",
              "      <th>element_uid</th>\n",
              "    </tr>\n",
              "  </thead>\n",
              "  <tbody>\n",
              "    <tr>\n",
              "      <th>0</th>\n",
              "      <td>63140</td>\n",
              "      <td>3037</td>\n",
              "    </tr>\n",
              "    <tr>\n",
              "      <th>1</th>\n",
              "      <td>63140</td>\n",
              "      <td>2693</td>\n",
              "    </tr>\n",
              "    <tr>\n",
              "      <th>2</th>\n",
              "      <td>63140</td>\n",
              "      <td>6140</td>\n",
              "    </tr>\n",
              "    <tr>\n",
              "      <th>3</th>\n",
              "      <td>63140</td>\n",
              "      <td>2822</td>\n",
              "    </tr>\n",
              "    <tr>\n",
              "      <th>4</th>\n",
              "      <td>63140</td>\n",
              "      <td>7901</td>\n",
              "    </tr>\n",
              "    <tr>\n",
              "      <th>...</th>\n",
              "      <td>...</td>\n",
              "      <td>...</td>\n",
              "    </tr>\n",
              "    <tr>\n",
              "      <th>10025</th>\n",
              "      <td>160242</td>\n",
              "      <td>9093</td>\n",
              "    </tr>\n",
              "    <tr>\n",
              "      <th>10026</th>\n",
              "      <td>160242</td>\n",
              "      <td>8946</td>\n",
              "    </tr>\n",
              "    <tr>\n",
              "      <th>10027</th>\n",
              "      <td>160242</td>\n",
              "      <td>2639</td>\n",
              "    </tr>\n",
              "    <tr>\n",
              "      <th>10028</th>\n",
              "      <td>160242</td>\n",
              "      <td>9767</td>\n",
              "    </tr>\n",
              "    <tr>\n",
              "      <th>10029</th>\n",
              "      <td>160242</td>\n",
              "      <td>1653</td>\n",
              "    </tr>\n",
              "  </tbody>\n",
              "</table>\n",
              "<p>10021 rows × 2 columns</p>\n",
              "</div>\n",
              "    <div class=\"colab-df-buttons\">\n",
              "\n",
              "  <div class=\"colab-df-container\">\n",
              "    <button class=\"colab-df-convert\" onclick=\"convertToInteractive('df-e4463fec-1bf0-4fd5-92f3-c2c5f278b4a0')\"\n",
              "            title=\"Convert this dataframe to an interactive table.\"\n",
              "            style=\"display:none;\">\n",
              "\n",
              "  <svg xmlns=\"http://www.w3.org/2000/svg\" height=\"24px\" viewBox=\"0 -960 960 960\">\n",
              "    <path d=\"M120-120v-720h720v720H120Zm60-500h600v-160H180v160Zm220 220h160v-160H400v160Zm0 220h160v-160H400v160ZM180-400h160v-160H180v160Zm440 0h160v-160H620v160ZM180-180h160v-160H180v160Zm440 0h160v-160H620v160Z\"/>\n",
              "  </svg>\n",
              "    </button>\n",
              "\n",
              "  <style>\n",
              "    .colab-df-container {\n",
              "      display:flex;\n",
              "      gap: 12px;\n",
              "    }\n",
              "\n",
              "    .colab-df-convert {\n",
              "      background-color: #E8F0FE;\n",
              "      border: none;\n",
              "      border-radius: 50%;\n",
              "      cursor: pointer;\n",
              "      display: none;\n",
              "      fill: #1967D2;\n",
              "      height: 32px;\n",
              "      padding: 0 0 0 0;\n",
              "      width: 32px;\n",
              "    }\n",
              "\n",
              "    .colab-df-convert:hover {\n",
              "      background-color: #E2EBFA;\n",
              "      box-shadow: 0px 1px 2px rgba(60, 64, 67, 0.3), 0px 1px 3px 1px rgba(60, 64, 67, 0.15);\n",
              "      fill: #174EA6;\n",
              "    }\n",
              "\n",
              "    .colab-df-buttons div {\n",
              "      margin-bottom: 4px;\n",
              "    }\n",
              "\n",
              "    [theme=dark] .colab-df-convert {\n",
              "      background-color: #3B4455;\n",
              "      fill: #D2E3FC;\n",
              "    }\n",
              "\n",
              "    [theme=dark] .colab-df-convert:hover {\n",
              "      background-color: #434B5C;\n",
              "      box-shadow: 0px 1px 3px 1px rgba(0, 0, 0, 0.15);\n",
              "      filter: drop-shadow(0px 1px 2px rgba(0, 0, 0, 0.3));\n",
              "      fill: #FFFFFF;\n",
              "    }\n",
              "  </style>\n",
              "\n",
              "    <script>\n",
              "      const buttonEl =\n",
              "        document.querySelector('#df-e4463fec-1bf0-4fd5-92f3-c2c5f278b4a0 button.colab-df-convert');\n",
              "      buttonEl.style.display =\n",
              "        google.colab.kernel.accessAllowed ? 'block' : 'none';\n",
              "\n",
              "      async function convertToInteractive(key) {\n",
              "        const element = document.querySelector('#df-e4463fec-1bf0-4fd5-92f3-c2c5f278b4a0');\n",
              "        const dataTable =\n",
              "          await google.colab.kernel.invokeFunction('convertToInteractive',\n",
              "                                                    [key], {});\n",
              "        if (!dataTable) return;\n",
              "\n",
              "        const docLinkHtml = 'Like what you see? Visit the ' +\n",
              "          '<a target=\"_blank\" href=https://colab.research.google.com/notebooks/data_table.ipynb>data table notebook</a>'\n",
              "          + ' to learn more about interactive tables.';\n",
              "        element.innerHTML = '';\n",
              "        dataTable['output_type'] = 'display_data';\n",
              "        await google.colab.output.renderOutput(dataTable, element);\n",
              "        const docLink = document.createElement('div');\n",
              "        docLink.innerHTML = docLinkHtml;\n",
              "        element.appendChild(docLink);\n",
              "      }\n",
              "    </script>\n",
              "  </div>\n",
              "\n",
              "\n",
              "<div id=\"df-488d5aae-4004-42a2-8c07-90c800401f73\">\n",
              "  <button class=\"colab-df-quickchart\" onclick=\"quickchart('df-488d5aae-4004-42a2-8c07-90c800401f73')\"\n",
              "            title=\"Suggest charts\"\n",
              "            style=\"display:none;\">\n",
              "\n",
              "<svg xmlns=\"http://www.w3.org/2000/svg\" height=\"24px\"viewBox=\"0 0 24 24\"\n",
              "     width=\"24px\">\n",
              "    <g>\n",
              "        <path d=\"M19 3H5c-1.1 0-2 .9-2 2v14c0 1.1.9 2 2 2h14c1.1 0 2-.9 2-2V5c0-1.1-.9-2-2-2zM9 17H7v-7h2v7zm4 0h-2V7h2v10zm4 0h-2v-4h2v4z\"/>\n",
              "    </g>\n",
              "</svg>\n",
              "  </button>\n",
              "\n",
              "<style>\n",
              "  .colab-df-quickchart {\n",
              "      --bg-color: #E8F0FE;\n",
              "      --fill-color: #1967D2;\n",
              "      --hover-bg-color: #E2EBFA;\n",
              "      --hover-fill-color: #174EA6;\n",
              "      --disabled-fill-color: #AAA;\n",
              "      --disabled-bg-color: #DDD;\n",
              "  }\n",
              "\n",
              "  [theme=dark] .colab-df-quickchart {\n",
              "      --bg-color: #3B4455;\n",
              "      --fill-color: #D2E3FC;\n",
              "      --hover-bg-color: #434B5C;\n",
              "      --hover-fill-color: #FFFFFF;\n",
              "      --disabled-bg-color: #3B4455;\n",
              "      --disabled-fill-color: #666;\n",
              "  }\n",
              "\n",
              "  .colab-df-quickchart {\n",
              "    background-color: var(--bg-color);\n",
              "    border: none;\n",
              "    border-radius: 50%;\n",
              "    cursor: pointer;\n",
              "    display: none;\n",
              "    fill: var(--fill-color);\n",
              "    height: 32px;\n",
              "    padding: 0;\n",
              "    width: 32px;\n",
              "  }\n",
              "\n",
              "  .colab-df-quickchart:hover {\n",
              "    background-color: var(--hover-bg-color);\n",
              "    box-shadow: 0 1px 2px rgba(60, 64, 67, 0.3), 0 1px 3px 1px rgba(60, 64, 67, 0.15);\n",
              "    fill: var(--button-hover-fill-color);\n",
              "  }\n",
              "\n",
              "  .colab-df-quickchart-complete:disabled,\n",
              "  .colab-df-quickchart-complete:disabled:hover {\n",
              "    background-color: var(--disabled-bg-color);\n",
              "    fill: var(--disabled-fill-color);\n",
              "    box-shadow: none;\n",
              "  }\n",
              "\n",
              "  .colab-df-spinner {\n",
              "    border: 2px solid var(--fill-color);\n",
              "    border-color: transparent;\n",
              "    border-bottom-color: var(--fill-color);\n",
              "    animation:\n",
              "      spin 1s steps(1) infinite;\n",
              "  }\n",
              "\n",
              "  @keyframes spin {\n",
              "    0% {\n",
              "      border-color: transparent;\n",
              "      border-bottom-color: var(--fill-color);\n",
              "      border-left-color: var(--fill-color);\n",
              "    }\n",
              "    20% {\n",
              "      border-color: transparent;\n",
              "      border-left-color: var(--fill-color);\n",
              "      border-top-color: var(--fill-color);\n",
              "    }\n",
              "    30% {\n",
              "      border-color: transparent;\n",
              "      border-left-color: var(--fill-color);\n",
              "      border-top-color: var(--fill-color);\n",
              "      border-right-color: var(--fill-color);\n",
              "    }\n",
              "    40% {\n",
              "      border-color: transparent;\n",
              "      border-right-color: var(--fill-color);\n",
              "      border-top-color: var(--fill-color);\n",
              "    }\n",
              "    60% {\n",
              "      border-color: transparent;\n",
              "      border-right-color: var(--fill-color);\n",
              "    }\n",
              "    80% {\n",
              "      border-color: transparent;\n",
              "      border-right-color: var(--fill-color);\n",
              "      border-bottom-color: var(--fill-color);\n",
              "    }\n",
              "    90% {\n",
              "      border-color: transparent;\n",
              "      border-bottom-color: var(--fill-color);\n",
              "    }\n",
              "  }\n",
              "</style>\n",
              "\n",
              "  <script>\n",
              "    async function quickchart(key) {\n",
              "      const quickchartButtonEl =\n",
              "        document.querySelector('#' + key + ' button');\n",
              "      quickchartButtonEl.disabled = true;  // To prevent multiple clicks.\n",
              "      quickchartButtonEl.classList.add('colab-df-spinner');\n",
              "      try {\n",
              "        const charts = await google.colab.kernel.invokeFunction(\n",
              "            'suggestCharts', [key], {});\n",
              "      } catch (error) {\n",
              "        console.error('Error during call to suggestCharts:', error);\n",
              "      }\n",
              "      quickchartButtonEl.classList.remove('colab-df-spinner');\n",
              "      quickchartButtonEl.classList.add('colab-df-quickchart-complete');\n",
              "    }\n",
              "    (() => {\n",
              "      let quickchartButtonEl =\n",
              "        document.querySelector('#df-488d5aae-4004-42a2-8c07-90c800401f73 button');\n",
              "      quickchartButtonEl.style.display =\n",
              "        google.colab.kernel.accessAllowed ? 'block' : 'none';\n",
              "    })();\n",
              "  </script>\n",
              "</div>\n",
              "    </div>\n",
              "  </div>\n"
            ]
          },
          "metadata": {},
          "execution_count": 21
        }
      ],
      "source": [
        "data = check_table[['user_uid', 'element_uid']]\n",
        "data"
      ]
    },
    {
      "cell_type": "code",
      "execution_count": 22,
      "metadata": {
        "id": "RE5Uf8MVUXSe"
      },
      "outputs": [],
      "source": [
        "import torch\n",
        "import torch.nn as nn\n",
        "\n",
        "\n",
        "class RankDataset(Dataset):\n",
        "\n",
        "  def __init__(self, train=True, image_transform=None, label_transform=None):\n",
        "    if train:\n",
        "        data_user = list(table_train['user_uid'])\n",
        "        data_item = list(table_train['element_uid'])\n",
        "        labels = list(table_train['rating'])\n",
        "    else:\n",
        "        data_user = list(check_table['user_uid'])\n",
        "        data_item = list(check_table['element_uid'])\n",
        "        labels = list(check_table['rating'])\n",
        "\n",
        "    if not image_transform:\n",
        "\n",
        "      self._data_user = torch.tensor(data_user, dtype=torch.int)\n",
        "      self._data_item = torch.tensor(data_item, dtype=torch.int)\n",
        "    else:\n",
        "      self._data_user = image_transform(data_user.astype(np.int))\n",
        "      self._data_item = image_transform(data_item.astype(np.int))\n",
        "\n",
        "    if not label_transform:\n",
        "      self._labels = torch.tensor(labels)\n",
        "    else:\n",
        "      self._labels = label_transform(labels)\n",
        "\n",
        "\n",
        "  def __len__(self,):\n",
        "    length = len(self._labels)\n",
        "    return length\n",
        "\n",
        "  def __getitem__(self, idx):\n",
        "    data_user = self._data_user[idx]\n",
        "    data_item = self._data_item[idx]\n",
        "    label = self._labels[idx]\n",
        "    return data_user, data_item, label"
      ]
    },
    {
      "cell_type": "code",
      "execution_count": 23,
      "metadata": {
        "id": "-dOWNrT_X8s7"
      },
      "outputs": [],
      "source": [
        "dataset = RankDataset(train=True)\n",
        "dataloader = DataLoader(dataset, batch_size=8, shuffle=True, drop_last=True, num_workers=2)"
      ]
    },
    {
      "cell_type": "code",
      "execution_count": 24,
      "metadata": {
        "id": "ee_gCB7PcCcN"
      },
      "outputs": [],
      "source": [
        "dataset = RankDataset(train=False)\n",
        "val_dataloader = DataLoader(dataset, batch_size=8, shuffle=False)"
      ]
    },
    {
      "cell_type": "markdown",
      "metadata": {
        "id": "QIE0_n0PjLZ7"
      },
      "source": [
        "Создадим нейронную сеть с 3 слоями и обучим её"
      ]
    },
    {
      "cell_type": "code",
      "execution_count": 25,
      "metadata": {
        "id": "VooaExiLfk4n"
      },
      "outputs": [],
      "source": [
        "torch.backends.cudnn.benchmark = False\n",
        "CUDA_LAUNCH_BLOCKING=1"
      ]
    },
    {
      "cell_type": "code",
      "execution_count": 26,
      "metadata": {
        "id": "r7TnfSp9jK3S"
      },
      "outputs": [],
      "source": [
        "import torch\n",
        "import torch.nn as nn\n",
        "\n",
        "class SimpleNN(nn.Module):\n",
        "    def __init__(self, input_size, hidden_size1, hidden_size2, output_size, n_u, n_e, dim_e, in_gmf):\n",
        "        super().__init__()\n",
        "        self.embed_user = nn.Embedding(n_u, dim_e)\n",
        "        self.embed_item = nn.Embedding(n_e, dim_e)\n",
        "\n",
        "        self.embed_user_gmf = nn.Embedding(n_u, dim_e)\n",
        "        self.embed_item_gmf = nn.Embedding(n_e, dim_e)\n",
        "        self.layer_gmf = nn.Linear(in_gmf, 1)\n",
        "\n",
        "        self.layer1 = nn.Linear(input_size, hidden_size1)\n",
        "        self.relu1 = nn.ReLU()\n",
        "        self.layer2 = nn.Linear(hidden_size1, hidden_size2)\n",
        "        self.relu2 = nn.ReLU()\n",
        "        self.res_layer = nn.Linear(hidden_size2, 32)\n",
        "        self.softmax = nn.Softmax(dim=1)\n",
        "\n",
        "        self.output_layer = nn.Linear(232, output_size)\n",
        "\n",
        "    def forward(self, u, i):\n",
        "        user_embeddings = self.embed_user(u.long())\n",
        "        item_embeddings = self.embed_item(i.long())\n",
        "\n",
        "        user_embeddings_gmf = self.embed_user_gmf(u.long())\n",
        "        item_embeddings_gmf = self.embed_item_gmf(i.long())\n",
        "\n",
        "        gmf_data = user_embeddings_gmf * item_embeddings_gmf\n",
        "\n",
        "        x = torch.cat([user_embeddings, item_embeddings], dim=1)\n",
        "        x = self.layer1(x)\n",
        "        x = self.relu1(x)\n",
        "        x = self.layer2(x)\n",
        "        x = self.relu2(x)\n",
        "        x = self.res_layer(x)\n",
        "\n",
        "        # gmf_data = self.layer_gmf(gmf_data)\n",
        "        y = torch.cat([gmf_data, x], dim=1)\n",
        "        y = self.output_layer(y)\n",
        "        return y"
      ]
    },
    {
      "cell_type": "code",
      "execution_count": null,
      "metadata": {
        "id": "kAXo-vWU7BSP"
      },
      "outputs": [],
      "source": [
        "device = torch.device(\"cuda\" if torch.cuda.is_available() else \"cpu\")\n",
        "\n",
        "torch_loss = torch.nn.MSELoss()\n",
        "max_user = max(list(ratings['user_uid'].drop_duplicates()))\n",
        "max_item = max(list(ratings['element_uid'].drop_duplicates()))\n",
        "\n",
        "model = SimpleNN(400, 128, 64, 1, max_user + 1, max_item + 1, 200, 200)\n",
        "\n",
        "\n",
        "print(device)\n",
        "arr_loss = []\n",
        "arr_loss_val = []\n",
        "\n",
        "model.to(device)\n",
        "optimizer = torch.optim.Adam(model.parameters())\n",
        "\n",
        "for epoch in range(4):\n",
        "  model.train()\n",
        "  cnt = 0\n",
        "  total_loss = 0\n",
        "  for users, items, ratings_i in dataloader:\n",
        "\n",
        "    user = torch.tensor(users).to(device)\n",
        "    items = torch.tensor(items).to(device)\n",
        "    ratings_i = ratings_i.to(device)\n",
        "\n",
        "    model_labels = model(user, items)\n",
        "    #print(model_labels)\n",
        "    #print(torch.argmax(model_labels, dim=1))\n",
        "    new_loss = torch_loss(model_labels, ratings_i.float())\n",
        "    optimizer.zero_grad()\n",
        "    cnt += 1\n",
        "    total_loss += new_loss\n",
        "    if cnt % 30 == 0:\n",
        "      print(total_loss/30)\n",
        "      arr_loss.append(total_loss/30)\n",
        "      total_loss = 0\n",
        "      cnt = 0\n",
        "    #print(new_loss)\n",
        "    #new_loss = new_loss.float()\n",
        "    new_loss.backward()\n",
        "    #print(new_loss)\n",
        "    optimizer.step()\n",
        "\n",
        "  model.eval()\n",
        "  print(\"____________________EVAL_____________________\")\n",
        "  with torch.no_grad():\n",
        "    cnt = 0\n",
        "    total_loss = 0\n",
        "    for users, items, ratings_i in val_dataloader:\n",
        "      user = torch.tensor(users).to(device)\n",
        "      items = torch.tensor(items).to(device)\n",
        "      ratings_i = ratings_i.to(device)\n",
        "\n",
        "      model_labels = model(user, items)\n",
        "      print(model_labels)\n",
        "      new_loss = torch_loss(model_labels, ratings_i)\n",
        "      cnt += 1\n",
        "      total_loss += new_loss\n",
        "      if cnt % 6:\n",
        "        arr_loss_val.append(total_loss/6)\n",
        "        print(total_loss/6)\n",
        "        total_loss = 0\n",
        "        cnt = 0"
      ]
    },
    {
      "cell_type": "code",
      "source": [
        "import matplotlib.pyplot as plt"
      ],
      "metadata": {
        "id": "KaQ-tqBYek8J"
      },
      "execution_count": 28,
      "outputs": []
    },
    {
      "cell_type": "code",
      "source": [
        "arr_loss_val = [tens.cpu().detach().numpy() for tens in arr_loss_val]\n",
        "\n",
        "arr_loss = [tens.cpu().detach().numpy() for tens in arr_loss]"
      ],
      "metadata": {
        "id": "5hkV-TQ_gQFO"
      },
      "execution_count": 77,
      "outputs": []
    },
    {
      "cell_type": "code",
      "source": [
        "chunks_val = np.array_split(arr_loss_val, 4)\n",
        "chunks_val = [np.mean(i) for i in chunks_val]\n",
        "\n",
        "chunks = np.array_split(arr_loss, 4)\n",
        "chunks = [np.mean(i) for i in chunks]"
      ],
      "metadata": {
        "id": "G_EmFKVijYow"
      },
      "execution_count": 55,
      "outputs": []
    },
    {
      "cell_type": "markdown",
      "source": [
        "Выводу по обучению"
      ],
      "metadata": {
        "id": "qi6i9bm4k3uk"
      }
    },
    {
      "cell_type": "markdown",
      "source": [
        "Сделаем выводы по качестве на тестовой выборке. Выведу как менялся RMSE loss в зависиомсти от эпохи и выведу его график."
      ],
      "metadata": {
        "id": "KtZZIVoTk6eR"
      }
    },
    {
      "cell_type": "code",
      "source": [
        "for i in range(4):\n",
        "  print('RMSE loss on epoch number ', i+1)\n",
        "  print(chunks_val[i])"
      ],
      "metadata": {
        "colab": {
          "base_uri": "https://localhost:8080/"
        },
        "id": "8GDHy5LskJeS",
        "outputId": "3ff76032-c67c-4841-dc7f-1b8c2694fc4e"
      },
      "execution_count": 54,
      "outputs": [
        {
          "output_type": "stream",
          "name": "stdout",
          "text": [
            "RMSE loss on epoch number  1\n",
            "0.591721\n",
            "RMSE loss on epoch number  2\n",
            "0.56747925\n",
            "RMSE loss on epoch number  3\n",
            "0.5673363\n",
            "RMSE loss on epoch number  4\n",
            "0.56267214\n"
          ]
        }
      ]
    },
    {
      "cell_type": "code",
      "source": [
        "x1 = np.arange(len(chunks_val))\n",
        "\n",
        "plt.plot(x1, chunks_val, label = \"NN with 3 layers\")\n",
        "\n",
        "\n",
        "plt.title('Test')\n",
        "plt.xlabel(\"iterations\")\n",
        "plt.ylabel(\"loss\")\n",
        "plt.legend()\n",
        "plt.show()"
      ],
      "metadata": {
        "colab": {
          "base_uri": "https://localhost:8080/",
          "height": 472
        },
        "id": "fcMwFWT1gkk9",
        "outputId": "6c77b2bb-2cf8-401c-8efa-5d784b67da8c"
      },
      "execution_count": 56,
      "outputs": [
        {
          "output_type": "display_data",
          "data": {
            "text/plain": [
              "<Figure size 640x480 with 1 Axes>"
            ],
            "image/png": "[encoded data removed]"
          },
          "metadata": {}
        }
      ]
    },
    {
      "cell_type": "code",
      "source": [
        "x1 = np.arange(len(chunks))\n",
        "\n",
        "plt.plot(x1, chunks, label = \"NN with 3 layers\")\n",
        "\n",
        "\n",
        "plt.title('Train')\n",
        "plt.xlabel(\"iterations\")\n",
        "plt.ylabel(\"loss\")\n",
        "plt.legend()\n",
        "plt.show()"
      ],
      "metadata": {
        "colab": {
          "base_uri": "https://localhost:8080/",
          "height": 472
        },
        "id": "W3LZed1LjHwF",
        "outputId": "50a8cb67-a9ce-49f5-8f22-429d36ae1f71"
      },
      "execution_count": 57,
      "outputs": [
        {
          "output_type": "display_data",
          "data": {
            "text/plain": [
              "<Figure size 640x480 with 1 Axes>"
            ],
            "image/png": "[encoded data removed]"
          },
          "metadata": {}
        }
      ]
    },
    {
      "cell_type": "markdown",
      "source": [
        "По графикам можно увидеть, что качество нейронной сети улучшается, но качество растет очень медленно, на валидации меняется только значение после 4го знака после запятой.\n",
        "\n",
        "Поэтому можно прийти к выводу, что такие нейрости не всегда имеет смысл особо долго обучать, т.к. прирост качества очень мал."
      ],
      "metadata": {
        "id": "yYRIMTKHlY8C"
      }
    },
    {
      "cell_type": "markdown",
      "metadata": {
        "id": "CPEOFeKS2U7k"
      },
      "source": [
        "Создадим нейронную сеть с 5 слоями и обучим её"
      ]
    },
    {
      "cell_type": "code",
      "execution_count": 27,
      "metadata": {
        "id": "PW53emG_pgZC"
      },
      "outputs": [],
      "source": [
        "import torch\n",
        "import torch.nn as nn\n",
        "\n",
        "class SimpleNN_5layers(nn.Module):\n",
        "    def __init__(self, input_size, hidden_size1, hidden_size2, output_size, n_u, n_e, dim_e, in_gmf):\n",
        "        super().__init__()\n",
        "        self.embed_user = nn.Embedding(n_u, dim_e)\n",
        "        self.embed_item = nn.Embedding(n_e, dim_e)\n",
        "\n",
        "        self.embed_user_gmf = nn.Embedding(n_u, dim_e)\n",
        "        self.embed_item_gmf = nn.Embedding(n_e, dim_e)\n",
        "        self.layer_gmf = nn.Linear(in_gmf, 1)\n",
        "\n",
        "        self.layer1 = nn.Linear(input_size, hidden_size1)\n",
        "        self.relu1 = nn.ReLU()\n",
        "        self.layer2 = nn.Linear(hidden_size1, hidden_size2)\n",
        "        self.relu2 = nn.ReLU()\n",
        "        self.layer3 = nn.Linear(hidden_size2, 32)\n",
        "        self.relu3 = nn.ReLU()\n",
        "        self.layer4 = nn.Linear(32, 32)\n",
        "        self.relu4 = nn.ReLU()\n",
        "        self.res_layer = nn.Linear(32, 16)\n",
        "        self.softmax = nn.Softmax(dim=1)\n",
        "\n",
        "        self.output_layer = nn.Linear(216, output_size)\n",
        "\n",
        "    def forward(self, u, i):\n",
        "        user_embeddings = self.embed_user(u.long())\n",
        "        item_embeddings = self.embed_item(i.long())\n",
        "\n",
        "        user_embeddings_gmf = self.embed_user_gmf(u.long())\n",
        "        item_embeddings_gmf = self.embed_item_gmf(i.long())\n",
        "\n",
        "        gmf_data = user_embeddings_gmf * item_embeddings_gmf\n",
        "\n",
        "        x = torch.cat([user_embeddings, item_embeddings], dim=1)\n",
        "        x = self.layer1(x)\n",
        "        x = self.relu1(x)\n",
        "        x = self.layer2(x)\n",
        "        x = self.relu2(x)\n",
        "        x = self.layer3(x)\n",
        "        x = self.relu4(x)\n",
        "        x = self.res_layer(x)\n",
        "\n",
        "        # gmf_data = self.layer_gmf(gmf_data)\n",
        "        y = torch.cat([gmf_data, x], dim=1)\n",
        "        y = self.output_layer(y)\n",
        "        return y"
      ]
    },
    {
      "cell_type": "code",
      "execution_count": null,
      "metadata": {
        "id": "gJc8HXV8qCqd"
      },
      "outputs": [],
      "source": [
        "device = torch.device(\"cuda\" if torch.cuda.is_available() else \"cpu\")\n",
        "\n",
        "torch_loss = torch.nn.MSELoss()\n",
        "max_user = max(list(ratings['user_uid'].drop_duplicates()))\n",
        "max_item = max(list(ratings['element_uid'].drop_duplicates()))\n",
        "\n",
        "model = SimpleNN_5layers(400, 128, 64, 1, max_user + 1, max_item + 1, 200, 200)\n",
        "\n",
        "\n",
        "print(device)\n",
        "arr_loss5 = []\n",
        "arr_loss_val5 = []\n",
        "\n",
        "model.to(device)\n",
        "optimizer = torch.optim.Adam(model.parameters())\n",
        "\n",
        "for epoch in range(4):\n",
        "  model.train()\n",
        "  cnt = 0\n",
        "  total_loss = 0\n",
        "  for users, items, ratings_i in dataloader:\n",
        "\n",
        "    user = torch.tensor(users).to(device)\n",
        "    items = torch.tensor(items).to(device)\n",
        "    ratings_i = ratings_i.to(device)\n",
        "\n",
        "    model_labels = model(user, items)\n",
        "    #print(torch.argmax(model_labels, dim=1))\n",
        "    new_loss = torch_loss(model_labels, ratings_i.float())\n",
        "    optimizer.zero_grad()\n",
        "    new_loss.backward()\n",
        "    cnt += 1\n",
        "    total_loss += new_loss\n",
        "    if cnt % 30 == 0:\n",
        "      print(total_loss/30)\n",
        "      arr_loss5.append(total_loss/30)\n",
        "      total_loss = 0\n",
        "      cnt = 0\n",
        "    optimizer.step()\n",
        "\n",
        "  model.eval()\n",
        "  print(\"____________________EVAL_____________________\")\n",
        "  with torch.no_grad():\n",
        "    cnt = 0\n",
        "    total_loss = 0\n",
        "    for users, items, ratings_i in val_dataloader:\n",
        "      user = torch.tensor(users).to(device)\n",
        "      items = torch.tensor(items).to(device)\n",
        "      ratings_i = ratings_i.to(device)\n",
        "\n",
        "      model_labels = model(user, items)\n",
        "      print(model_labels)\n",
        "      new_loss = torch_loss(model_labels, ratings_i)\n",
        "      cnt += 1\n",
        "      total_loss += new_loss\n",
        "      if cnt % 6:\n",
        "        arr_loss_val5.append(total_loss/6)\n",
        "        print(total_loss/6)\n",
        "        total_loss = 0\n",
        "        cnt = 0"
      ]
    },
    {
      "cell_type": "markdown",
      "source": [
        "Выводу по обучению"
      ],
      "metadata": {
        "id": "HIIUn4nOtTHN"
      }
    },
    {
      "cell_type": "markdown",
      "source": [
        "Сделаем выводы по качестве на тестовой выборке. Выведу как менялся RMSE loss в зависиомсти от эпохи и выведу его график."
      ],
      "metadata": {
        "id": "KhoVBt-HtZ93"
      }
    },
    {
      "cell_type": "code",
      "source": [
        "arr_loss_val5 = [tens.cpu().detach().numpy() for tens in arr_loss_val5]\n",
        "\n",
        "arr_loss5 = [tens.cpu().detach().numpy() for tens in arr_loss5]"
      ],
      "metadata": {
        "id": "acDGt_AVtNLR"
      },
      "execution_count": 60,
      "outputs": []
    },
    {
      "cell_type": "code",
      "source": [
        "chunks_val5 = np.array_split(arr_loss_val5, 4)\n",
        "chunks_val5 = [np.mean(i) for i in chunks_val5]\n",
        "\n",
        "chunks5 = np.array_split(arr_loss5, 4)\n",
        "chunks5 = [np.mean(i) for i in chunks5]"
      ],
      "metadata": {
        "id": "6eg8G0qLts97"
      },
      "execution_count": 61,
      "outputs": []
    },
    {
      "cell_type": "code",
      "source": [
        "x1 = np.arange(len(chunks_val5))\n",
        "\n",
        "plt.plot(x1, chunks_val5, label = \"NN with 5 layers\")\n",
        "\n",
        "\n",
        "plt.title('Test')\n",
        "plt.xlabel(\"iterations\")\n",
        "plt.ylabel(\"loss\")\n",
        "plt.legend()\n",
        "plt.show()"
      ],
      "metadata": {
        "colab": {
          "base_uri": "https://localhost:8080/",
          "height": 472
        },
        "id": "0Pz-DD1lt3nD",
        "outputId": "017dab84-4cbc-4d87-f675-83b98fb1d878"
      },
      "execution_count": 69,
      "outputs": [
        {
          "output_type": "display_data",
          "data": {
            "text/plain": [
              "<Figure size 640x480 with 1 Axes>"
            ],
            "image/png": "[encoded data removed]"
          },
          "metadata": {}
        }
      ]
    },
    {
      "cell_type": "code",
      "source": [
        "x1 = np.arange(len(chunks5))\n",
        "\n",
        "plt.plot(x1, chunks5, label = \"NN with 5 layers\")\n",
        "\n",
        "\n",
        "plt.title('Train')\n",
        "plt.xlabel(\"iterations\")\n",
        "plt.ylabel(\"loss\")\n",
        "plt.legend()\n",
        "plt.show()"
      ],
      "metadata": {
        "colab": {
          "base_uri": "https://localhost:8080/",
          "height": 472
        },
        "id": "DOcWlec8ubQw",
        "outputId": "9eaf1e1c-04fc-406f-f454-3ea30848e4ce"
      },
      "execution_count": 72,
      "outputs": [
        {
          "output_type": "display_data",
          "data": {
            "text/plain": [
              "<Figure size 640x480 with 1 Axes>"
            ],
            "image/png": "[encoded data removed]"
          },
          "metadata": {}
        }
      ]
    },
    {
      "cell_type": "markdown",
      "source": [
        "Видим, что модель также обучается, только на валидации она ведёт себя более нестабильно чем модель с 3 слоями. Также можно заметить, что модель с 5 слоями даёт качество хуже (на валидации) чем моедль с 3 слоями. Возможно это вызвано тем, что модель 2 более сложная и ей нужно бОльшее кол-во эпох, чтобы перегнать по качеству моедль 1."
      ],
      "metadata": {
        "id": "8_vfBLYMvLMG"
      }
    },
    {
      "cell_type": "markdown",
      "source": [
        "Изобразим на графике сравнение этих 2ух моделей."
      ],
      "metadata": {
        "id": "Ke2_yzE5vs8F"
      }
    },
    {
      "cell_type": "code",
      "source": [
        "x1 = np.arange(len(chunks5))\n",
        "\n",
        "plt.plot(x1, chunks5, label = \"NN with 5 layers\")\n",
        "plt.plot(x1, chunks, label = \"NN with 3 layers\")\n",
        "\n",
        "plt.title('Train')\n",
        "plt.xlabel(\"iterations\")\n",
        "plt.ylabel(\"loss\")\n",
        "plt.legend()\n",
        "plt.show()"
      ],
      "metadata": {
        "colab": {
          "base_uri": "https://localhost:8080/",
          "height": 472
        },
        "id": "27toOCjOv5Js",
        "outputId": "7acecabf-1aef-46a4-be7f-3ad8b871a314"
      },
      "execution_count": 74,
      "outputs": [
        {
          "output_type": "display_data",
          "data": {
            "text/plain": [
              "<Figure size 640x480 with 1 Axes>"
            ],
            "image/png": "[encoded data removed]"
          },
          "metadata": {}
        }
      ]
    },
    {
      "cell_type": "code",
      "source": [
        "x1 = np.arange(len(chunks_val5))\n",
        "\n",
        "plt.plot(x1, chunks_val5, label = \"NN with 5 layers\")\n",
        "plt.plot(x1, chunks_val, label = \"NN with 3 layers\")\n",
        "\n",
        "plt.title('Test')\n",
        "plt.xlabel(\"iterations\")\n",
        "plt.ylabel(\"loss\")\n",
        "plt.legend()\n",
        "plt.show()"
      ],
      "metadata": {
        "colab": {
          "base_uri": "https://localhost:8080/",
          "height": 472
        },
        "id": "8WlC3dSCwLfA",
        "outputId": "2ad102a2-3322-41b3-8de7-9ceb9b63e59f"
      },
      "execution_count": 75,
      "outputs": [
        {
          "output_type": "display_data",
          "data": {
            "text/plain": [
              "<Figure size 640x480 with 1 Axes>"
            ],
            "image/png": "[encoded data removed]"
          },
          "metadata": {}
        }
      ]
    },
    {
      "cell_type": "markdown",
      "source": [
        "Продолжим обучении ещё на 4 эпохи и сравним результаты"
      ],
      "metadata": {
        "id": "S74Jhy4mwaNM"
      }
    },
    {
      "cell_type": "code",
      "source": [
        "device = torch.device(\"cuda\" if torch.cuda.is_available() else \"cpu\")\n",
        "\n",
        "torch_loss = torch.nn.MSELoss()\n",
        "max_user = max(list(ratings['user_uid'].drop_duplicates()))\n",
        "max_item = max(list(ratings['element_uid'].drop_duplicates()))\n",
        "\n",
        "model3 = SimpleNN(400, 128, 64, 1, max_user + 1, max_item + 1, 200, 200)\n",
        "\n",
        "\n",
        "print(device)\n",
        "arr_loss = []\n",
        "arr_loss_val = []\n",
        "\n",
        "model3.to(device)\n",
        "optimizer = torch.optim.Adam(model3.parameters())\n",
        "\n",
        "for epoch in range(8):\n",
        "  model3.train()\n",
        "  cnt = 0\n",
        "  total_loss = 0\n",
        "  for users, items, ratings_i in dataloader:\n",
        "\n",
        "    user = torch.tensor(users).to(device)\n",
        "    items = torch.tensor(items).to(device)\n",
        "    ratings_i = ratings_i.to(device)\n",
        "\n",
        "    model_labels = model3(user, items)\n",
        "    #print(model_labels)\n",
        "    #print(torch.argmax(model_labels, dim=1))\n",
        "    new_loss = torch_loss(model_labels, ratings_i.float())\n",
        "    optimizer.zero_grad()\n",
        "    cnt += 1\n",
        "    total_loss += new_loss\n",
        "    if cnt % 30 == 0:\n",
        "      print(total_loss/30)\n",
        "      arr_loss.append(total_loss/30)\n",
        "      total_loss = 0\n",
        "      cnt = 0\n",
        "    #print(new_loss)\n",
        "    #new_loss = new_loss.float()\n",
        "    new_loss.backward()\n",
        "    #print(new_loss)\n",
        "    optimizer.step()\n",
        "\n",
        "  model3.eval()\n",
        "  print(\"____________________EVAL_____________________\")\n",
        "  with torch.no_grad():\n",
        "    cnt = 0\n",
        "    total_loss = 0\n",
        "    for users, items, ratings_i in val_dataloader:\n",
        "      user = torch.tensor(users).to(device)\n",
        "      items = torch.tensor(items).to(device)\n",
        "      ratings_i = ratings_i.to(device)\n",
        "\n",
        "      model_labels = model3(user, items)\n",
        "      print(model_labels)\n",
        "      new_loss = torch_loss(model_labels, ratings_i)\n",
        "      cnt += 1\n",
        "      total_loss += new_loss\n",
        "      if cnt % 6:\n",
        "        arr_loss_val.append(total_loss/6)\n",
        "        print(total_loss/6)\n",
        "        total_loss = 0\n",
        "        cnt = 0"
      ],
      "metadata": {
        "id": "zQvld3JiweqC"
      },
      "execution_count": null,
      "outputs": []
    },
    {
      "cell_type": "code",
      "source": [
        "device = torch.device(\"cuda\" if torch.cuda.is_available() else \"cpu\")\n",
        "\n",
        "torch_loss = torch.nn.MSELoss()\n",
        "max_user = max(list(ratings['user_uid'].drop_duplicates()))\n",
        "max_item = max(list(ratings['element_uid'].drop_duplicates()))\n",
        "\n",
        "model = SimpleNN_5layers(400, 128, 64, 1, max_user + 1, max_item + 1, 200, 200)\n",
        "\n",
        "\n",
        "print(device)\n",
        "arr_loss5 = []\n",
        "arr_loss_val5 = []\n",
        "\n",
        "model.to(device)\n",
        "optimizer = torch.optim.Adam(model.parameters())\n",
        "\n",
        "for epoch in range(8):\n",
        "  model.train()\n",
        "  cnt = 0\n",
        "  total_loss = 0\n",
        "  for users, items, ratings_i in dataloader:\n",
        "\n",
        "    user = torch.tensor(users).to(device)\n",
        "    items = torch.tensor(items).to(device)\n",
        "    ratings_i = ratings_i.to(device)\n",
        "\n",
        "    model_labels = model(user, items)\n",
        "    #print(torch.argmax(model_labels, dim=1))\n",
        "    new_loss = torch_loss(model_labels, ratings_i.float())\n",
        "    optimizer.zero_grad()\n",
        "    new_loss.backward()\n",
        "    cnt += 1\n",
        "    total_loss += new_loss\n",
        "    if cnt % 30 == 0:\n",
        "      print(total_loss/30)\n",
        "      arr_loss5.append(total_loss/30)\n",
        "      total_loss = 0\n",
        "      cnt = 0\n",
        "    optimizer.step()\n",
        "\n",
        "  model.eval()\n",
        "  print(\"____________________EVAL_____________________\")\n",
        "  with torch.no_grad():\n",
        "    cnt = 0\n",
        "    total_loss = 0\n",
        "    for users, items, ratings_i in val_dataloader:\n",
        "      user = torch.tensor(users).to(device)\n",
        "      items = torch.tensor(items).to(device)\n",
        "      ratings_i = ratings_i.to(device)\n",
        "\n",
        "      model_labels = model(user, items)\n",
        "      print(model_labels)\n",
        "      new_loss = torch_loss(model_labels, ratings_i)\n",
        "      cnt += 1\n",
        "      total_loss += new_loss\n",
        "      if cnt % 6:\n",
        "        arr_loss_val5.append(total_loss/6)\n",
        "        print(total_loss/6)\n",
        "        total_loss = 0\n",
        "        cnt = 0"
      ],
      "metadata": {
        "id": "oKprR7MMxJqA"
      },
      "execution_count": null,
      "outputs": []
    },
    {
      "cell_type": "code",
      "source": [
        "arr_loss_val5 = [tens.cpu().detach().numpy() for tens in arr_loss_val5]\n",
        "\n",
        "arr_loss5 = [tens.cpu().detach().numpy() for tens in arr_loss5]"
      ],
      "metadata": {
        "id": "woAmlPJa3VRL"
      },
      "execution_count": 109,
      "outputs": []
    },
    {
      "cell_type": "code",
      "source": [
        "chunks_val5 = np.array_split(arr_loss_val5, 8)\n",
        "chunks_val5 = [np.mean(i) for i in chunks_val5]\n",
        "\n",
        "chunks5 = np.array_split(arr_loss5, 8)\n",
        "chunks5 = [np.mean(i) for i in chunks5]"
      ],
      "metadata": {
        "id": "F7qFzyx321Jk"
      },
      "execution_count": 110,
      "outputs": []
    },
    {
      "cell_type": "code",
      "source": [
        "arr_loss_val = [tens.cpu().detach().numpy() for tens in arr_loss_val]\n",
        "\n",
        "arr_loss = [tens.cpu().detach().numpy() for tens in arr_loss]"
      ],
      "metadata": {
        "id": "KdBjr9wM3hGk"
      },
      "execution_count": null,
      "outputs": []
    },
    {
      "cell_type": "code",
      "source": [
        "chunks_val = np.array_split(arr_loss_val, 8)\n",
        "chunks_val = [np.mean(i) for i in chunks_val]\n",
        "\n",
        "chunks = np.array_split(arr_loss, 8)\n",
        "chunks = [np.mean(i) for i in chunks]"
      ],
      "metadata": {
        "id": "MmngqFyJ3hhz"
      },
      "execution_count": 103,
      "outputs": []
    },
    {
      "cell_type": "code",
      "source": [
        "x1 = np.arange(len(chunks5))\n",
        "\n",
        "plt.plot(x1, chunks5, label = \"NN with 5 layers\")\n",
        "plt.plot(x1, chunks, label = \"NN with 3 layers\")\n",
        "\n",
        "plt.title('Train')\n",
        "plt.xlabel(\"iterations\")\n",
        "plt.ylabel(\"loss\")\n",
        "plt.legend()\n",
        "plt.show()"
      ],
      "metadata": {
        "colab": {
          "base_uri": "https://localhost:8080/",
          "height": 472
        },
        "id": "4Jx-vBUQ3sJy",
        "outputId": "78390449-68aa-40dd-d34d-7ac732c268f5"
      },
      "execution_count": 111,
      "outputs": [
        {
          "output_type": "display_data",
          "data": {
            "text/plain": [
              "<Figure size 640x480 with 1 Axes>"
            ],
            "image/png": "[encoded data removed]"
          },
          "metadata": {}
        }
      ]
    },
    {
      "cell_type": "code",
      "source": [
        "x1 = np.arange(len(chunks_val5))\n",
        "\n",
        "plt.plot(x1, chunks_val5, label = \"NN with 5 layers\")\n",
        "plt.plot(x1, chunks_val, label = \"NN with 3 layers\")\n",
        "\n",
        "plt.title('Test')\n",
        "plt.xlabel(\"iterations\")\n",
        "plt.ylabel(\"loss\")\n",
        "plt.legend()\n",
        "plt.show()"
      ],
      "metadata": {
        "colab": {
          "base_uri": "https://localhost:8080/",
          "height": 472
        },
        "id": "S_yCfXKi37An",
        "outputId": "60ff6bd5-2e92-4332-e069-2f9b46d039e4"
      },
      "execution_count": 113,
      "outputs": [
        {
          "output_type": "display_data",
          "data": {
            "text/plain": [
              "<Figure size 640x480 with 1 Axes>"
            ],
            "image/png": "[encoded data removed]"
          },
          "metadata": {}
        }
      ]
    },
    {
      "cell_type": "markdown",
      "source": [
        "Можно заметить, что нет сильного преобладания по качеству у какой либо из моделей. Вероятнее всего модель 5 оказывается неоправданно сложной для этой задачи.\n",
        "\n",
        "Отсюда можно сделать вывод, что лучше использовать нероннуб сеть с 3 полносвязыными слоями, т.к. эта модель проще и даёт качество сопоставимое с качеством моедли с 5 полносвязнымии слоями."
      ],
      "metadata": {
        "id": "082AV40587ap"
      }
    },
    {
      "cell_type": "markdown",
      "source": [
        "## Как можно улушить архитектуру?"
      ],
      "metadata": {
        "id": "U038R9Qz9g76"
      }
    },
    {
      "cell_type": "markdown",
      "source": [
        "Все эксперименты буду проводить на модели с 3 полносвязными слоями."
      ],
      "metadata": {
        "id": "dpuKITbT9xj7"
      }
    },
    {
      "cell_type": "markdown",
      "source": [
        "Уменьшу выход с послносвязной сети и уменьшу размер эмбединга."
      ],
      "metadata": {
        "id": "CRfP9-FDO6As"
      }
    },
    {
      "cell_type": "code",
      "source": [
        "import torch\n",
        "import torch.nn as nn\n",
        "\n",
        "class SimpleNN(nn.Module):\n",
        "    def __init__(self, input_size, hidden_size1, hidden_size2, output_size, n_u, n_e, dim_e, in_gmf):\n",
        "        super().__init__()\n",
        "        self.embed_user = nn.Embedding(n_u, dim_e)\n",
        "        self.embed_item = nn.Embedding(n_e, dim_e)\n",
        "\n",
        "        self.embed_user_gmf = nn.Embedding(n_u, dim_e)\n",
        "        self.embed_item_gmf = nn.Embedding(n_e, dim_e)\n",
        "        self.layer_gmf = nn.Linear(in_gmf, 1)\n",
        "\n",
        "        self.layer1 = nn.Linear(input_size, hidden_size1)\n",
        "        self.relu1 = nn.ReLU()\n",
        "        self.layer2 = nn.Linear(hidden_size1, hidden_size2)\n",
        "        self.relu2 = nn.ReLU()\n",
        "        self.res_layer = nn.Linear(hidden_size2, 12)\n",
        "        self.softmax = nn.Softmax(dim=1)\n",
        "\n",
        "        self.output_layer = nn.Linear(22, output_size)\n",
        "\n",
        "    def forward(self, u, i):\n",
        "        user_embeddings = self.embed_user(u.long())\n",
        "        item_embeddings = self.embed_item(i.long())\n",
        "\n",
        "        user_embeddings_gmf = self.embed_user_gmf(u.long())\n",
        "        item_embeddings_gmf = self.embed_item_gmf(i.long())\n",
        "\n",
        "        gmf_data = user_embeddings_gmf * item_embeddings_gmf\n",
        "\n",
        "        x = torch.cat([user_embeddings, item_embeddings], dim=1)\n",
        "        x = self.layer1(x)\n",
        "        x = self.relu1(x)\n",
        "        x = self.layer2(x)\n",
        "        x = self.relu2(x)\n",
        "        x = self.res_layer(x)\n",
        "\n",
        "        #gmf_data = self.layer_gmf(gmf_data)\n",
        "        y = torch.cat([gmf_data, x], dim=1)\n",
        "        y = self.output_layer(y)\n",
        "        return y\n",
        "\n",
        "\n",
        "device = torch.device(\"cuda\" if torch.cuda.is_available() else \"cpu\")\n",
        "\n",
        "torch_loss = torch.nn.MSELoss()\n",
        "max_user = max(list(ratings['user_uid'].drop_duplicates()))\n",
        "max_item = max(list(ratings['element_uid'].drop_duplicates()))\n",
        "\n",
        "model3 = SimpleNN(20, 128, 64, 1, max_user + 1, max_item + 1, 10, 10)\n",
        "\n",
        "\n",
        "print(device)\n",
        "arr_loss = []\n",
        "arr_loss_val = []\n",
        "\n",
        "model3.to(device)\n",
        "optimizer = torch.optim.Adam(model3.parameters())\n",
        "\n",
        "for epoch in range(4):\n",
        "  model3.train()\n",
        "  cnt = 0\n",
        "  total_loss = 0\n",
        "  for users, items, ratings_i in dataloader:\n",
        "\n",
        "    user = torch.tensor(users).to(device)\n",
        "    items = torch.tensor(items).to(device)\n",
        "    ratings_i = ratings_i.to(device)\n",
        "    model_labels = model3(user, items)\n",
        "    #print(model_labels)\n",
        "    #print(torch.argmax(model_labels, dim=1))\n",
        "    new_loss = torch_loss(model_labels, ratings_i.float())\n",
        "    optimizer.zero_grad()\n",
        "    cnt += 1\n",
        "    total_loss += new_loss\n",
        "    if cnt % 30 == 0:\n",
        "      print(total_loss/30)\n",
        "      arr_loss.append(total_loss/30)\n",
        "      total_loss = 0\n",
        "      cnt = 0\n",
        "    #print(new_loss)\n",
        "    #new_loss = new_loss.float()\n",
        "    new_loss.backward()\n",
        "    #print(new_loss)\n",
        "    optimizer.step()\n",
        "\n",
        "  model3.eval()\n",
        "  print(\"____________________EVAL_____________________\")\n",
        "  with torch.no_grad():\n",
        "    cnt = 0\n",
        "    total_loss = 0\n",
        "    for users, items, ratings_i in val_dataloader:\n",
        "      user = torch.tensor(users).to(device)\n",
        "      items = torch.tensor(items).to(device)\n",
        "      ratings_i = ratings_i.to(device)\n",
        "\n",
        "      model_labels = model3(user, items)\n",
        "      print(model_labels)\n",
        "      new_loss = torch_loss(model_labels, ratings_i)\n",
        "      cnt += 1\n",
        "      total_loss += new_loss\n",
        "      if cnt % 6:\n",
        "        arr_loss_val.append(total_loss/6)\n",
        "        print(total_loss/6)\n",
        "        total_loss = 0\n",
        "        cnt = 0"
      ],
      "metadata": {
        "id": "iR-RFj5U-XWc"
      },
      "execution_count": null,
      "outputs": []
    },
    {
      "cell_type": "code",
      "source": [
        "arr_loss_val = [tens.cpu().detach().numpy() for tens in arr_loss_val]\n",
        "\n",
        "arr_loss = [tens.cpu().detach().numpy() for tens in arr_loss]"
      ],
      "metadata": {
        "id": "PuE75PctKX-d"
      },
      "execution_count": 37,
      "outputs": []
    },
    {
      "cell_type": "code",
      "source": [
        "import matplotlib.pyplot as plt"
      ],
      "metadata": {
        "id": "r_ymnEozNhfV"
      },
      "execution_count": 25,
      "outputs": []
    },
    {
      "cell_type": "code",
      "source": [
        "chunks_val = np.array_split(arr_loss_val, 8)\n",
        "chunks_val = [np.mean(i) for i in chunks_val]\n",
        "\n",
        "chunks = np.array_split(arr_loss, 8)\n",
        "chunks = [np.mean(i) for i in chunks]"
      ],
      "metadata": {
        "id": "YM7-MPycKYdg"
      },
      "execution_count": 38,
      "outputs": []
    },
    {
      "cell_type": "code",
      "source": [
        "x1 = np.arange(len(chunks))\n",
        "\n",
        "plt.plot(x1, chunks, label = \"NN with 3 layers\")\n",
        "\n",
        "plt.title('Train')\n",
        "plt.xlabel(\"iterations\")\n",
        "plt.ylabel(\"loss\")\n",
        "plt.legend()\n",
        "plt.show()"
      ],
      "metadata": {
        "colab": {
          "base_uri": "https://localhost:8080/",
          "height": 472
        },
        "id": "GpLHjrUyKd5Z",
        "outputId": "b19ffd96-37a1-4ab1-e19c-9eff13b8265d"
      },
      "execution_count": 39,
      "outputs": [
        {
          "output_type": "display_data",
          "data": {
            "text/plain": [
              "<Figure size 640x480 with 1 Axes>"
            ],
            "image/png": "[encoded data removed]"
          },
          "metadata": {}
        }
      ]
    },
    {
      "cell_type": "code",
      "source": [
        "x1 = np.arange(len(chunks_val))\n",
        "\n",
        "plt.plot(x1, chunks_val, label = \"NN with 3 layers\")\n",
        "\n",
        "\n",
        "plt.title('Test')\n",
        "plt.xlabel(\"iterations\")\n",
        "plt.ylabel(\"loss\")\n",
        "plt.legend()\n",
        "plt.show()"
      ],
      "metadata": {
        "colab": {
          "base_uri": "https://localhost:8080/",
          "height": 472
        },
        "id": "99B8NRSIKnxA",
        "outputId": "4b6599cf-c361-4af5-f3ca-72f470e1536d"
      },
      "execution_count": 40,
      "outputs": [
        {
          "output_type": "display_data",
          "data": {
            "text/plain": [
              "<Figure size 640x480 with 1 Axes>"
            ],
            "image/png": "[encoded data removed]"
          },
          "metadata": {}
        }
      ]
    },
    {
      "cell_type": "markdown",
      "source": [
        "Заметного улучшения качества нет, но после 5 эпохи оно дал наилучшее качество среди всех моделей. Однако на валидации она ведёт себя довольно нестабильно, что является минусом."
      ],
      "metadata": {
        "id": "0ogsf5JJO_PQ"
      }
    },
    {
      "cell_type": "markdown",
      "source": [
        "Можно решать задачу с помощью ансамблирования. Получится модель, которая делает выводы на основе модели с 5 полносвзяными слоями и с 3 полносвзяными слоями. Предсказания сделанные моделью с 5 слоями буду учитывать с весом 0.4, а модель с 3 слоями буду учитывать с весом 0.6"
      ],
      "metadata": {
        "id": "dWxUl4ysPYRp"
      }
    },
    {
      "cell_type": "code",
      "source": [
        "CUDA_LAUNCH_BLOCKING=1"
      ],
      "metadata": {
        "id": "L9UWKp9FU1Op"
      },
      "execution_count": 45,
      "outputs": []
    },
    {
      "cell_type": "code",
      "source": [
        "device = torch.device(\"cuda\" if torch.cuda.is_available() else \"cpu\")\n",
        "max_user = max(list(ratings['user_uid'].drop_duplicates()))\n",
        "max_item = max(list(ratings['element_uid'].drop_duplicates()))\n",
        "model_3lay = SimpleNN(400, 128, 64, 1, max_user + 1, max_item + 1, 200, 200)\n",
        "\n",
        "model_3lay.to(device)\n",
        "\n",
        "model_5lay = SimpleNN_5layers(400, 128, 64, 1, max_user + 1, max_item + 1, 200, 200)\n",
        "\n",
        "model_5lay.to(device)"
      ],
      "metadata": {
        "colab": {
          "base_uri": "https://localhost:8080/"
        },
        "id": "DtPTeoeBPdFV",
        "outputId": "e53ed509-9883-4406-988f-94e168554d03"
      },
      "execution_count": 29,
      "outputs": [
        {
          "output_type": "execute_result",
          "data": {
            "text/plain": [
              "SimpleNN_5layers(\n",
              "  (embed_user): Embedding(592242, 200)\n",
              "  (embed_item): Embedding(10200, 200)\n",
              "  (embed_user_gmf): Embedding(592242, 200)\n",
              "  (embed_item_gmf): Embedding(10200, 200)\n",
              "  (layer_gmf): Linear(in_features=200, out_features=1, bias=True)\n",
              "  (layer1): Linear(in_features=400, out_features=128, bias=True)\n",
              "  (relu1): ReLU()\n",
              "  (layer2): Linear(in_features=128, out_features=64, bias=True)\n",
              "  (relu2): ReLU()\n",
              "  (layer3): Linear(in_features=64, out_features=32, bias=True)\n",
              "  (relu3): ReLU()\n",
              "  (layer4): Linear(in_features=32, out_features=32, bias=True)\n",
              "  (relu4): ReLU()\n",
              "  (res_layer): Linear(in_features=32, out_features=16, bias=True)\n",
              "  (softmax): Softmax(dim=1)\n",
              "  (output_layer): Linear(in_features=216, out_features=1, bias=True)\n",
              ")"
            ]
          },
          "metadata": {},
          "execution_count": 29
        }
      ]
    },
    {
      "cell_type": "code",
      "source": [
        "import gdown"
      ],
      "metadata": {
        "id": "BcunHb6cRnaf"
      },
      "execution_count": 30,
      "outputs": []
    },
    {
      "cell_type": "code",
      "source": [
        "output = 'checkpoint5.pth'\n",
        "gdown.download(f'https://drive.google.com/uc?id=1XOP-pjH9vHkO9uTxF7uFCn3xQ8_GKsoo', output, quiet=False)\n",
        "output = 'checkpoint.pth'\n",
        "gdown.download(f'https://drive.google.com/uc?id=1Az4B34qj_1l0FhfLmb5lNo8EfN2ZlcUJ', output, quiet=False)"
      ],
      "metadata": {
        "colab": {
          "base_uri": "https://localhost:8080/",
          "height": 184
        },
        "id": "5FyWnOoNKIZD",
        "outputId": "88630083-ab55-4c0f-cbea-34e1dd6a61f7"
      },
      "execution_count": 31,
      "outputs": [
        {
          "output_type": "stream",
          "name": "stderr",
          "text": [
            "Downloading...\n",
            "From: https://drive.google.com/uc?id=1XOP-pjH9vHkO9uTxF7uFCn3xQ8_GKsoo\n",
            "To: /content/checkpoint5.pth\n",
            "100%|██████████| 964M/964M [00:03<00:00, 260MB/s]\n",
            "Downloading...\n",
            "From: https://drive.google.com/uc?id=1Az4B34qj_1l0FhfLmb5lNo8EfN2ZlcUJ\n",
            "To: /content/checkpoint.pth\n",
            "100%|██████████| 964M/964M [00:07<00:00, 129MB/s]\n"
          ]
        },
        {
          "output_type": "execute_result",
          "data": {
            "text/plain": [
              "'checkpoint.pth'"
            ],
            "application/vnd.google.colaboratory.intrinsic+json": {
              "type": "string"
            }
          },
          "metadata": {},
          "execution_count": 31
        }
      ]
    },
    {
      "cell_type": "code",
      "source": [
        "with open('./checkpoint.pth', \"rb\") as fp:\n",
        "  state_dict = torch.load(fp)\n",
        "model_3lay.load_state_dict(state_dict)\n",
        "\n",
        "with open('./checkpoint5.pth', \"rb\") as fp:\n",
        "  state_dict = torch.load(fp)\n",
        "model_5lay.load_state_dict(state_dict)"
      ],
      "metadata": {
        "colab": {
          "base_uri": "https://localhost:8080/"
        },
        "id": "faSgVKgGSBNy",
        "outputId": "a91e18a9-5149-43c1-d125-71935efa0dc7"
      },
      "execution_count": 32,
      "outputs": [
        {
          "output_type": "execute_result",
          "data": {
            "text/plain": [
              "<All keys matched successfully>"
            ]
          },
          "metadata": {},
          "execution_count": 32
        }
      ]
    },
    {
      "cell_type": "code",
      "source": [
        "cnt = 0\n",
        "total_loss = 0\n",
        "arr_loss_val = []\n",
        "\n",
        "torch_loss = torch.nn.MSELoss()\n",
        "\n",
        "for users, items, ratings_i in val_dataloader:\n",
        "  user = torch.tensor(users).to(device)\n",
        "  items = torch.tensor(items).to(device)\n",
        "  ratings_i = ratings_i.to(device)\n",
        "\n",
        "  model_labels = model_3lay(user, items) * 0.6 + model_5lay(user, items)*0.4\n",
        "  print(model_labels)\n",
        "  new_loss = torch_loss(model_labels, ratings_i.float())\n",
        "  cnt += 1\n",
        "  total_loss += new_loss\n",
        "  if cnt % 6:\n",
        "    arr_loss_val.append(total_loss/6)\n",
        "    print(total_loss/6)\n",
        "    total_loss = 0\n",
        "    cnt = 0"
      ],
      "metadata": {
        "id": "S7Cc0PR0TppY"
      },
      "execution_count": null,
      "outputs": []
    },
    {
      "cell_type": "code",
      "source": [
        "arr_loss_val = [tens.cpu().detach().numpy() for tens in arr_loss_val]"
      ],
      "metadata": {
        "id": "35dw2WqQWKAa"
      },
      "execution_count": 37,
      "outputs": []
    },
    {
      "cell_type": "code",
      "source": [
        "print(\"Loss на последней эпохе\")\n",
        "np.mean(arr_loss_val)"
      ],
      "metadata": {
        "colab": {
          "base_uri": "https://localhost:8080/"
        },
        "id": "wCcExGSnWMko",
        "outputId": "33008ae8-2d44-4c63-f3c8-79d2f5143095"
      },
      "execution_count": 39,
      "outputs": [
        {
          "output_type": "stream",
          "name": "stdout",
          "text": [
            "Loss на последней эпохе\n"
          ]
        },
        {
          "output_type": "execute_result",
          "data": {
            "text/plain": [
              "0.56109434"
            ]
          },
          "metadata": {},
          "execution_count": 39
        }
      ]
    },
    {
      "cell_type": "markdown",
      "source": [
        "Видим, что значение лосса не улучшается."
      ],
      "metadata": {
        "id": "Sygk36jnYZ7I"
      }
    },
    {
      "cell_type": "markdown",
      "source": [
        "Поробуем добавить 2 полносвязных слоя после GMF"
      ],
      "metadata": {
        "id": "amafJ1l6YPG2"
      }
    },
    {
      "cell_type": "code",
      "source": [
        "import torch\n",
        "import torch.nn as nn\n",
        "\n",
        "class SimpleNN(nn.Module):\n",
        "    def __init__(self, input_size, hidden_size1, hidden_size2, output_size, n_u, n_e, dim_e, in_gmf):\n",
        "        super().__init__()\n",
        "        self.embed_user = nn.Embedding(n_u, dim_e)\n",
        "        self.embed_item = nn.Embedding(n_e, dim_e)\n",
        "\n",
        "        self.embed_user_gmf = nn.Embedding(n_u, dim_e)\n",
        "        self.embed_item_gmf = nn.Embedding(n_e, dim_e)\n",
        "\n",
        "        self.layer_gmf = nn.Linear(in_gmf, 32)\n",
        "        self.relu_gmf = nn.ReLU()\n",
        "        self.layer_gmf2 = nn.Linear(32, 1)\n",
        "\n",
        "        self.layer1 = nn.Linear(input_size, hidden_size1)\n",
        "        self.relu1 = nn.ReLU()\n",
        "        self.layer2 = nn.Linear(hidden_size1, hidden_size2)\n",
        "        self.relu2 = nn.ReLU()\n",
        "        self.res_layer = nn.Linear(hidden_size2, 2)\n",
        "        self.softmax = nn.Softmax(dim=1)\n",
        "\n",
        "        self.output_layer = nn.Linear(3, output_size)\n",
        "\n",
        "    def forward(self, u, i):\n",
        "        user_embeddings = self.embed_user(u.long())\n",
        "        item_embeddings = self.embed_item(i.long())\n",
        "\n",
        "        user_embeddings_gmf = self.embed_user_gmf(u.long())\n",
        "        item_embeddings_gmf = self.embed_item_gmf(i.long())\n",
        "\n",
        "        gmf_data = user_embeddings_gmf * item_embeddings_gmf\n",
        "\n",
        "        x = torch.cat([user_embeddings, item_embeddings], dim=1)\n",
        "        x = self.layer1(x)\n",
        "        x = self.relu1(x)\n",
        "        x = self.layer2(x)\n",
        "        x = self.relu2(x)\n",
        "        x = self.res_layer(x)\n",
        "\n",
        "        gmf_data = self.layer_gmf(gmf_data)\n",
        "        gmf_data = self.relu_gmf(gmf_data)\n",
        "        gmf_data = self.layer_gmf2(gmf_data)\n",
        "\n",
        "        y = torch.cat([gmf_data, x], dim=1)\n",
        "        y = self.output_layer(y)\n",
        "        return y\n",
        "\n",
        "\n",
        "device = torch.device(\"cuda\" if torch.cuda.is_available() else \"cpu\")\n",
        "\n",
        "torch_loss = torch.nn.MSELoss()\n",
        "max_user = max(list(ratings['user_uid'].drop_duplicates()))\n",
        "max_item = max(list(ratings['element_uid'].drop_duplicates()))\n",
        "\n",
        "model3 = SimpleNN(200, 128, 64, 1, max_user + 1, max_item + 1, 100, 100)\n",
        "\n",
        "\n",
        "print(device)\n",
        "arr_loss = []\n",
        "arr_loss_val = []\n",
        "\n",
        "model3.to(device)\n",
        "optimizer = torch.optim.Adam(model3.parameters())\n",
        "\n",
        "for epoch in range(4):\n",
        "  model3.train()\n",
        "  cnt = 0\n",
        "  total_loss = 0\n",
        "  for users, items, ratings_i in dataloader:\n",
        "\n",
        "    user = torch.tensor(users).to(device)\n",
        "    items = torch.tensor(items).to(device)\n",
        "    ratings_i = ratings_i.to(device)\n",
        "    model_labels = model3(user, items)\n",
        "    #print(model_labels)\n",
        "    #print(torch.argmax(model_labels, dim=1))\n",
        "    new_loss = torch_loss(model_labels, ratings_i.float())\n",
        "    optimizer.zero_grad()\n",
        "    cnt += 1\n",
        "    total_loss += new_loss\n",
        "    if cnt % 30 == 0:\n",
        "      print(total_loss/30)\n",
        "      arr_loss.append(total_loss/30)\n",
        "      total_loss = 0\n",
        "      cnt = 0\n",
        "    #print(new_loss)\n",
        "    #new_loss = new_loss.float()\n",
        "    new_loss.backward()\n",
        "    #print(new_loss)\n",
        "    optimizer.step()\n",
        "\n",
        "  model3.eval()\n",
        "  print(\"____________________EVAL_____________________\")\n",
        "  with torch.no_grad():\n",
        "    cnt = 0\n",
        "    total_loss = 0\n",
        "    for users, items, ratings_i in val_dataloader:\n",
        "      user = torch.tensor(users).to(device)\n",
        "      items = torch.tensor(items).to(device)\n",
        "      ratings_i = ratings_i.to(device)\n",
        "\n",
        "      model_labels = model3(user, items)\n",
        "      print(model_labels)\n",
        "      new_loss = torch_loss(model_labels, ratings_i)\n",
        "      cnt += 1\n",
        "      total_loss += new_loss\n",
        "      if cnt % 6:\n",
        "        arr_loss_val.append(total_loss/6)\n",
        "        print(total_loss/6)\n",
        "        total_loss = 0\n",
        "        cnt = 0"
      ],
      "metadata": {
        "id": "NPzLhWVmXJKO"
      },
      "execution_count": null,
      "outputs": []
    },
    {
      "cell_type": "code",
      "source": [
        "arr_loss_val = [tens.cpu().detach().numpy() for tens in arr_loss_val]\n",
        "\n",
        "arr_loss = [tens.cpu().detach().numpy() for tens in arr_loss]\n",
        "\n",
        "chunks_val = np.array_split(arr_loss_val, 4)\n",
        "chunks_val = [np.mean(i) for i in chunks_val]\n",
        "\n",
        "chunks = np.array_split(arr_loss, 4)\n",
        "chunks = [np.mean(i) for i in chunks]"
      ],
      "metadata": {
        "id": "m_45ydfKYjl8"
      },
      "execution_count": 41,
      "outputs": []
    },
    {
      "cell_type": "code",
      "source": [
        "import matplotlib.pyplot as plt"
      ],
      "metadata": {
        "id": "CLE1UUibZmPP"
      },
      "execution_count": 43,
      "outputs": []
    },
    {
      "cell_type": "code",
      "source": [
        "x1 = np.arange(len(chunks_val))\n",
        "\n",
        "plt.plot(x1, chunks_val, label = \"NN with 3 layers\")\n",
        "\n",
        "\n",
        "plt.title('Test')\n",
        "plt.xlabel(\"iterations\")\n",
        "plt.ylabel(\"loss\")\n",
        "plt.legend()\n",
        "plt.show()"
      ],
      "metadata": {
        "colab": {
          "base_uri": "https://localhost:8080/",
          "height": 472
        },
        "id": "dq8swb2-YorA",
        "outputId": "373fee3c-ceb7-408c-d7ba-a1dc1ecb5541"
      },
      "execution_count": 44,
      "outputs": [
        {
          "output_type": "display_data",
          "data": {
            "text/plain": [
              "<Figure size 640x480 with 1 Axes>"
            ],
            "image/png": "[encoded data removed]"
          },
          "metadata": {}
        }
      ]
    },
    {
      "cell_type": "code",
      "source": [
        "x1 = np.arange(len(chunks))\n",
        "\n",
        "plt.plot(x1, chunks, label = \"NN with 5 layers\")\n",
        "\n",
        "\n",
        "plt.title('Train')\n",
        "plt.xlabel(\"iterations\")\n",
        "plt.ylabel(\"loss\")\n",
        "plt.legend()\n",
        "plt.show()"
      ],
      "metadata": {
        "colab": {
          "base_uri": "https://localhost:8080/",
          "height": 472
        },
        "id": "XmPmggc_Yswj",
        "outputId": "174bb33b-ae04-45ac-abb7-03f7e1dee691"
      },
      "execution_count": 45,
      "outputs": [
        {
          "output_type": "display_data",
          "data": {
            "text/plain": [
              "<Figure size 640x480 with 1 Axes>"
            ],
            "image/png": "[encoded data removed]"
          },
          "metadata": {}
        }
      ]
    },
    {
      "cell_type": "markdown",
      "source": [
        "И это изменение тоже не дало прироста. Наверняка не имеет смысла менять выходы после MF, т.к. они уже и так имет большую корреляцию между пользователем и объектом."
      ],
      "metadata": {
        "id": "EfJUE1jcWkBY"
      }
    }
  ],
  "metadata": {
    "accelerator": "GPU",
    "colab": {
      "provenance": [],
      "gpuType": "V100"
    },
    "kernelspec": {
      "display_name": "Python 3",
      "name": "python3"
    },
    "language_info": {
      "name": "python"
    }
  },
  "nbformat": 4,
  "nbformat_minor": 0
}