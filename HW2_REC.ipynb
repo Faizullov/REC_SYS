{
  "nbformat": 4,
  "nbformat_minor": 0,
  "metadata": {
    "colab": {
      "provenance": []
    },
    "kernelspec": {
      "name": "python3",
      "display_name": "Python 3"
    },
    "language_info": {
      "name": "python"
    }
  },
  "cells": [
    {
      "cell_type": "markdown",
      "source": [
        "# ДЗ рекомендательные системы №2"
      ],
      "metadata": {
        "id": "aKVyAJ1d2jiU"
      }
    },
    {
      "cell_type": "markdown",
      "source": [
        "# Файзуллов Айрат"
      ],
      "metadata": {
        "id": "WXIm4JGA5_UU"
      }
    },
    {
      "cell_type": "markdown",
      "source": [
        "## 1) Реализовать метрики ранжирования MAP, MRR, NDCG"
      ],
      "metadata": {
        "id": "A2cTgsrR6HW9"
      }
    },
    {
      "cell_type": "code",
      "source": [
        "import numpy as np"
      ],
      "metadata": {
        "id": "PV3d8aPkaDPZ"
      },
      "execution_count": null,
      "outputs": []
    },
    {
      "cell_type": "code",
      "source": [
        "# MAP realisation\n",
        "def own_map(matr_in, n_elements, threshold):\n",
        "  if n_elements > len(matr_in[0, :]):\n",
        "    n_elements = len(matr_in[0, :])\n",
        "  avg_prec = 0\n",
        "  matr_to_count = matr_in > threshold\n",
        "  for i in range(n_elements):\n",
        "    avg_prec += np.sum(matr_to_count[:, :i+1], axis=1)/(i+1) * (matr_to_count)[:, i]\n",
        "  avg_prec = avg_prec / n_elements\n",
        "  res = np.sum(avg_prec) / len(matr_in[:])\n",
        "  return res\n",
        "\n",
        "\n",
        "#MRR realisation\n",
        "def own_mrr(matr_in, threshold):\n",
        "  return np.sum(1 / (np.argmax(matr_in > threshold, axis=1) + 1)) / len(matr_in[:])\n",
        "\n",
        "\n",
        "#NDCG realisation\n",
        "def own_ndcg(matr_in, n_elements, threshold):\n",
        "  matr_to_count = matr_in > threshold\n",
        "  matr_to_count = matr_to_count[:, :n_elements]\n",
        "  ind = np.arange(2, len(matr_to_count[0]) + 2)\n",
        "  ind = np.log2(ind)\n",
        "  return np.sum(np.sum(matr_to_count/ind, axis=1) / np.sum(1/ind)) / len(matr_to_count[:])"
      ],
      "metadata": {
        "id": "D_SIl4436BWD"
      },
      "execution_count": null,
      "outputs": []
    },
    {
      "cell_type": "markdown",
      "source": [
        "##Читаю данные"
      ],
      "metadata": {
        "id": "OHTS7yoMcear"
      }
    },
    {
      "cell_type": "markdown",
      "source": [
        "Читаю и предобратываю данные для обучения"
      ],
      "metadata": {
        "id": "M5vd4ZJaPY4B"
      }
    },
    {
      "cell_type": "code",
      "source": [
        "import pandas as pd"
      ],
      "metadata": {
        "id": "_ggbhEuqV_OW"
      },
      "execution_count": null,
      "outputs": []
    },
    {
      "cell_type": "code",
      "source": [
        "train_table = pd.read_table('train.txt', sep=' ', header=None)\n",
        "\n",
        "a = np.arange(2, 10)\n",
        "a = list(a)\n",
        "column_names = train_table.columns[a]\n",
        "\n",
        "for column_name in column_names:\n",
        "    train_table[column_name] = train_table[column_name].astype(str).str[2:]\n",
        "    train_table[column_name] = train_table[column_name].astype(float)\n",
        "\n",
        "a = np.arange(10, 48)\n",
        "a = list(a)\n",
        "column_names = train_table.columns[a]\n",
        "\n",
        "for column_name in column_names:\n",
        "    train_table[column_name] = train_table[column_name].astype(str).str[3:]\n",
        "    train_table[column_name] = train_table[column_name].astype(float)\n",
        "\n",
        "train_table[1] = train_table[1].astype(str).str[4:]\n",
        "train_table[1] = train_table[1].astype(int)\n",
        "train_table[0] = train_table[0].astype(int)\n"
      ],
      "metadata": {
        "id": "KBn2oa-Vk-CN"
      },
      "execution_count": null,
      "outputs": []
    },
    {
      "cell_type": "code",
      "source": [
        "test_table = pd.read_table('test.txt', sep=' ', header=None)\n",
        "\n",
        "a = np.arange(2, 10)\n",
        "a = list(a)\n",
        "column_names = test_table.columns[a]\n",
        "\n",
        "for column_name in column_names:\n",
        "    test_table[column_name] = test_table[column_name].astype(str).str[2:]\n",
        "    test_table[column_name] = test_table[column_name].astype(float)\n",
        "\n",
        "a = np.arange(10, 48)\n",
        "a = list(a)\n",
        "column_names = test_table.columns[a]\n",
        "\n",
        "for column_name in column_names:\n",
        "    test_table[column_name] = test_table[column_name].astype(str).str[3:]\n",
        "    test_table[column_name] = test_table[column_name].astype(float)\n",
        "\n",
        "test_table[1] = test_table[1].astype(str).str[4:]\n",
        "test_table[1] = test_table[1].astype(int)\n",
        "test_table[0] = test_table[0].astype(int)"
      ],
      "metadata": {
        "id": "gCmma2rFWIgJ"
      },
      "execution_count": null,
      "outputs": []
    },
    {
      "cell_type": "code",
      "source": [
        "lst_col = np.arange(1, 48)"
      ],
      "metadata": {
        "id": "xGWeWwWHMbkY"
      },
      "execution_count": null,
      "outputs": []
    },
    {
      "cell_type": "markdown",
      "source": [
        "## 2) Нужно реализовать алгоритм ранжирования LambdaRank или LambdaMART"
      ],
      "metadata": {
        "id": "J28sA712OFaX"
      }
    },
    {
      "cell_type": "markdown",
      "source": [
        "Я буду реализовывать LambdaRank"
      ],
      "metadata": {
        "id": "mNWIgvi8PEgF"
      }
    },
    {
      "cell_type": "markdown",
      "source": [
        "Подготовил простейшую полносвязную сеть"
      ],
      "metadata": {
        "id": "bnCIi7DxPJzQ"
      }
    },
    {
      "cell_type": "code",
      "source": [
        "import torch\n",
        "import torch.nn as nn\n",
        "import torch.optim as optim\n",
        "from torch.utils.data import DataLoader, Dataset\n",
        "\n",
        "\n",
        "class SimpleNN(nn.Module):\n",
        "    def __init__(self, input_size, hidden_size, output_size):\n",
        "        super(SimpleNN, self).__init__()\n",
        "        self.fc1 = nn.Linear(input_size, hidden_size)\n",
        "        self.relu = nn.ReLU()\n",
        "        self.fc2 = nn.Linear(hidden_size, output_size)\n",
        "\n",
        "    def forward(self, x):\n",
        "        x = self.fc1(x)\n",
        "        x = self.relu(x)\n",
        "        x = self.fc2(x)\n",
        "        return x\n",
        "\n",
        "input_size = 46\n",
        "hidden_size = 64\n",
        "output_size = 1\n",
        "\n",
        "model = SimpleNN(input_size, hidden_size, output_size)\n",
        "device = torch.device(\"cuda:0\" if torch.cuda.is_available() else \"cpu\")\n",
        "\n",
        "model = model.to(device)"
      ],
      "metadata": {
        "id": "s1HK6usDICNF"
      },
      "execution_count": null,
      "outputs": []
    },
    {
      "cell_type": "markdown",
      "source": [
        "Обучение модели на метрике NDCG и её тестирвоание. Считаю качетсво на лучших 50 объектах"
      ],
      "metadata": {
        "id": "YvK49Wv7QZc8"
      }
    },
    {
      "cell_type": "code",
      "source": [
        "mean_acc = []\n",
        "mean_acc_test = []\n",
        "\n",
        "lst_col = np.arange(2, 48)\n",
        "\n",
        "for epoch in range(10):\n",
        "  acc_val_epoch = []\n",
        "\n",
        "  #model.train()\n",
        "  for queu in train_table[1].unique():\n",
        "\n",
        "    q_10 = train_table[train_table[1] == queu]\n",
        "    docs = torch.from_numpy(np.array(q_10[list(lst_col)], dtype=\"float32\"))\n",
        "    docs = docs.to(device)\n",
        "    doc_scores = model(docs)\n",
        "\n",
        "    (sorted_scores, sorted_idxs) = doc_scores.sort(dim=0, descending=True)\n",
        "\n",
        "    n_docs = len(q_10[0])\n",
        "    n_rel = len(q_10[0][q_10[0] > 0]) # считаю кол-во релевантых объектов и расставляю doc_scores в порядке релевантности\n",
        "    n_irr = n_docs - n_rel\n",
        "\n",
        "\n",
        "\n",
        "    # print(q_10[0].iloc[list(sorted_idxs)])\n",
        "    score_diffs = sorted_scores[:n_rel] - sorted_scores[n_rel:].view(n_irr)  # create all pairs with rel and irr\n",
        "    exped = score_diffs.exp()    # exp substract\n",
        "    # exped\n",
        "\n",
        "    acc_value = own_ndcg(np.array(q_10[0].iloc[list(sorted_idxs)])[np.newaxis, :], 50, 0)\n",
        "\n",
        "    lst_sorted = list(sorted_idxs)\n",
        "\n",
        "    # count lambda for SGD\n",
        "    matrix_for_lambda = []\n",
        "    for i in range(n_rel):\n",
        "      a = int(lst_sorted[i])\n",
        "      line_arr = []\n",
        "      for j in range(n_rel, n_docs):\n",
        "        tmp_indx = np.array(sorted_idxs).reshape(-1)\n",
        "        b = int(lst_sorted[j])\n",
        "        tmp_indx[[i, j]] = [b, a]\n",
        "        diff_acc = abs((acc_value - own_ndcg(np.array(q_10[0].iloc[list(tmp_indx)])[np.newaxis, :], 50, 0)))\n",
        "        line_arr.append(diff_acc)\n",
        "      matrix_for_lambda.append(np.array(line_arr))\n",
        "\n",
        "\n",
        "    if matrix_for_lambda != []:\n",
        "      matrix_for_lambda = 1 / (1 + exped) * torch.tensor(matrix_for_lambda)\n",
        "    else:\n",
        "      continue\n",
        "\n",
        "    lambs = torch.zeros((n_docs, 1)).to(device)\n",
        "    lambs[:n_rel] += matrix_for_lambda.sum(dim=1, keepdim=True)\n",
        "    lambs[n_rel:] -= matrix_for_lambda.sum(dim=0, keepdim=True).t()\n",
        "\n",
        "    model.zero_grad()\n",
        "    sorted_scores.backward(lambs)\n",
        "\n",
        "    # Change params\n",
        "    lr = 0.00001\n",
        "    with torch.no_grad():\n",
        "        for param in model.parameters():\n",
        "            param += lr * param.grad\n",
        "\n",
        "    acc_val_epoch.append(acc_value)\n",
        "\n",
        "  print(\"-----EPOCH_PASSED------\")\n",
        "  print(np.array(acc_val_epoch).mean())\n",
        "  mean_acc.append(np.array(acc_val_epoch).mean())\n",
        "\n",
        "\n",
        "  # count accuracy on test dataset\n",
        "  acc_val_epoch_test = []\n",
        "  model.eval()\n",
        "  with torch.no_grad():\n",
        "    for queu_test in test_table[1].unique():\n",
        "      q_10 = test_table[test_table[1] == queu_test]\n",
        "      docs = torch.from_numpy(np.array(q_10[list(lst_col)], dtype=\"float32\"))\n",
        "      docs = docs.to(device)\n",
        "      doc_scores = model(docs)\n",
        "\n",
        "      (sorted_scores, sorted_idxs) = doc_scores.sort(dim=0, descending=True)\n",
        "      acc_value = own_ndcg(np.array(q_10[0].iloc[list(sorted_idxs)])[np.newaxis, :], 50, 0)\n",
        "      acc_val_epoch_test.append(acc_value)\n",
        "\n",
        "    mean_acc_test.append(np.array(acc_val_epoch_test).mean())\n",
        "\n"
      ],
      "metadata": {
        "id": "IW8kWPk8nEMD"
      },
      "execution_count": null,
      "outputs": []
    },
    {
      "cell_type": "markdown",
      "source": [
        "Отобразим результат на графике"
      ],
      "metadata": {
        "id": "bbFfNh5k9Hr7"
      }
    },
    {
      "cell_type": "code",
      "source": [
        "import seaborn as sns\n",
        "import matplotlib.pyplot as plt\n",
        "\n",
        "# Пример данных\n",
        "x = np.arange(10)\n",
        "y1 = mean_acc\n",
        "y2 = mean_acc_test\n",
        "\n",
        "# Создаем DataFrame\n",
        "data = {'Epochs': x, 'Accuracy': y1, 'Y2': y2}\n",
        "df = pd.DataFrame(data)\n",
        "\n",
        "sns.lineplot(x='Epochs', y='Accuracy', data=df, label='Train')\n",
        "sns.lineplot(x='Epochs', y='Y2', data=df, label='Test')\n",
        "\n",
        "plt.title('NDCG Results')\n",
        "plt.legend()\n",
        "\n",
        "plt.show()"
      ],
      "metadata": {
        "colab": {
          "base_uri": "https://localhost:8080/",
          "height": 472
        },
        "id": "8M39Dw1UazIa",
        "outputId": "b502c997-1db1-4f30-f9f6-66cde283de2e"
      },
      "execution_count": null,
      "outputs": [
        {
          "output_type": "display_data",
          "data": {
            "text/plain": [
              "<Figure size 640x480 with 1 Axes>"
            ],
            "image/png": "[encoded data removed]"
          },
          "metadata": {}
        }
      ]
    },
    {
      "cell_type": "markdown",
      "source": [
        "Видно, что результат улучшается, с кол-вом эпох. Только рост довольно медленный, вероятно всего это происходит из за того, что мы считаем качество по большому числу объектов"
      ],
      "metadata": {
        "id": "97O9BuM69cHM"
      }
    },
    {
      "cell_type": "markdown",
      "source": [
        "Обучение модели на метрике MRR и её тестирвоание"
      ],
      "metadata": {
        "id": "ArnC8vyV9pYk"
      }
    },
    {
      "cell_type": "code",
      "source": [
        "mean_acc = []\n",
        "mean_acc_test = []\n",
        "\n",
        "lst_col = np.arange(2, 48)\n",
        "\n",
        "for epoch in range(10):\n",
        "  acc_val_epoch = []\n",
        "\n",
        "  #model.train()\n",
        "  for queu in train_table[1].unique():\n",
        "\n",
        "    q_10 = train_table[train_table[1] == queu]\n",
        "    docs = torch.from_numpy(np.array(q_10[list(lst_col)], dtype=\"float32\"))\n",
        "    docs = docs.to(device)\n",
        "    doc_scores = model(docs)\n",
        "\n",
        "    (sorted_scores, sorted_idxs) = doc_scores.sort(dim=0, descending=True)\n",
        "\n",
        "    n_docs = len(q_10[0])\n",
        "    n_rel = len(q_10[0][q_10[0] > 0]) # считаю кол-во релевантых объектов и расставляю doc_scores в порядке релевантности\n",
        "    n_irr = n_docs - n_rel\n",
        "\n",
        "\n",
        "\n",
        "    # print(q_10[0].iloc[list(sorted_idxs)])\n",
        "    score_diffs = sorted_scores[:n_rel] - sorted_scores[n_rel:].view(n_irr)  # create all pairs with rel and irr\n",
        "    exped = score_diffs.exp()    # exp substract\n",
        "    # exped\n",
        "\n",
        "    acc_value = own_mrr(np.array(q_10[0].iloc[list(sorted_idxs)])[np.newaxis, :], 0)\n",
        "\n",
        "    lst_sorted = list(sorted_idxs)\n",
        "\n",
        "    # count lambda for SGD\n",
        "    matrix_for_lambda = []\n",
        "    for i in range(n_rel):\n",
        "      a = int(lst_sorted[i])\n",
        "      line_arr = []\n",
        "      for j in range(n_rel, n_docs):\n",
        "        tmp_indx = np.array(sorted_idxs).reshape(-1)\n",
        "        b = int(lst_sorted[j])\n",
        "        tmp_indx[[i, j]] = [b, a]\n",
        "        diff_acc = abs((acc_value - own_mrr(np.array(q_10[0].iloc[list(tmp_indx)])[np.newaxis, :], 0)))\n",
        "        line_arr.append(diff_acc)\n",
        "      matrix_for_lambda.append(np.array(line_arr))\n",
        "\n",
        "\n",
        "    if matrix_for_lambda != []:\n",
        "      matrix_for_lambda = 1 / (1 + exped) * torch.tensor(matrix_for_lambda)\n",
        "    else:\n",
        "      continue\n",
        "\n",
        "    lambs = torch.zeros((n_docs, 1)).to(device)\n",
        "    lambs[:n_rel] += matrix_for_lambda.sum(dim=1, keepdim=True)\n",
        "    lambs[n_rel:] -= matrix_for_lambda.sum(dim=0, keepdim=True).t()\n",
        "\n",
        "    model.zero_grad()\n",
        "    sorted_scores.backward(lambs)\n",
        "\n",
        "    # Change params\n",
        "    lr = 0.00001\n",
        "    with torch.no_grad():\n",
        "        for param in model.parameters():\n",
        "            param += lr * param.grad\n",
        "\n",
        "    acc_val_epoch.append(acc_value)\n",
        "\n",
        "  print(\"-----EPOCH_PASSED------\")\n",
        "  print(np.array(acc_val_epoch).mean())\n",
        "  mean_acc.append(np.array(acc_val_epoch).mean())\n",
        "\n",
        "\n",
        "  # count accuracy on test dataset\n",
        "  acc_val_epoch_test = []\n",
        "  model.eval()\n",
        "  with torch.no_grad():\n",
        "    for queu_test in test_table[1].unique():\n",
        "      q_10 = test_table[test_table[1] == queu_test]\n",
        "      docs = torch.from_numpy(np.array(q_10[list(lst_col)], dtype=\"float32\"))\n",
        "      docs = docs.to(device)\n",
        "      doc_scores = model(docs)\n",
        "\n",
        "      (sorted_scores, sorted_idxs) = doc_scores.sort(dim=0, descending=True)\n",
        "      acc_value = own_mrr(np.array(q_10[0].iloc[list(sorted_idxs)])[np.newaxis, :], 0)\n",
        "      acc_val_epoch_test.append(acc_value)\n",
        "\n",
        "    mean_acc_test.append(np.array(acc_val_epoch_test).mean())\n"
      ],
      "metadata": {
        "id": "815JmS0z9of9"
      },
      "execution_count": null,
      "outputs": []
    },
    {
      "cell_type": "markdown",
      "source": [
        "Отобразим результат на графике"
      ],
      "metadata": {
        "id": "Ux6DnVgAFMoi"
      }
    },
    {
      "cell_type": "code",
      "source": [
        "x = np.arange(10)\n",
        "y1 = mean_acc\n",
        "y2 = mean_acc_test\n",
        "\n",
        "# Создаем DataFrame\n",
        "data = {'Epochs': x, 'Accuracy': y1, 'Y2': y2}\n",
        "df = pd.DataFrame(data)\n",
        "\n",
        "sns.lineplot(x='Epochs', y='Accuracy', data=df, label='Train')\n",
        "sns.lineplot(x='Epochs', y='Y2', data=df, label='Test')\n",
        "\n",
        "plt.title('MRR Results')\n",
        "plt.legend()\n",
        "\n",
        "plt.show()"
      ],
      "metadata": {
        "colab": {
          "base_uri": "https://localhost:8080/",
          "height": 472
        },
        "id": "66fL5Nh7_HoM",
        "outputId": "ebce203c-266d-4635-e465-d8ca401f115d"
      },
      "execution_count": null,
      "outputs": [
        {
          "output_type": "display_data",
          "data": {
            "text/plain": [
              "<Figure size 640x480 with 1 Axes>"
            ],
            "image/png": "[encoded data removed]"
          },
          "metadata": {}
        }
      ]
    },
    {
      "cell_type": "markdown",
      "source": [
        "Видим, что качество на MRR кажется лучше, чем при метрике NDCG. И рост качество выглядит более скачкообразно"
      ],
      "metadata": {
        "id": "8fEKV9M0FNqB"
      }
    },
    {
      "cell_type": "markdown",
      "source": [
        "Обучение модели на метрике MAP и её тестирвоание"
      ],
      "metadata": {
        "id": "pZYAN3ZSFZH6"
      }
    },
    {
      "cell_type": "code",
      "source": [
        "mean_acc = []\n",
        "mean_acc_test = []\n",
        "\n",
        "lst_col = np.arange(2, 48)\n",
        "\n",
        "for epoch in range(10):\n",
        "  acc_val_epoch = []\n",
        "\n",
        "  #model.train()\n",
        "  for queu in train_table[1].unique():\n",
        "\n",
        "    q_10 = train_table[train_table[1] == queu]\n",
        "    docs = torch.from_numpy(np.array(q_10[list(lst_col)], dtype=\"float32\"))\n",
        "    docs = docs.to(device)\n",
        "    doc_scores = model(docs)\n",
        "\n",
        "    (sorted_scores, sorted_idxs) = doc_scores.sort(dim=0, descending=True)\n",
        "\n",
        "    n_docs = len(q_10[0])\n",
        "    n_rel = len(q_10[0][q_10[0] > 0]) # считаю кол-во релевантых объектов и расставляю doc_scores в порядке релевантности\n",
        "    n_irr = n_docs - n_rel\n",
        "\n",
        "\n",
        "\n",
        "    # print(q_10[0].iloc[list(sorted_idxs)])\n",
        "    score_diffs = sorted_scores[:n_rel] - sorted_scores[n_rel:].view(n_irr)  # create all pairs with rel and irr\n",
        "    exped = score_diffs.exp()    # exp substract\n",
        "    # exped\n",
        "\n",
        "    acc_value = own_map(np.array(q_10[0].iloc[list(sorted_idxs)])[np.newaxis, :], 4, 0)\n",
        "\n",
        "    lst_sorted = list(sorted_idxs)\n",
        "\n",
        "    # count lambda for SGD\n",
        "    matrix_for_lambda = []\n",
        "    for i in range(n_rel):\n",
        "      a = int(lst_sorted[i])\n",
        "      line_arr = []\n",
        "      for j in range(n_rel, n_docs):\n",
        "        tmp_indx = np.array(sorted_idxs).reshape(-1)\n",
        "        b = int(lst_sorted[j])\n",
        "        tmp_indx[[i, j]] = [b, a]\n",
        "        diff_acc = abs((acc_value - own_map(np.array(q_10[0].iloc[list(tmp_indx)])[np.newaxis, :], 4, 0)))\n",
        "        line_arr.append(diff_acc)\n",
        "      matrix_for_lambda.append(np.array(line_arr))\n",
        "\n",
        "\n",
        "    if matrix_for_lambda != []:\n",
        "      matrix_for_lambda = 1 / (1 + exped) * torch.tensor(matrix_for_lambda)\n",
        "    else:\n",
        "      continue\n",
        "\n",
        "    lambs = torch.zeros((n_docs, 1)).to(device)\n",
        "    lambs[:n_rel] += matrix_for_lambda.sum(dim=1, keepdim=True)\n",
        "    lambs[n_rel:] -= matrix_for_lambda.sum(dim=0, keepdim=True).t()\n",
        "\n",
        "    model.zero_grad()\n",
        "    sorted_scores.backward(lambs)\n",
        "\n",
        "    # Change params\n",
        "    lr = 0.00001\n",
        "    with torch.no_grad():\n",
        "        for param in model.parameters():\n",
        "            param += lr * param.grad\n",
        "\n",
        "    acc_val_epoch.append(acc_value)\n",
        "\n",
        "  print(\"-----EPOCH_PASSED------\")\n",
        "  print(np.array(acc_val_epoch).mean())\n",
        "  mean_acc.append(np.array(acc_val_epoch).mean())\n",
        "\n",
        "\n",
        "  # count accuracy on test dataset\n",
        "  acc_val_epoch_test = []\n",
        "  model.eval()\n",
        "  with torch.no_grad():\n",
        "    for queu_test in test_table[1].unique():\n",
        "      q_10 = test_table[test_table[1] == queu_test]\n",
        "      docs = torch.from_numpy(np.array(q_10[list(lst_col)], dtype=\"float32\"))\n",
        "      docs = docs.to(device)\n",
        "      doc_scores = model(docs)\n",
        "\n",
        "      (sorted_scores, sorted_idxs) = doc_scores.sort(dim=0, descending=True)\n",
        "      acc_value = own_map(np.array(q_10[0].iloc[list(sorted_idxs)])[np.newaxis, :], 4, 0)\n",
        "      acc_val_epoch_test.append(acc_value)\n",
        "\n",
        "    mean_acc_test.append(np.array(acc_val_epoch_test).mean())\n",
        "\n"
      ],
      "metadata": {
        "id": "IeJLTXb2FhdN"
      },
      "execution_count": null,
      "outputs": []
    },
    {
      "cell_type": "code",
      "source": [
        "import seaborn as sns\n",
        "import matplotlib.pyplot as plt\n",
        "\n",
        "# Пример данных\n",
        "x = np.arange(10)\n",
        "y1 = mean_acc\n",
        "y2 = mean_acc_test\n",
        "\n",
        "# Создаем DataFrame\n",
        "data = {'Epochs': x, 'Accuracy': y1, 'Y2': y2}\n",
        "df = pd.DataFrame(data)\n",
        "\n",
        "sns.lineplot(x='Epochs', y='Accuracy', data=df, label='Train')\n",
        "sns.lineplot(x='Epochs', y='Y2', data=df, label='Test')\n",
        "\n",
        "plt.title('MAP Results')\n",
        "plt.legend()\n",
        "\n",
        "plt.show()"
      ],
      "metadata": {
        "colab": {
          "base_uri": "https://localhost:8080/",
          "height": 472
        },
        "id": "Z79x5CY8Fzr8",
        "outputId": "ec90b2e0-31d4-4cf4-a0e8-de9cd41b659a"
      },
      "execution_count": null,
      "outputs": [
        {
          "output_type": "display_data",
          "data": {
            "text/plain": [
              "<Figure size 640x480 with 1 Axes>"
            ],
            "image/png": "[encoded data removed]"
          },
          "metadata": {}
        }
      ]
    },
    {
      "cell_type": "markdown",
      "source": [
        "Видим, что качество растет. И рост происходит заметнее по сравнению с метрикой NDCG, т.к. в этом эксперименте мы считали качество по 4 лучшим объектам."
      ],
      "metadata": {
        "id": "iaJut9S4SDXI"
      }
    },
    {
      "cell_type": "markdown",
      "source": [
        "## Применить алгоритм к дастасэту movielens"
      ],
      "metadata": {
        "id": "NX6F3kKtSQo_"
      }
    },
    {
      "cell_type": "code",
      "source": [
        "! unzip ml-100k.zip"
      ],
      "metadata": {
        "colab": {
          "base_uri": "https://localhost:8080/"
        },
        "id": "dXlyBj2oVA5g",
        "outputId": "8e21c6dd-bdb3-42fd-a324-748487f2b261"
      },
      "execution_count": null,
      "outputs": [
        {
          "output_type": "stream",
          "name": "stdout",
          "text": [
            "Archive:  ml-100k.zip\n",
            "   creating: ml-100k/\n",
            "  inflating: ml-100k/allbut.pl       \n",
            "  inflating: ml-100k/mku.sh          \n",
            "  inflating: ml-100k/README          \n",
            "  inflating: ml-100k/u.data          \n",
            "  inflating: ml-100k/u.genre         \n",
            "  inflating: ml-100k/u.info          \n",
            "  inflating: ml-100k/u.item          \n",
            "  inflating: ml-100k/u.occupation    \n",
            "  inflating: ml-100k/u.user          \n",
            "  inflating: ml-100k/u1.base         \n",
            "  inflating: ml-100k/u1.test         \n",
            "  inflating: ml-100k/u2.base         \n",
            "  inflating: ml-100k/u2.test         \n",
            "  inflating: ml-100k/u3.base         \n",
            "  inflating: ml-100k/u3.test         \n",
            "  inflating: ml-100k/u4.base         \n",
            "  inflating: ml-100k/u4.test         \n",
            "  inflating: ml-100k/u5.base         \n",
            "  inflating: ml-100k/u5.test         \n",
            "  inflating: ml-100k/ua.base         \n",
            "  inflating: ml-100k/ua.test         \n",
            "  inflating: ml-100k/ub.base         \n",
            "  inflating: ml-100k/ub.test         \n"
          ]
        }
      ]
    },
    {
      "cell_type": "code",
      "source": [
        "train_my_X = pd.read_table('ml-100k/ua.base')\n",
        "train_my_X = train_my_X.rename(columns={\"1\": \"userId\", \"1.1\": \"movieId\", \"5\": \"rating\"})\n",
        "train_my_X = train_my_X.drop([\"874965758\"], axis=1)\n",
        "test_my_X = pd.read_table('ml-100k/ua.test')\n",
        "test_my_X = test_my_X.rename(columns={\"1\": \"userId\", \"20\": \"movieId\", \"4\": \"rating\"})\n",
        "test_my_X = test_my_X.drop([\"887431883\"], axis = 1)"
      ],
      "metadata": {
        "id": "kK-H0IJ3V_Z6"
      },
      "execution_count": 157,
      "outputs": []
    },
    {
      "cell_type": "markdown",
      "source": [
        "Берем информацию о пользователях и преобразуем их професси c OneHotEncoding"
      ],
      "metadata": {
        "id": "RxD9OWuSbhHJ"
      }
    },
    {
      "cell_type": "code",
      "source": [
        "info_user = pd.read_table('ml-100k/u.user', sep='|', header=None)\n",
        "info_user = info_user.drop([4], axis=1)\n",
        "info_user[2] = info_user[2].map({'M': 0, 'F': 1})  # Convert Genders to binary\n",
        "info_user = pd.get_dummies(info_user, columns=[3]) # OHE fro job\n",
        "info_user = info_user.rename(columns={1: 'Age', 2: 'Gender', 0:'userId'})"
      ],
      "metadata": {
        "id": "Znljy5yba1ec"
      },
      "execution_count": 158,
      "outputs": []
    },
    {
      "cell_type": "markdown",
      "source": [
        "Берём информации о жанре фильма"
      ],
      "metadata": {
        "id": "SB1nyEyynhPl"
      }
    },
    {
      "cell_type": "code",
      "source": [
        "info_movie = pd.read_table('ml-100k/u.item', sep='|', header=None, encoding='latin-1')\n",
        "info_movie = info_movie.drop([1, 2, 3, 4], axis=1) # information about movie genre\n",
        "info_movie = info_movie.rename(columns={0: 'movieId'})"
      ],
      "metadata": {
        "id": "1oCeDikLfYjn"
      },
      "execution_count": 159,
      "outputs": []
    },
    {
      "cell_type": "markdown",
      "source": [
        "Сджойним всю имеющуюся информацию в изначальную таблицу"
      ],
      "metadata": {
        "id": "_0v6uwa8hBv7"
      }
    },
    {
      "cell_type": "code",
      "source": [
        "test_my_X = pd.merge(test_my_X, info_movie, on='movieId', how='inner')\n",
        "test_my_X = pd.merge(test_my_X, info_user, on='userId', how='inner')\n",
        "train_my_X = pd.merge(train_my_X, info_movie, on='movieId', how='inner')\n",
        "train_my_X = pd.merge(train_my_X, info_user, on='userId', how='inner')"
      ],
      "metadata": {
        "id": "zVTyYnNQncaR"
      },
      "execution_count": 160,
      "outputs": []
    },
    {
      "cell_type": "markdown",
      "source": [
        "Обучение модели"
      ],
      "metadata": {
        "id": "1gIKOdTXovb0"
      }
    },
    {
      "cell_type": "code",
      "source": [
        "import torch\n",
        "import torch.nn as nn\n",
        "import torch.optim as optim\n",
        "from torch.utils.data import DataLoader, Dataset\n",
        "\n",
        "\n",
        "class SimpleNN(nn.Module):\n",
        "    def __init__(self, input_size, hidden_size, output_size):\n",
        "        super(SimpleNN, self).__init__()\n",
        "        self.fc1 = nn.Linear(input_size, hidden_size)\n",
        "        self.relu = nn.ReLU()\n",
        "        self.fc2 = nn.Linear(hidden_size, output_size)\n",
        "\n",
        "    def forward(self, x):\n",
        "        x = self.fc1(x)\n",
        "        x = self.relu(x)\n",
        "        x = self.fc2(x)\n",
        "        return x\n",
        "\n",
        "input_size = 42\n",
        "hidden_size = 64\n",
        "output_size = 1\n",
        "\n",
        "model = SimpleNN(input_size, hidden_size, output_size)\n",
        "device = torch.device(\"cuda:0\" if torch.cuda.is_available() else \"cpu\")\n",
        "\n",
        "model = model.to(device)"
      ],
      "metadata": {
        "id": "Dg7Q7luQoz5g"
      },
      "execution_count": 91,
      "outputs": []
    },
    {
      "cell_type": "code",
      "source": [
        "column_names = train_my_X.columns.tolist()\n",
        "lst_col = column_names[3:]"
      ],
      "metadata": {
        "id": "zE7VZ1rypiux"
      },
      "execution_count": 80,
      "outputs": []
    },
    {
      "cell_type": "code",
      "source": [
        "mean_acc = []\n",
        "mean_acc_test = []\n",
        "\n",
        "column_names = train_my_X.columns.tolist()\n",
        "lst_col = column_names[3:]\n",
        "\n",
        "for n_check in [10]:\n",
        "  model = SimpleNN(input_size, hidden_size, output_size)\n",
        "  device = torch.device(\"cuda:0\" if torch.cuda.is_available() else \"cpu\")\n",
        "  model = model.to(device)\n",
        "\n",
        "  for epoch in range(3):\n",
        "    acc_val_epoch = []\n",
        "\n",
        "    #model.train()\n",
        "    for queu in train_my_X['userId'].unique():\n",
        "\n",
        "      q_10 = train_my_X[train_my_X['userId'] == queu]\n",
        "      docs = torch.from_numpy(np.array(q_10[list(lst_col)], dtype=\"float32\"))\n",
        "      docs = docs.to(device)\n",
        "      doc_scores = model(docs)\n",
        "\n",
        "      (sorted_scores, sorted_idxs) = doc_scores.sort(dim=0, descending=True)\n",
        "\n",
        "      n_docs = len(q_10['rating'])\n",
        "      n_rel = len(q_10['rating'][q_10['rating'] > 3]) # считаю кол-во релевантых объектов и расставляю doc_scores в порядке релевантности\n",
        "      n_irr = n_docs - n_rel\n",
        "\n",
        "\n",
        "\n",
        "      # print(q_10[0].iloc[list(sorted_idxs)])\n",
        "      score_diffs = sorted_scores[:n_rel] - sorted_scores[n_rel:].view(n_irr)  # create all pairs with rel and irr\n",
        "      exped = score_diffs.exp()    # exp substract\n",
        "      # exped\n",
        "\n",
        "      acc_value = own_ndcg(np.array(q_10['rating'].iloc[list(sorted_idxs)])[np.newaxis, :], n_check, 3)\n",
        "\n",
        "      lst_sorted = list(sorted_idxs)\n",
        "\n",
        "      # count lambda for SGD\n",
        "      matrix_for_lambda = []\n",
        "      for i in range(n_rel):\n",
        "        a = int(lst_sorted[i])\n",
        "        line_arr = []\n",
        "        for j in range(n_rel, n_docs):\n",
        "          tmp_indx = np.array(sorted_idxs).reshape(-1)\n",
        "          b = int(lst_sorted[j])\n",
        "          tmp_indx[[i, j]] = [b, a]\n",
        "          diff_acc = abs((acc_value - own_ndcg(np.array(q_10['rating'].iloc[list(tmp_indx)])[np.newaxis, :], n_check, 3)))\n",
        "          line_arr.append(diff_acc)\n",
        "        matrix_for_lambda.append(np.array(line_arr))\n",
        "\n",
        "\n",
        "      if matrix_for_lambda != []:\n",
        "        matrix_for_lambda = 1 / (1 + exped) * torch.tensor(matrix_for_lambda)\n",
        "      else:\n",
        "        continue\n",
        "\n",
        "      lambs = torch.zeros((n_docs, 1)).to(device)\n",
        "      lambs[:n_rel] += matrix_for_lambda.sum(dim=1, keepdim=True)\n",
        "      lambs[n_rel:] -= matrix_for_lambda.sum(dim=0, keepdim=True).t()\n",
        "\n",
        "      model.zero_grad()\n",
        "      sorted_scores.backward(lambs)\n",
        "\n",
        "      # Change params\n",
        "      lr = 0.00001\n",
        "      with torch.no_grad():\n",
        "          for param in model.parameters():\n",
        "              param += lr * param.grad\n",
        "\n",
        "      acc_val_epoch.append(acc_value)\n",
        "\n",
        "    print(\"-----EPOCH_PASSED------\")\n",
        "    print(np.array(acc_val_epoch).mean())\n",
        "    mean_acc.append(np.array(acc_val_epoch).mean())\n",
        "\n",
        "\n",
        "    # count accuracy on test dataset\n",
        "    acc_val_epoch_test = []\n",
        "    model.eval()\n",
        "    with torch.no_grad():\n",
        "      for queu_test in test_my_X['userId'].unique():\n",
        "        q_10 = test_my_X[test_my_X['userId'] == queu_test]\n",
        "        docs = torch.from_numpy(np.array(q_10[list(lst_col)], dtype=\"float32\"))\n",
        "        docs = docs.to(device)\n",
        "        doc_scores = model(docs)\n",
        "\n",
        "        (sorted_scores, sorted_idxs) = doc_scores.sort(dim=0, descending=True)\n",
        "        acc_value = own_ndcg(np.array(q_10['rating'].iloc[list(sorted_idxs)])[np.newaxis, :], n_check, 3)\n",
        "        acc_val_epoch_test.append(acc_value)\n",
        "\n",
        "      mean_acc_test.append(np.array(acc_val_epoch_test).mean())\n"
      ],
      "metadata": {
        "id": "-TWfQMUfpGj4"
      },
      "execution_count": null,
      "outputs": []
    },
    {
      "cell_type": "code",
      "source": [
        "import seaborn as sns\n",
        "import matplotlib.pyplot as plt\n",
        "\n",
        "# Пример данных\n",
        "x = np.arange(3)\n",
        "y1 = mean_acc\n",
        "y2 = mean_acc_test\n",
        "\n",
        "# Создаем DataFrame\n",
        "data = {'Epochs': x, 'Accuracy': y1, 'Y2': y2}\n",
        "df = pd.DataFrame(data)\n",
        "\n",
        "sns.lineplot(x='Epochs', y='Accuracy', data=df, label='Train')\n",
        "sns.lineplot(x='Epochs', y='Y2', data=df, label='Test')\n",
        "\n",
        "plt.title('NDCG Results Movielens')\n",
        "plt.legend()\n",
        "\n",
        "plt.show()"
      ],
      "metadata": {
        "colab": {
          "base_uri": "https://localhost:8080/",
          "height": 472
        },
        "id": "1GNLECWgzTT4",
        "outputId": "92362335-2914-4b03-d135-396c5ef91b43"
      },
      "execution_count": 101,
      "outputs": [
        {
          "output_type": "display_data",
          "data": {
            "text/plain": [
              "<Figure size 640x480 with 1 Axes>"
            ],
            "image/png": "[encoded data removed]"
          },
          "metadata": {}
        }
      ]
    },
    {
      "cell_type": "markdown",
      "source": [
        "Обучили модели с метрикой NDCG по 10 лучшим рекомендациям. Видим, что модель обучается  и качество медленно растет. Обучал на 3 эпохах"
      ],
      "metadata": {
        "id": "juo7h2hxgODC"
      }
    },
    {
      "cell_type": "markdown",
      "source": [
        "Проведём эксперименты с SVD"
      ],
      "metadata": {
        "id": "ciXdI_7fmQyb"
      }
    },
    {
      "cell_type": "code",
      "source": [
        "train_my_X = pd.read_table('ml-100k/ua.base')\n",
        "train_my_X = train_my_X.rename(columns={\"1\": \"userId\", \"1.1\": \"movieId\", \"5\": \"rating\"})\n",
        "train_my_X = train_my_X.drop([\"874965758\"], axis=1)\n",
        "test_my_X = pd.read_table('ml-100k/ua.test')\n",
        "test_my_X = test_my_X.rename(columns={\"1\": \"userId\", \"20\": \"movieId\", \"4\": \"rating\"})\n",
        "test_my_X = test_my_X.drop([\"887431883\"], axis = 1)\n",
        "\n",
        "train_my_Y = train_my_X['rating']\n",
        "test_my_Y = test_my_X['rating']\n",
        "test_my_X = test_my_X.drop(['rating'], axis=1)"
      ],
      "metadata": {
        "id": "X5jrOj-ilZSb"
      },
      "execution_count": 108,
      "outputs": []
    },
    {
      "cell_type": "code",
      "source": [
        "P = np.random.normal(0, 1, (len(train_my_X['userId'].drop_duplicates()), n_factors))\n",
        "Q = np.random.normal(0, 1, (n_factors, len(train_my_X['movieId'].drop_duplicates())))\n",
        "\n",
        "b_i = np.zeros(len(train_my_X['movieId'].drop_duplicates()))\n",
        "b_u = np.zeros(len(train_my_X['userId'].drop_duplicates()))\n",
        "\n",
        "result = ((np.dot(P, Q) + b_i).T + b_u).T\n",
        "\n",
        "sorted_movie = np.sort(train_my_X['movieId'].drop_duplicates())\n",
        "lst_ind = np.arange(0, 1680)\n",
        "\n",
        "def fit_SGD(lr, lambda_v, result, P, Q, b_u, b_i, iter_n):\n",
        "  for t in range(0, iter_n):\n",
        "    i = np.random.randint(90568)\n",
        "    p_u = train_my_X.iloc[i]['userId'] - 1\n",
        "    # q_i = train_my_X.iloc[i]['movieId'] - 2\n",
        "    q_i = np.where(sorted_movie == train_my_X.iloc[i]['movieId'])[0][0]\n",
        "    # q_i = np.where(np.array(train_my_X['movieId']) == train_my_X.iloc[i]['movieId'] )[0][0]\n",
        "    e_ij = train_my_Y[i] - result[p_u, q_i]\n",
        "    b_u = b_u + lr*(e_ij - lambda_v*b_u)\n",
        "    b_i = b_i + lr*(e_ij - lambda_v*b_i)\n",
        "    P[p_u] = P[p_u] + lr*(e_ij*Q[:, q_i] - lambda_v * P[p_u])\n",
        "    Q[:, q_i] = Q[:, q_i] + lr*(e_ij * P[p_u] - lambda_v * Q[:, q_i])\n",
        "    result = ((np.dot(P, Q) + b_i).T + b_u).T\n",
        "  return result\n",
        "\n",
        "def pred_r():\n",
        "  ans = np.array([])\n",
        "  for t in range (0, len(test_my_Y)):\n",
        "    i = test_my_X.iloc[t]['userId'] - 1\n",
        "    j = np.where(sorted_movie == train_my_X.iloc[t]['movieId'])[0][0]\n",
        "    # j = test_my_X.iloc[t]['movieId'] - 2\n",
        "    # print(np.dot(P[i], Q[:, j]) + b_u[i] + b_i[j])\n",
        "    ans = np.append(ans, result[i][j])\n",
        "  return ans"
      ],
      "metadata": {
        "id": "CNnCSLwImnnj"
      },
      "execution_count": 113,
      "outputs": []
    },
    {
      "cell_type": "code",
      "source": [
        "import time\n",
        "from sklearn.metrics import mean_squared_error"
      ],
      "metadata": {
        "id": "IkmQ18UAnrX5"
      },
      "execution_count": 116,
      "outputs": []
    },
    {
      "cell_type": "code",
      "source": [
        "x1 = [5000, 10000, 15000, 20000, 25000]\n",
        "a_mean = []\n",
        "b_basic = []\n",
        "time_SGD_n = []\n",
        "rmse_SGD_n = []\n",
        "for i in ([25000]):\n",
        "  n_factors = 4\n",
        "\n",
        "  P = np.random.normal(0, 1, (len(train_my_X['userId'].drop_duplicates()), n_factors))\n",
        "  Q = np.random.normal(0, 1, (n_factors, len(train_my_X['movieId'].drop_duplicates())))\n",
        "\n",
        "  b_i = np.zeros(len(train_my_X['movieId'].drop_duplicates()))\n",
        "  b_u = np.zeros(len(train_my_X['userId'].drop_duplicates()))\n",
        "\n",
        "  result = ((np.dot(P, Q) + b_i).T + b_u).T\n",
        "  start_time = time.time()\n",
        "  result = fit_SGD(0.005, 0.02, result, P, Q, b_u, b_i, i)\n",
        "  r_pred = pred_r()\n",
        "  print(\"--- %s seconds ---\" % (time.time() - start_time))\n",
        "  time_SGD_n.append([time.time() - start_time])\n",
        "  rmse_SGD_n.append(mean_squared_error(test_my_Y, r_pred, squared=False))"
      ],
      "metadata": {
        "colab": {
          "base_uri": "https://localhost:8080/"
        },
        "id": "pxNH_jcOnplQ",
        "outputId": "f37bd33d-93d6-46ef-8668-5c94a86fc5fb"
      },
      "execution_count": 119,
      "outputs": [
        {
          "output_type": "stream",
          "name": "stdout",
          "text": [
            "--- 339.33766889572144 seconds ---\n"
          ]
        }
      ]
    },
    {
      "cell_type": "code",
      "source": [
        "test_my_X['true_rating'] = test_my_Y\n",
        "test_my_X['pred_rating'] = r_pred"
      ],
      "metadata": {
        "id": "tUFNa3TLqdln"
      },
      "execution_count": 123,
      "outputs": []
    },
    {
      "cell_type": "markdown",
      "source": [
        "Качество при SVD"
      ],
      "metadata": {
        "id": "Tnqkv9vj2E-c"
      }
    },
    {
      "cell_type": "code",
      "source": [
        "acc_val_epoch_test = []\n",
        "\n",
        "for i in([3, 5, 10]):\n",
        "  for queu_test in test_my_X['userId'].unique():\n",
        "    q_10 = test_my_X[test_my_X['userId'] == queu_test]\n",
        "    doc_scores = q_10['pred_rating']\n",
        "\n",
        "    sorted_series = doc_scores.sort_values(ascending=False)\n",
        "    sorted_idxs = sorted_series.index - min(sorted_series.index)\n",
        "    acc_value = own_ndcg(np.array(q_10['true_rating'].iloc[list(sorted_idxs)])[np.newaxis, :], i, 3)\n",
        "    acc_val_epoch_test.append(acc_value)\n",
        "\n",
        "  print(\"NDCG_SVD with\", i, \"elements\")\n",
        "  print(np.array(acc_val_epoch_test).mean())"
      ],
      "metadata": {
        "colab": {
          "base_uri": "https://localhost:8080/"
        },
        "id": "56vzzJ6WqNir",
        "outputId": "a97fca8f-f78c-43e9-cbba-7f3e32699d93"
      },
      "execution_count": 156,
      "outputs": [
        {
          "output_type": "stream",
          "name": "stdout",
          "text": [
            "NDCG_SVD with 3 elements\n",
            "0.5812841306017431\n",
            "NDCG_SVD with 5 elements\n",
            "0.5822581741968068\n",
            "NDCG_SVD with 10 elements\n",
            "0.5817323697615465\n"
          ]
        }
      ]
    },
    {
      "cell_type": "markdown",
      "source": [
        "Качество при LambdaRank"
      ],
      "metadata": {
        "id": "C8f9OjjZ2IUf"
      }
    },
    {
      "cell_type": "code",
      "source": [
        "mean_acc_test_1 = []\n",
        "for i in([3, 5, 10]):\n",
        "  acc_val_epoch_test = []\n",
        "  model.eval()\n",
        "  with torch.no_grad():\n",
        "    for queu_test in test_my_X['userId'].unique():\n",
        "      q_10 = test_my_X[test_my_X['userId'] == queu_test]\n",
        "      docs = torch.from_numpy(np.array(q_10[list(lst_col)], dtype=\"float32\"))\n",
        "      docs = docs.to(device)\n",
        "      doc_scores = model(docs)\n",
        "\n",
        "      (sorted_scores, sorted_idxs) = doc_scores.sort(dim=0, descending=True)\n",
        "      acc_value = own_ndcg(np.array(q_10['rating'].iloc[list(sorted_idxs)])[np.newaxis, :], i, 3)\n",
        "      acc_val_epoch_test.append(acc_value)\n",
        "    mean_acc_test_1.append(np.array(acc_val_epoch_test).mean())"
      ],
      "metadata": {
        "id": "o_MvJL062LRL"
      },
      "execution_count": null,
      "outputs": []
    },
    {
      "cell_type": "code",
      "source": [
        "a = [3, 5, 10]\n",
        "j = -1\n",
        "for i in mean_acc_test_1:\n",
        "  j += 1\n",
        "  print(\"NDCG_LAMBDARANK with\", a[j], \"elements\")\n",
        "  print(i)"
      ],
      "metadata": {
        "colab": {
          "base_uri": "https://localhost:8080/"
        },
        "id": "0PQfsnsT3CAx",
        "outputId": "a309fc95-6aee-4434-b983-4d558c06a91b"
      },
      "execution_count": 164,
      "outputs": [
        {
          "output_type": "stream",
          "name": "stdout",
          "text": [
            "NDCG_LAMBDARANK with 3 elements\n",
            "0.6379792422900793\n",
            "NDCG_LAMBDARANK with 5 elements\n",
            "0.6278356903595199\n",
            "NDCG_LAMBDARANK with 10 elements\n",
            "0.5971201539274222\n"
          ]
        }
      ]
    },
    {
      "cell_type": "markdown",
      "source": [
        "Качество NDCG при SVD = 0.58. Можно сделать вывод, что SVD не силньно уступает по качеству нейронной сети с LambdaRank."
      ],
      "metadata": {
        "id": "ec18wnG6u_yf"
      }
    },
    {
      "cell_type": "markdown",
      "source": [
        "## Вывод"
      ],
      "metadata": {
        "id": "_JUs8G3e1ONa"
      }
    },
    {
      "cell_type": "markdown",
      "source": [
        "Нейронная сеть с LambdaRank довольно долго обучается и имеет качество  лучше чем при обычном SVD и выдает более точные результаты для первых значений. LambdRank даёт лучшее качество при малом кол-ве выдаваемых рекомендаций, в отличии от SVD( качество которого заметно не меняется при 10, 5, 3 элементах)."
      ],
      "metadata": {
        "id": "FTeZugwK1QoC"
      }
    },
    {
      "cell_type": "code",
      "source": [],
      "metadata": {
        "id": "D6JofnOS5eTn"
      },
      "execution_count": null,
      "outputs": []
    }
  ]
}